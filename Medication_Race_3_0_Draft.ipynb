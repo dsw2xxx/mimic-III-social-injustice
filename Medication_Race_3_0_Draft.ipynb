{
  "nbformat": 4,
  "nbformat_minor": 0,
  "metadata": {
    "colab": {
      "name": "Medication_Race_3.0_Draft.ipynb",
      "provenance": [],
      "collapsed_sections": [],
      "toc_visible": true,
      "machine_shape": "hm",
      "include_colab_link": true
    },
    "kernelspec": {
      "display_name": "Python 3",
      "language": "python",
      "name": "python3"
    },
    "language_info": {
      "codemirror_mode": {
        "name": "ipython",
        "version": 3
      },
      "file_extension": ".py",
      "mimetype": "text/x-python",
      "name": "python",
      "nbconvert_exporter": "python",
      "pygments_lexer": "ipython3",
      "version": "3.8.5"
    }
  },
  "cells": [
    {
      "cell_type": "markdown",
      "metadata": {
        "id": "view-in-github",
        "colab_type": "text"
      },
      "source": [
        "<a href=\"https://colab.research.google.com/github/jooyeongkang/social-injustice-mimic-III/blob/main/Medication_Race_3_0_Draft.ipynb\" target=\"_parent\"><img src=\"https://colab.research.google.com/assets/colab-badge.svg\" alt=\"Open In Colab\"/></a>"
      ]
    },
    {
      "cell_type": "code",
      "metadata": {
        "colab": {
          "base_uri": "https://localhost:8080/",
          "height": 54
        },
        "id": "jB1f2i7Xfsnb",
        "outputId": "f51dc638-a3d5-46b3-832c-702f1ff7bc61"
      },
      "source": [
        "from google.colab import drive\n",
        "drive.mount('/content/drive')\n",
        "\n",
        "'''from google.colab import files\n",
        "uploaded = files.upload()'''"
      ],
      "execution_count": 81,
      "outputs": [
        {
          "output_type": "stream",
          "text": [
            "Drive already mounted at /content/drive; to attempt to forcibly remount, call drive.mount(\"/content/drive\", force_remount=True).\n"
          ],
          "name": "stdout"
        },
        {
          "output_type": "execute_result",
          "data": {
            "application/vnd.google.colaboratory.intrinsic+json": {
              "type": "string"
            },
            "text/plain": [
              "'from google.colab import files\\nuploaded = files.upload()'"
            ]
          },
          "metadata": {
            "tags": []
          },
          "execution_count": 81
        }
      ]
    },
    {
      "cell_type": "markdown",
      "metadata": {
        "id": "7_5ZrOvPS90s"
      },
      "source": [
        "# Install Libraries\n",
        "---"
      ]
    },
    {
      "cell_type": "code",
      "metadata": {
        "id": "roh1TjsQDFd9"
      },
      "source": [
        "import pandas as pd\n",
        "import numpy as np\n",
        "import matplotlib.pyplot as plt\n",
        "import seaborn as sns\n",
        "\n",
        "from sklearn.utils import resample\n",
        "from statsmodels.formula.api import ols\n",
        "from statsmodels.stats.anova import anova_lm\n",
        "from statsmodels.sandbox.stats.multicomp import MultiComparison\n",
        "from statsmodels.stats.multicomp import pairwise_tukeyhsd\n",
        "import scipy.stats\n",
        "\n",
        "from IPython.display import display"
      ],
      "execution_count": 82,
      "outputs": []
    },
    {
      "cell_type": "markdown",
      "metadata": {
        "id": "DsLaKF4rDlpq"
      },
      "source": [
        "# **Load Data**\n",
        "\n",
        "---\n",
        "\n"
      ]
    },
    {
      "cell_type": "markdown",
      "metadata": {
        "id": "tRnod2rmHTMq"
      },
      "source": [
        "## ADMISSIONS.csv"
      ]
    },
    {
      "cell_type": "code",
      "metadata": {
        "colab": {
          "base_uri": "https://localhost:8080/",
          "height": 360
        },
        "id": "yGU7XV6tEobw",
        "outputId": "ebc910ed-cf96-4940-8a63-9fe83a0f1472"
      },
      "source": [
        "#df_admission = pd.read_csv('../mimic-iii-clinical-database-1.4/ADMISSIONS.csv')\n",
        "df_admission = pd.read_csv('/content/drive/MyDrive/UT Austin/Spring-2021/AI in Health/mimic-iii-clinical-database-1.4/ADMISSIONS.csv')\n",
        "print(df_admission.shape)\n",
        "df_admission.head()"
      ],
      "execution_count": 83,
      "outputs": [
        {
          "output_type": "stream",
          "text": [
            "(58976, 19)\n"
          ],
          "name": "stdout"
        },
        {
          "output_type": "execute_result",
          "data": {
            "text/html": [
              "<div>\n",
              "<style scoped>\n",
              "    .dataframe tbody tr th:only-of-type {\n",
              "        vertical-align: middle;\n",
              "    }\n",
              "\n",
              "    .dataframe tbody tr th {\n",
              "        vertical-align: top;\n",
              "    }\n",
              "\n",
              "    .dataframe thead th {\n",
              "        text-align: right;\n",
              "    }\n",
              "</style>\n",
              "<table border=\"1\" class=\"dataframe\">\n",
              "  <thead>\n",
              "    <tr style=\"text-align: right;\">\n",
              "      <th></th>\n",
              "      <th>ROW_ID</th>\n",
              "      <th>SUBJECT_ID</th>\n",
              "      <th>HADM_ID</th>\n",
              "      <th>ADMITTIME</th>\n",
              "      <th>DISCHTIME</th>\n",
              "      <th>DEATHTIME</th>\n",
              "      <th>ADMISSION_TYPE</th>\n",
              "      <th>ADMISSION_LOCATION</th>\n",
              "      <th>DISCHARGE_LOCATION</th>\n",
              "      <th>INSURANCE</th>\n",
              "      <th>LANGUAGE</th>\n",
              "      <th>RELIGION</th>\n",
              "      <th>MARITAL_STATUS</th>\n",
              "      <th>ETHNICITY</th>\n",
              "      <th>EDREGTIME</th>\n",
              "      <th>EDOUTTIME</th>\n",
              "      <th>DIAGNOSIS</th>\n",
              "      <th>HOSPITAL_EXPIRE_FLAG</th>\n",
              "      <th>HAS_CHARTEVENTS_DATA</th>\n",
              "    </tr>\n",
              "  </thead>\n",
              "  <tbody>\n",
              "    <tr>\n",
              "      <th>0</th>\n",
              "      <td>21</td>\n",
              "      <td>22</td>\n",
              "      <td>165315</td>\n",
              "      <td>2196-04-09 12:26:00</td>\n",
              "      <td>2196-04-10 15:54:00</td>\n",
              "      <td>NaN</td>\n",
              "      <td>EMERGENCY</td>\n",
              "      <td>EMERGENCY ROOM ADMIT</td>\n",
              "      <td>DISC-TRAN CANCER/CHLDRN H</td>\n",
              "      <td>Private</td>\n",
              "      <td>NaN</td>\n",
              "      <td>UNOBTAINABLE</td>\n",
              "      <td>MARRIED</td>\n",
              "      <td>WHITE</td>\n",
              "      <td>2196-04-09 10:06:00</td>\n",
              "      <td>2196-04-09 13:24:00</td>\n",
              "      <td>BENZODIAZEPINE OVERDOSE</td>\n",
              "      <td>0</td>\n",
              "      <td>1</td>\n",
              "    </tr>\n",
              "    <tr>\n",
              "      <th>1</th>\n",
              "      <td>22</td>\n",
              "      <td>23</td>\n",
              "      <td>152223</td>\n",
              "      <td>2153-09-03 07:15:00</td>\n",
              "      <td>2153-09-08 19:10:00</td>\n",
              "      <td>NaN</td>\n",
              "      <td>ELECTIVE</td>\n",
              "      <td>PHYS REFERRAL/NORMAL DELI</td>\n",
              "      <td>HOME HEALTH CARE</td>\n",
              "      <td>Medicare</td>\n",
              "      <td>NaN</td>\n",
              "      <td>CATHOLIC</td>\n",
              "      <td>MARRIED</td>\n",
              "      <td>WHITE</td>\n",
              "      <td>NaN</td>\n",
              "      <td>NaN</td>\n",
              "      <td>CORONARY ARTERY DISEASE\\CORONARY ARTERY BYPASS...</td>\n",
              "      <td>0</td>\n",
              "      <td>1</td>\n",
              "    </tr>\n",
              "    <tr>\n",
              "      <th>2</th>\n",
              "      <td>23</td>\n",
              "      <td>23</td>\n",
              "      <td>124321</td>\n",
              "      <td>2157-10-18 19:34:00</td>\n",
              "      <td>2157-10-25 14:00:00</td>\n",
              "      <td>NaN</td>\n",
              "      <td>EMERGENCY</td>\n",
              "      <td>TRANSFER FROM HOSP/EXTRAM</td>\n",
              "      <td>HOME HEALTH CARE</td>\n",
              "      <td>Medicare</td>\n",
              "      <td>ENGL</td>\n",
              "      <td>CATHOLIC</td>\n",
              "      <td>MARRIED</td>\n",
              "      <td>WHITE</td>\n",
              "      <td>NaN</td>\n",
              "      <td>NaN</td>\n",
              "      <td>BRAIN MASS</td>\n",
              "      <td>0</td>\n",
              "      <td>1</td>\n",
              "    </tr>\n",
              "    <tr>\n",
              "      <th>3</th>\n",
              "      <td>24</td>\n",
              "      <td>24</td>\n",
              "      <td>161859</td>\n",
              "      <td>2139-06-06 16:14:00</td>\n",
              "      <td>2139-06-09 12:48:00</td>\n",
              "      <td>NaN</td>\n",
              "      <td>EMERGENCY</td>\n",
              "      <td>TRANSFER FROM HOSP/EXTRAM</td>\n",
              "      <td>HOME</td>\n",
              "      <td>Private</td>\n",
              "      <td>NaN</td>\n",
              "      <td>PROTESTANT QUAKER</td>\n",
              "      <td>SINGLE</td>\n",
              "      <td>WHITE</td>\n",
              "      <td>NaN</td>\n",
              "      <td>NaN</td>\n",
              "      <td>INTERIOR MYOCARDIAL INFARCTION</td>\n",
              "      <td>0</td>\n",
              "      <td>1</td>\n",
              "    </tr>\n",
              "    <tr>\n",
              "      <th>4</th>\n",
              "      <td>25</td>\n",
              "      <td>25</td>\n",
              "      <td>129635</td>\n",
              "      <td>2160-11-02 02:06:00</td>\n",
              "      <td>2160-11-05 14:55:00</td>\n",
              "      <td>NaN</td>\n",
              "      <td>EMERGENCY</td>\n",
              "      <td>EMERGENCY ROOM ADMIT</td>\n",
              "      <td>HOME</td>\n",
              "      <td>Private</td>\n",
              "      <td>NaN</td>\n",
              "      <td>UNOBTAINABLE</td>\n",
              "      <td>MARRIED</td>\n",
              "      <td>WHITE</td>\n",
              "      <td>2160-11-02 01:01:00</td>\n",
              "      <td>2160-11-02 04:27:00</td>\n",
              "      <td>ACUTE CORONARY SYNDROME</td>\n",
              "      <td>0</td>\n",
              "      <td>1</td>\n",
              "    </tr>\n",
              "  </tbody>\n",
              "</table>\n",
              "</div>"
            ],
            "text/plain": [
              "   ROW_ID  SUBJECT_ID  ...  HOSPITAL_EXPIRE_FLAG HAS_CHARTEVENTS_DATA\n",
              "0      21          22  ...                     0                    1\n",
              "1      22          23  ...                     0                    1\n",
              "2      23          23  ...                     0                    1\n",
              "3      24          24  ...                     0                    1\n",
              "4      25          25  ...                     0                    1\n",
              "\n",
              "[5 rows x 19 columns]"
            ]
          },
          "metadata": {
            "tags": []
          },
          "execution_count": 83
        }
      ]
    },
    {
      "cell_type": "markdown",
      "metadata": {
        "id": "JKQydyA0fjsD"
      },
      "source": [
        "## PATIENTS.csv"
      ]
    },
    {
      "cell_type": "code",
      "metadata": {
        "id": "5kZa6Y-cfjsD",
        "colab": {
          "base_uri": "https://localhost:8080/",
          "height": 221
        },
        "outputId": "04e5cfb5-34df-437b-db4b-a1c44cfcba71"
      },
      "source": [
        "#df_patient = pd.read_csv('../mimic-iii-clinical-database-1.4/PATIENTS.csv')\n",
        "df_patient = pd.read_csv('/content/drive/MyDrive/UT Austin/Spring-2021/AI in Health/mimic-iii-clinical-database-1.4/PATIENTS.csv')\n",
        "print(df_patient.shape)\n",
        "df_patient.head()"
      ],
      "execution_count": 84,
      "outputs": [
        {
          "output_type": "stream",
          "text": [
            "(46520, 8)\n"
          ],
          "name": "stdout"
        },
        {
          "output_type": "execute_result",
          "data": {
            "text/html": [
              "<div>\n",
              "<style scoped>\n",
              "    .dataframe tbody tr th:only-of-type {\n",
              "        vertical-align: middle;\n",
              "    }\n",
              "\n",
              "    .dataframe tbody tr th {\n",
              "        vertical-align: top;\n",
              "    }\n",
              "\n",
              "    .dataframe thead th {\n",
              "        text-align: right;\n",
              "    }\n",
              "</style>\n",
              "<table border=\"1\" class=\"dataframe\">\n",
              "  <thead>\n",
              "    <tr style=\"text-align: right;\">\n",
              "      <th></th>\n",
              "      <th>ROW_ID</th>\n",
              "      <th>SUBJECT_ID</th>\n",
              "      <th>GENDER</th>\n",
              "      <th>DOB</th>\n",
              "      <th>DOD</th>\n",
              "      <th>DOD_HOSP</th>\n",
              "      <th>DOD_SSN</th>\n",
              "      <th>EXPIRE_FLAG</th>\n",
              "    </tr>\n",
              "  </thead>\n",
              "  <tbody>\n",
              "    <tr>\n",
              "      <th>0</th>\n",
              "      <td>234</td>\n",
              "      <td>249</td>\n",
              "      <td>F</td>\n",
              "      <td>2075-03-13 00:00:00</td>\n",
              "      <td>NaN</td>\n",
              "      <td>NaN</td>\n",
              "      <td>NaN</td>\n",
              "      <td>0</td>\n",
              "    </tr>\n",
              "    <tr>\n",
              "      <th>1</th>\n",
              "      <td>235</td>\n",
              "      <td>250</td>\n",
              "      <td>F</td>\n",
              "      <td>2164-12-27 00:00:00</td>\n",
              "      <td>2188-11-22 00:00:00</td>\n",
              "      <td>2188-11-22 00:00:00</td>\n",
              "      <td>NaN</td>\n",
              "      <td>1</td>\n",
              "    </tr>\n",
              "    <tr>\n",
              "      <th>2</th>\n",
              "      <td>236</td>\n",
              "      <td>251</td>\n",
              "      <td>M</td>\n",
              "      <td>2090-03-15 00:00:00</td>\n",
              "      <td>NaN</td>\n",
              "      <td>NaN</td>\n",
              "      <td>NaN</td>\n",
              "      <td>0</td>\n",
              "    </tr>\n",
              "    <tr>\n",
              "      <th>3</th>\n",
              "      <td>237</td>\n",
              "      <td>252</td>\n",
              "      <td>M</td>\n",
              "      <td>2078-03-06 00:00:00</td>\n",
              "      <td>NaN</td>\n",
              "      <td>NaN</td>\n",
              "      <td>NaN</td>\n",
              "      <td>0</td>\n",
              "    </tr>\n",
              "    <tr>\n",
              "      <th>4</th>\n",
              "      <td>238</td>\n",
              "      <td>253</td>\n",
              "      <td>F</td>\n",
              "      <td>2089-11-26 00:00:00</td>\n",
              "      <td>NaN</td>\n",
              "      <td>NaN</td>\n",
              "      <td>NaN</td>\n",
              "      <td>0</td>\n",
              "    </tr>\n",
              "  </tbody>\n",
              "</table>\n",
              "</div>"
            ],
            "text/plain": [
              "   ROW_ID  SUBJECT_ID GENDER  ...             DOD_HOSP DOD_SSN EXPIRE_FLAG\n",
              "0     234         249      F  ...                  NaN     NaN           0\n",
              "1     235         250      F  ...  2188-11-22 00:00:00     NaN           1\n",
              "2     236         251      M  ...                  NaN     NaN           0\n",
              "3     237         252      M  ...                  NaN     NaN           0\n",
              "4     238         253      F  ...                  NaN     NaN           0\n",
              "\n",
              "[5 rows x 8 columns]"
            ]
          },
          "metadata": {
            "tags": []
          },
          "execution_count": 84
        }
      ]
    },
    {
      "cell_type": "markdown",
      "metadata": {
        "id": "2i95GZ__wjx2"
      },
      "source": [
        "## **DIAGNOSES_ICD**.csv"
      ]
    },
    {
      "cell_type": "code",
      "metadata": {
        "colab": {
          "base_uri": "https://localhost:8080/",
          "height": 221
        },
        "id": "D_7J0hDTwjSq",
        "outputId": "93345420-bf55-47b5-f6d2-d00f8529a17a"
      },
      "source": [
        "#df_diagnoses_icd = pd.read_csv('../mimic-iii-clinical-database-1.4/DIAGNOSES_ICD.csv')\n",
        "df_diagnoses_icd = pd.read_csv('/content/drive/MyDrive/UT Austin/Spring-2021/AI in Health/mimic-iii-clinical-database-1.4/DIAGNOSES_ICD.csv')\n",
        "print(df_diagnoses_icd.shape)\n",
        "df_diagnoses_icd.head()"
      ],
      "execution_count": 85,
      "outputs": [
        {
          "output_type": "stream",
          "text": [
            "(651047, 5)\n"
          ],
          "name": "stdout"
        },
        {
          "output_type": "execute_result",
          "data": {
            "text/html": [
              "<div>\n",
              "<style scoped>\n",
              "    .dataframe tbody tr th:only-of-type {\n",
              "        vertical-align: middle;\n",
              "    }\n",
              "\n",
              "    .dataframe tbody tr th {\n",
              "        vertical-align: top;\n",
              "    }\n",
              "\n",
              "    .dataframe thead th {\n",
              "        text-align: right;\n",
              "    }\n",
              "</style>\n",
              "<table border=\"1\" class=\"dataframe\">\n",
              "  <thead>\n",
              "    <tr style=\"text-align: right;\">\n",
              "      <th></th>\n",
              "      <th>ROW_ID</th>\n",
              "      <th>SUBJECT_ID</th>\n",
              "      <th>HADM_ID</th>\n",
              "      <th>SEQ_NUM</th>\n",
              "      <th>ICD9_CODE</th>\n",
              "    </tr>\n",
              "  </thead>\n",
              "  <tbody>\n",
              "    <tr>\n",
              "      <th>0</th>\n",
              "      <td>1297</td>\n",
              "      <td>109</td>\n",
              "      <td>172335</td>\n",
              "      <td>1.0</td>\n",
              "      <td>40301</td>\n",
              "    </tr>\n",
              "    <tr>\n",
              "      <th>1</th>\n",
              "      <td>1298</td>\n",
              "      <td>109</td>\n",
              "      <td>172335</td>\n",
              "      <td>2.0</td>\n",
              "      <td>486</td>\n",
              "    </tr>\n",
              "    <tr>\n",
              "      <th>2</th>\n",
              "      <td>1299</td>\n",
              "      <td>109</td>\n",
              "      <td>172335</td>\n",
              "      <td>3.0</td>\n",
              "      <td>58281</td>\n",
              "    </tr>\n",
              "    <tr>\n",
              "      <th>3</th>\n",
              "      <td>1300</td>\n",
              "      <td>109</td>\n",
              "      <td>172335</td>\n",
              "      <td>4.0</td>\n",
              "      <td>5855</td>\n",
              "    </tr>\n",
              "    <tr>\n",
              "      <th>4</th>\n",
              "      <td>1301</td>\n",
              "      <td>109</td>\n",
              "      <td>172335</td>\n",
              "      <td>5.0</td>\n",
              "      <td>4254</td>\n",
              "    </tr>\n",
              "  </tbody>\n",
              "</table>\n",
              "</div>"
            ],
            "text/plain": [
              "   ROW_ID  SUBJECT_ID  HADM_ID  SEQ_NUM ICD9_CODE\n",
              "0    1297         109   172335      1.0     40301\n",
              "1    1298         109   172335      2.0       486\n",
              "2    1299         109   172335      3.0     58281\n",
              "3    1300         109   172335      4.0      5855\n",
              "4    1301         109   172335      5.0      4254"
            ]
          },
          "metadata": {
            "tags": []
          },
          "execution_count": 85
        }
      ]
    },
    {
      "cell_type": "markdown",
      "metadata": {
        "id": "bbdVAeqIHWET"
      },
      "source": [
        "## PRESCRIPTIONS.csv"
      ]
    },
    {
      "cell_type": "code",
      "metadata": {
        "colab": {
          "base_uri": "https://localhost:8080/",
          "height": 445
        },
        "id": "_8IAuYvcFKrS",
        "outputId": "c97d631d-91bf-476e-c5e8-5457d1d35e80"
      },
      "source": [
        "#df_prescription = pd.read_csv('../mimic-iii-clinical-database-1.4/PRESCRIPTIONS.csv')\n",
        "df_prescription = pd.read_csv('/content/drive/MyDrive/UT Austin/Spring-2021/AI in Health/mimic-iii-clinical-database-1.4/PRESCRIPTIONS.csv')\n",
        "print(df_prescription.shape)\n",
        "df_prescription.head()"
      ],
      "execution_count": 86,
      "outputs": [
        {
          "output_type": "stream",
          "text": [
            "/usr/local/lib/python3.7/dist-packages/IPython/core/interactiveshell.py:2718: DtypeWarning: Columns (11) have mixed types.Specify dtype option on import or set low_memory=False.\n",
            "  interactivity=interactivity, compiler=compiler, result=result)\n"
          ],
          "name": "stderr"
        },
        {
          "output_type": "stream",
          "text": [
            "(4156450, 19)\n"
          ],
          "name": "stdout"
        },
        {
          "output_type": "execute_result",
          "data": {
            "text/html": [
              "<div>\n",
              "<style scoped>\n",
              "    .dataframe tbody tr th:only-of-type {\n",
              "        vertical-align: middle;\n",
              "    }\n",
              "\n",
              "    .dataframe tbody tr th {\n",
              "        vertical-align: top;\n",
              "    }\n",
              "\n",
              "    .dataframe thead th {\n",
              "        text-align: right;\n",
              "    }\n",
              "</style>\n",
              "<table border=\"1\" class=\"dataframe\">\n",
              "  <thead>\n",
              "    <tr style=\"text-align: right;\">\n",
              "      <th></th>\n",
              "      <th>ROW_ID</th>\n",
              "      <th>SUBJECT_ID</th>\n",
              "      <th>HADM_ID</th>\n",
              "      <th>ICUSTAY_ID</th>\n",
              "      <th>STARTDATE</th>\n",
              "      <th>ENDDATE</th>\n",
              "      <th>DRUG_TYPE</th>\n",
              "      <th>DRUG</th>\n",
              "      <th>DRUG_NAME_POE</th>\n",
              "      <th>DRUG_NAME_GENERIC</th>\n",
              "      <th>FORMULARY_DRUG_CD</th>\n",
              "      <th>GSN</th>\n",
              "      <th>NDC</th>\n",
              "      <th>PROD_STRENGTH</th>\n",
              "      <th>DOSE_VAL_RX</th>\n",
              "      <th>DOSE_UNIT_RX</th>\n",
              "      <th>FORM_VAL_DISP</th>\n",
              "      <th>FORM_UNIT_DISP</th>\n",
              "      <th>ROUTE</th>\n",
              "    </tr>\n",
              "  </thead>\n",
              "  <tbody>\n",
              "    <tr>\n",
              "      <th>0</th>\n",
              "      <td>2214776</td>\n",
              "      <td>6</td>\n",
              "      <td>107064</td>\n",
              "      <td>NaN</td>\n",
              "      <td>2175-06-11 00:00:00</td>\n",
              "      <td>2175-06-12 00:00:00</td>\n",
              "      <td>MAIN</td>\n",
              "      <td>Tacrolimus</td>\n",
              "      <td>Tacrolimus</td>\n",
              "      <td>Tacrolimus</td>\n",
              "      <td>TACR1</td>\n",
              "      <td>021796</td>\n",
              "      <td>469061711.0</td>\n",
              "      <td>1mg Capsule</td>\n",
              "      <td>2</td>\n",
              "      <td>mg</td>\n",
              "      <td>2</td>\n",
              "      <td>CAP</td>\n",
              "      <td>PO</td>\n",
              "    </tr>\n",
              "    <tr>\n",
              "      <th>1</th>\n",
              "      <td>2214775</td>\n",
              "      <td>6</td>\n",
              "      <td>107064</td>\n",
              "      <td>NaN</td>\n",
              "      <td>2175-06-11 00:00:00</td>\n",
              "      <td>2175-06-12 00:00:00</td>\n",
              "      <td>MAIN</td>\n",
              "      <td>Warfarin</td>\n",
              "      <td>Warfarin</td>\n",
              "      <td>Warfarin</td>\n",
              "      <td>WARF5</td>\n",
              "      <td>006562</td>\n",
              "      <td>56017275.0</td>\n",
              "      <td>5mg Tablet</td>\n",
              "      <td>5</td>\n",
              "      <td>mg</td>\n",
              "      <td>1</td>\n",
              "      <td>TAB</td>\n",
              "      <td>PO</td>\n",
              "    </tr>\n",
              "    <tr>\n",
              "      <th>2</th>\n",
              "      <td>2215524</td>\n",
              "      <td>6</td>\n",
              "      <td>107064</td>\n",
              "      <td>NaN</td>\n",
              "      <td>2175-06-11 00:00:00</td>\n",
              "      <td>2175-06-12 00:00:00</td>\n",
              "      <td>MAIN</td>\n",
              "      <td>Heparin Sodium</td>\n",
              "      <td>NaN</td>\n",
              "      <td>NaN</td>\n",
              "      <td>HEPAPREMIX</td>\n",
              "      <td>006522</td>\n",
              "      <td>338055002.0</td>\n",
              "      <td>25,000 unit Premix Bag</td>\n",
              "      <td>25,000</td>\n",
              "      <td>UNIT</td>\n",
              "      <td>1</td>\n",
              "      <td>BAG</td>\n",
              "      <td>IV</td>\n",
              "    </tr>\n",
              "    <tr>\n",
              "      <th>3</th>\n",
              "      <td>2216265</td>\n",
              "      <td>6</td>\n",
              "      <td>107064</td>\n",
              "      <td>NaN</td>\n",
              "      <td>2175-06-11 00:00:00</td>\n",
              "      <td>2175-06-12 00:00:00</td>\n",
              "      <td>BASE</td>\n",
              "      <td>D5W</td>\n",
              "      <td>NaN</td>\n",
              "      <td>NaN</td>\n",
              "      <td>HEPBASE</td>\n",
              "      <td>NaN</td>\n",
              "      <td>0.0</td>\n",
              "      <td>HEPARIN BASE</td>\n",
              "      <td>250</td>\n",
              "      <td>ml</td>\n",
              "      <td>250</td>\n",
              "      <td>ml</td>\n",
              "      <td>IV</td>\n",
              "    </tr>\n",
              "    <tr>\n",
              "      <th>4</th>\n",
              "      <td>2214773</td>\n",
              "      <td>6</td>\n",
              "      <td>107064</td>\n",
              "      <td>NaN</td>\n",
              "      <td>2175-06-11 00:00:00</td>\n",
              "      <td>2175-06-12 00:00:00</td>\n",
              "      <td>MAIN</td>\n",
              "      <td>Furosemide</td>\n",
              "      <td>Furosemide</td>\n",
              "      <td>Furosemide</td>\n",
              "      <td>FURO20</td>\n",
              "      <td>008208</td>\n",
              "      <td>54829725.0</td>\n",
              "      <td>20mg Tablet</td>\n",
              "      <td>20</td>\n",
              "      <td>mg</td>\n",
              "      <td>1</td>\n",
              "      <td>TAB</td>\n",
              "      <td>PO</td>\n",
              "    </tr>\n",
              "  </tbody>\n",
              "</table>\n",
              "</div>"
            ],
            "text/plain": [
              "    ROW_ID  SUBJECT_ID  HADM_ID  ...  FORM_VAL_DISP FORM_UNIT_DISP ROUTE\n",
              "0  2214776           6   107064  ...              2            CAP    PO\n",
              "1  2214775           6   107064  ...              1            TAB    PO\n",
              "2  2215524           6   107064  ...              1            BAG    IV\n",
              "3  2216265           6   107064  ...            250             ml    IV\n",
              "4  2214773           6   107064  ...              1            TAB    PO\n",
              "\n",
              "[5 rows x 19 columns]"
            ]
          },
          "metadata": {
            "tags": []
          },
          "execution_count": 86
        }
      ]
    },
    {
      "cell_type": "markdown",
      "metadata": {
        "id": "Ip38ZcwvTQQO"
      },
      "source": [
        "# Define Functions\n",
        "---"
      ]
    },
    {
      "cell_type": "code",
      "metadata": {
        "colab": {
          "base_uri": "https://localhost:8080/"
        },
        "id": "4YzpHgGFxVAU",
        "outputId": "002b6f17-fdc6-4505-fea9-ca8dd836e5c7"
      },
      "source": [
        "df_pneumonia.loc[df_pneumonia['ETHNICITY'] != 'UNKNOWN/NOT SPECIFIED', 'D5W']"
      ],
      "execution_count": 155,
      "outputs": [
        {
          "output_type": "execute_result",
          "data": {
            "text/plain": [
              "0       0\n",
              "1       7\n",
              "2       0\n",
              "3       6\n",
              "4       0\n",
              "       ..\n",
              "1302    0\n",
              "1303    0\n",
              "1304    1\n",
              "1305    0\n",
              "1306    0\n",
              "Name: D5W, Length: 1237, dtype: uint8"
            ]
          },
          "metadata": {
            "tags": []
          },
          "execution_count": 155
        }
      ]
    },
    {
      "cell_type": "code",
      "metadata": {
        "colab": {
          "base_uri": "https://localhost:8080/"
        },
        "id": "tJYjulaJzLjr",
        "outputId": "a941c26c-7531-4315-a774-0aa3eb7fd66e"
      },
      "source": [
        "ethnicity_tmp"
      ],
      "execution_count": 157,
      "outputs": [
        {
          "output_type": "execute_result",
          "data": {
            "text/plain": [
              "['WHITE', 'BLACK/AFRICAN AMERICAN', 'HISPANIC/LATINO', 'ASIAN']"
            ]
          },
          "metadata": {
            "tags": []
          },
          "execution_count": 157
        }
      ]
    },
    {
      "cell_type": "code",
      "metadata": {
        "id": "R2PvUvF_08Si"
      },
      "source": [
        "fig, axs = plt.subplots(2, 2)\n",
        "axs[0, 0].plot(x, y)\n",
        "axs[0, 0].set_title('Axis [0, 0]')\n",
        "axs[0, 1].plot(x, y, 'tab:orange')\n",
        "axs[0, 1].set_title('Axis [0, 1]')\n",
        "axs[1, 0].plot(x, -y, 'tab:green')\n",
        "axs[1, 0].set_title('Axis [1, 0]')\n",
        "axs[1, 1].plot(x, -y, 'tab:red')\n",
        "axs[1, 1].set_title('Axis [1, 1]')\n",
        "\n",
        "for ax in axs.flat:\n",
        "    ax.set(xlabel='x-label', ylabel='y-label')\n",
        "\n",
        "# Hide x labels and tick labels for top plots and y ticks for right plots.\n",
        "for ax in axs.flat:\n",
        "    ax.label_outer()"
      ],
      "execution_count": null,
      "outputs": []
    },
    {
      "cell_type": "code",
      "metadata": {
        "colab": {
          "base_uri": "https://localhost:8080/"
        },
        "id": "53S7nMaUxO88",
        "outputId": "ab0ae5e0-d617-4e89-e6e3-a4b25d587ab6"
      },
      "source": [
        "for drug in top_drug_df_pneumonia:\n",
        "\n",
        "  tmp_anova = df_pneumonia[['ETHNICITY', drug]]\n",
        "  tmp_anova.columns = ['ETHNICITY', 'DRUG']\n",
        "\n",
        "  model = ols('DRUG ~ C(ETHNICITY)', tmp_anova).fit()\n",
        "  table = anova_lm(model)\n",
        "  print(drug)\n",
        "  print(table)"
      ],
      "execution_count": 176,
      "outputs": [
        {
          "output_type": "stream",
          "text": [
            "Potassium Chloride\n",
            "                  df        sum_sq    mean_sq         F    PR(>F)\n",
            "C(ETHNICITY)     4.0    120.018441  30.004610  0.762702  0.549563\n",
            "Residual      1302.0  51220.546211  39.339897       NaN       NaN\n",
            "0.9% Sodium Chloride\n",
            "                  df        sum_sq     mean_sq         F    PR(>F)\n",
            "C(ETHNICITY)     4.0    699.148785  174.787196  3.928945  0.003552\n",
            "Residual      1302.0  57922.142722   44.487053       NaN       NaN\n",
            "Iso-Osmotic Dextrose\n",
            "                  df       sum_sq   mean_sq         F    PR(>F)\n",
            "C(ETHNICITY)     4.0    31.691851  7.922963  1.034201  0.388251\n",
            "Residual      1302.0  9974.552984  7.660947       NaN       NaN\n",
            "Furosemide\n",
            "                  df        sum_sq    mean_sq        F    PR(>F)\n",
            "C(ETHNICITY)     4.0    187.868664  46.967166  1.64068  0.161589\n",
            "Residual      1302.0  37271.889561  28.626643      NaN       NaN\n",
            "NS\n",
            "                  df        sum_sq    mean_sq         F    PR(>F)\n",
            "C(ETHNICITY)     4.0    235.928318  58.982080  1.717608  0.143606\n",
            "Residual      1302.0  44710.241536  34.339663       NaN       NaN\n",
            "Insulin\n",
            "                  df        sum_sq    mean_sq         F   PR(>F)\n",
            "C(ETHNICITY)     4.0     23.819425   5.954856  0.153032  0.96167\n",
            "Residual      1302.0  50664.041325  38.912474       NaN      NaN\n",
            "D5W\n",
            "                  df        sum_sq    mean_sq         F    PR(>F)\n",
            "C(ETHNICITY)     4.0    166.708155  41.677039  1.436636  0.219563\n",
            "Residual      1302.0  37771.232166  29.010163       NaN       NaN\n",
            "Vancomycin\n",
            "                  df       sum_sq   mean_sq         F    PR(>F)\n",
            "C(ETHNICITY)     4.0     5.031424  1.257856  0.223487  0.925373\n",
            "Residual      1302.0  7328.071866  5.628319       NaN       NaN\n",
            "5% Dextrose\n",
            "                  df        sum_sq    mean_sq         F    PR(>F)\n",
            "C(ETHNICITY)     4.0     98.896717  24.724179  1.499878  0.199872\n",
            "Residual      1302.0  21462.333581  16.484127       NaN       NaN\n",
            "Magnesium Sulfate\n",
            "                  df        sum_sq   mean_sq         F    PR(>F)\n",
            "C(ETHNICITY)     4.0      6.732303  1.683076  0.205924  0.935193\n",
            "Residual      1302.0  10641.619648  8.173287       NaN       NaN\n"
          ],
          "name": "stdout"
        }
      ]
    },
    {
      "cell_type": "code",
      "metadata": {
        "id": "veuUyr2eZatL"
      },
      "source": [
        "def countplot(data, column, figsize):\n",
        "    \n",
        "    fig, ax = plt.subplots(figsize=figsize)\n",
        "    \n",
        "    count_plot = sns.countplot(x=column, data=data, ax=ax)\n",
        "\n",
        "    # Display count for each bar\n",
        "    count_plot.set_xticklabels(count_plot.get_xticklabels())\n",
        "    for p in count_plot.patches:\n",
        "        height = p.get_height()\n",
        "        count_plot.text(p.get_x()+p.get_width()/2., height + 0.1, height,ha=\"center\")\n",
        "    plt.show()\n",
        "\n",
        "\n",
        "def unsampling(df):\n",
        "  # Oversample the minority class by using SMOTE\n",
        "  white = df.loc[df['ETHNICITY'] == 'WHITE']\n",
        "  others = df.loc[(df['ETHNICITY'] == 'BLACK/AFRICAN AMERICAN') | (df['ETHNICITY'] == 'HISPANIC/LATINO') |\n",
        "                  (df['ETHNICITY'] == 'ASIAN') | (df['ETHNICITY'] == 'UNKNOWN/NOT SPECIFIED')]\n",
        "\n",
        "  white_undersample = resample(\n",
        "      white,\n",
        "      replace = False,\n",
        "      n_samples = len(others),\n",
        "      random_state=42\n",
        "  )\n",
        "\n",
        "  df_undersample = pd.concat([white_undersample, others], axis=0)\n",
        "\n",
        "  # Display count for each bar\n",
        "  plt.figure(figsize=(10, 5))\n",
        "  count_plot = sns.countplot(x='ETHNICITY', data=df_undersample)\n",
        "  count_plot.set_xticklabels(count_plot.get_xticklabels())\n",
        "  for p in count_plot.patches:\n",
        "      height = p.get_height()\n",
        "      count_plot.text(p.get_x()+p.get_width()/2., height + 0.1, height, ha=\"center\")\n",
        "  plt.show()\n",
        "\n",
        "  return df_undersample\n",
        "\n",
        "\n",
        "def mean_drug_race(df, top_drug):\n",
        "\n",
        "  df_mean = pd.DataFrame(ethnicity_tmp, columns=['ETHNICITY'])\n",
        "\n",
        "  for drug in top_drug:\n",
        "      mean_drug = []\n",
        "      for race in ethnicity_tmp:\n",
        "        mean_drug.append(df.loc[df['ETHNICITY'] == race, drug].mean())   \n",
        "      df_mean = pd.concat([df_mean, pd.DataFrame(mean_drug, columns=[drug])], axis=1)\n",
        "\n",
        "  return df_mean\n",
        "\n",
        "\n",
        "def plot_mean_drug_race(df_mean, top_drug):\n",
        "\n",
        "  data = []\n",
        "\n",
        "  for drug in df_mean:\n",
        "    if drug != 'ETHNICITY':\n",
        "      data.append(list(df_mean[drug]))\n",
        "\n",
        "  data = np.array(data)\n",
        "  length = len(data)\n",
        "  x_label = top_drug\n",
        "  \n",
        "  fig, ax = plt.subplots(figsize=(30, 10))\n",
        "  width = 1.0\n",
        "  x = np.arange(0, length*5, 5)\n",
        "\n",
        "  ax.bar(x, data[:,0], width, color='#F1948A', label='WHITE')\n",
        "  ax.bar(x + width, data[:,1], width, color='#F7DC6F', label='BLACK/AFRICAN AMERICAN')\n",
        "  ax.bar(x + (width*2), data[:,2], width, color='#7DCEA0', label='HISPANIC/LATINO')\n",
        "  ax.bar(x + (width*3), data[:,3], width, color='#85C1E9', label='ASIAN')\n",
        "\n",
        "  ax.set_ylabel('Mean of Prescription')\n",
        "  ax.set_ylim(0,10)\n",
        "  ax.set_xlabel('Top 10 Drugs')\n",
        "  ax.set_xticks(x + width + width/2)\n",
        "  ax.set_xticklabels(x_label)\n",
        "  ax.set_title('Prescription per race')\n",
        "  ax.legend()\n",
        "  \n",
        "  plt.show()\n",
        "\n",
        "\n",
        "def analysis(df, top_drug):\n",
        "\n",
        "  #countplot(df.loc[df['ETHNICITY'] != 'UNKNOWN/NOT SPECIFIED'], 'ETHNICITY', (10,6))\n",
        "\n",
        "  #df = unsampling(df)\n",
        "\n",
        "  df_mean = mean_drug_race(df.loc[df['ETHNICITY'] != 'UNKNOWN/NOT SPECIFIED'], top_drug)\n",
        "  display(df_mean)\n",
        "\n",
        "  plot_mean_drug_race(df_mean, top_drug)"
      ],
      "execution_count": 87,
      "outputs": []
    },
    {
      "cell_type": "markdown",
      "metadata": {
        "id": "ihtIkxyxHo6S"
      },
      "source": [
        "# **Preprocess Data**\n",
        "---"
      ]
    },
    {
      "cell_type": "markdown",
      "metadata": {
        "id": "B-H79oK8WsEM"
      },
      "source": [
        "## **ADMISSIONS.csv**"
      ]
    },
    {
      "cell_type": "code",
      "metadata": {
        "id": "9TisJPTcfjsG",
        "colab": {
          "base_uri": "https://localhost:8080/"
        },
        "outputId": "b23d2124-6660-4562-a515-ffc4fcaa66dd"
      },
      "source": [
        "if df_admission.isnull().values.any() == True:\n",
        "    print('Missing value exists in {}.\\nThe number of missing values is as follows:\\n{}'.format('ADMISSIONS.csv', df_admission.isnull().sum()))\n",
        "else:\n",
        "    print('Missing value does not exist.')"
      ],
      "execution_count": 88,
      "outputs": [
        {
          "output_type": "stream",
          "text": [
            "Missing value exists in ADMISSIONS.csv.\n",
            "The number of missing values is as follows:\n",
            "ROW_ID                      0\n",
            "SUBJECT_ID                  0\n",
            "HADM_ID                     0\n",
            "ADMITTIME                   0\n",
            "DISCHTIME                   0\n",
            "DEATHTIME               53122\n",
            "ADMISSION_TYPE              0\n",
            "ADMISSION_LOCATION          0\n",
            "DISCHARGE_LOCATION          0\n",
            "INSURANCE                   0\n",
            "LANGUAGE                25332\n",
            "RELIGION                  458\n",
            "MARITAL_STATUS          10128\n",
            "ETHNICITY                   0\n",
            "EDREGTIME               28099\n",
            "EDOUTTIME               28099\n",
            "DIAGNOSIS                  25\n",
            "HOSPITAL_EXPIRE_FLAG        0\n",
            "HAS_CHARTEVENTS_DATA        0\n",
            "dtype: int64\n"
          ],
          "name": "stdout"
        }
      ]
    },
    {
      "cell_type": "markdown",
      "metadata": {
        "id": "lE6weRFPY-pi"
      },
      "source": [
        "### **ETHNICITY**"
      ]
    },
    {
      "cell_type": "markdown",
      "metadata": {
        "id": "BxxtDS-ZfjsH"
      },
      "source": [
        "#### Check for missing value"
      ]
    },
    {
      "cell_type": "code",
      "metadata": {
        "id": "bJQXU73nfjsH",
        "colab": {
          "base_uri": "https://localhost:8080/"
        },
        "outputId": "07c96a89-0713-4a97-e59e-7b63f8702018"
      },
      "source": [
        "if df_admission['ETHNICITY'].isnull().values.any() == True:\n",
        "    print('Missing value exists. The number of missing values is {}'.format(df_admission['ETHNICITY'].isnull().sum()))\n",
        "else:\n",
        "    print('Missing value does not exist.')"
      ],
      "execution_count": 89,
      "outputs": [
        {
          "output_type": "stream",
          "text": [
            "Missing value does not exist.\n"
          ],
          "name": "stdout"
        }
      ]
    },
    {
      "cell_type": "code",
      "metadata": {
        "colab": {
          "base_uri": "https://localhost:8080/"
        },
        "id": "iB6sjDRwaBcc",
        "outputId": "fbf5dddc-6974-47ca-c699-a1433f9539d9"
      },
      "source": [
        "df_admission['ETHNICITY'].unique()"
      ],
      "execution_count": 90,
      "outputs": [
        {
          "output_type": "execute_result",
          "data": {
            "text/plain": [
              "array(['WHITE', 'UNKNOWN/NOT SPECIFIED', 'MULTI RACE ETHNICITY',\n",
              "       'BLACK/AFRICAN AMERICAN', 'HISPANIC OR LATINO',\n",
              "       'PATIENT DECLINED TO ANSWER', 'ASIAN', 'OTHER',\n",
              "       'HISPANIC/LATINO - GUATEMALAN', 'ASIAN - VIETNAMESE',\n",
              "       'AMERICAN INDIAN/ALASKA NATIVE', 'WHITE - RUSSIAN',\n",
              "       'HISPANIC/LATINO - PUERTO RICAN', 'ASIAN - CHINESE',\n",
              "       'ASIAN - ASIAN INDIAN', 'BLACK/AFRICAN',\n",
              "       'HISPANIC/LATINO - SALVADORAN', 'HISPANIC/LATINO - DOMINICAN',\n",
              "       'UNABLE TO OBTAIN', 'BLACK/CAPE VERDEAN', 'BLACK/HAITIAN',\n",
              "       'WHITE - OTHER EUROPEAN', 'PORTUGUESE', 'SOUTH AMERICAN',\n",
              "       'WHITE - EASTERN EUROPEAN', 'CARIBBEAN ISLAND', 'ASIAN - FILIPINO',\n",
              "       'ASIAN - CAMBODIAN', 'HISPANIC/LATINO - CENTRAL AMERICAN (OTHER)',\n",
              "       'WHITE - BRAZILIAN', 'ASIAN - KOREAN',\n",
              "       'HISPANIC/LATINO - COLOMBIAN', 'ASIAN - JAPANESE',\n",
              "       'NATIVE HAWAIIAN OR OTHER PACIFIC ISLANDER', 'ASIAN - THAI',\n",
              "       'HISPANIC/LATINO - HONDURAN', 'HISPANIC/LATINO - CUBAN',\n",
              "       'MIDDLE EASTERN', 'ASIAN - OTHER', 'HISPANIC/LATINO - MEXICAN',\n",
              "       'AMERICAN INDIAN/ALASKA NATIVE FEDERALLY RECOGNIZED TRIBE'],\n",
              "      dtype=object)"
            ]
          },
          "metadata": {
            "tags": []
          },
          "execution_count": 90
        }
      ]
    },
    {
      "cell_type": "code",
      "metadata": {
        "id": "SASfHAaQY8pF",
        "colab": {
          "base_uri": "https://localhost:8080/"
        },
        "outputId": "9b82ccee-302b-413b-8052-2dd17c3f3d6a"
      },
      "source": [
        "df_admission['ETHNICITY'].replace('^WHITE\\D*', 'WHITE', regex=True, inplace=True)\n",
        "df_admission['ETHNICITY'].replace('^BLACK\\D*', 'BLACK/AFRICAN AMERICAN', regex=True, inplace=True)\n",
        "df_admission['ETHNICITY'].replace('^HISPANIC\\D*', 'HISPANIC/LATINO', regex=True, inplace=True)\n",
        "df_admission['ETHNICITY'].replace('^ASIAN\\D*', 'ASIAN', regex=True, inplace=True)\n",
        "df_admission['ETHNICITY'].loc[~df_admission['ETHNICITY'].isin(['WHITE', 'BLACK/AFRICAN AMERICAN', 'HISPANIC/LATINO', 'ASIAN'])] = 'UNKNOWN/NOT SPECIFIED'"
      ],
      "execution_count": 91,
      "outputs": [
        {
          "output_type": "stream",
          "text": [
            "/usr/local/lib/python3.7/dist-packages/pandas/core/indexing.py:670: SettingWithCopyWarning: \n",
            "A value is trying to be set on a copy of a slice from a DataFrame\n",
            "\n",
            "See the caveats in the documentation: https://pandas.pydata.org/pandas-docs/stable/user_guide/indexing.html#returning-a-view-versus-a-copy\n",
            "  iloc._setitem_with_indexer(indexer, value)\n"
          ],
          "name": "stderr"
        }
      ]
    },
    {
      "cell_type": "code",
      "metadata": {
        "colab": {
          "base_uri": "https://localhost:8080/",
          "height": 388
        },
        "id": "wtMkWXsInaRE",
        "outputId": "e83cd73c-50c7-4234-cf75-3c2350c3e109"
      },
      "source": [
        "#value = df_admission.ETHNICITY.values\n",
        "#label = df_admission.ETHNICITY.unique()\n",
        "countplot(df_admission, 'ETHNICITY', (13, 6))"
      ],
      "execution_count": 92,
      "outputs": [
        {
          "output_type": "display_data",
          "data": {
            "image/png": "[encoded data removed]",
            "text/plain": [
              "<Figure size 936x432 with 1 Axes>"
            ]
          },
          "metadata": {
            "tags": [],
            "needs_background": "light"
          }
        }
      ]
    },
    {
      "cell_type": "code",
      "metadata": {
        "id": "0kdou6jEMHEK"
      },
      "source": [
        "ethnicity = list(df_admission['ETHNICITY'].unique())\n",
        "ethnicity_tmp = ethnicity.copy()\n",
        "ethnicity_tmp.remove('UNKNOWN/NOT SPECIFIED')"
      ],
      "execution_count": 93,
      "outputs": []
    },
    {
      "cell_type": "markdown",
      "metadata": {
        "id": "caITyPezZEZ9"
      },
      "source": [
        "### **ADMISSION_TYPE**"
      ]
    },
    {
      "cell_type": "markdown",
      "metadata": {
        "id": "fFNVKuUDfjsK"
      },
      "source": [
        "#### Check for missing value"
      ]
    },
    {
      "cell_type": "code",
      "metadata": {
        "colab": {
          "base_uri": "https://localhost:8080/"
        },
        "id": "sN0R-aaEpyid",
        "outputId": "bfb2f24a-20af-4c68-d728-5a8543718980"
      },
      "source": [
        "if df_admission['ADMISSION_TYPE'].isnull().values.any() == True:\n",
        "    print('Missing value exists. The number of missing values is {}'.format(df_admission['ADMISSION_TYPE'].isnull().sum()))\n",
        "else:\n",
        "    print('Missing value does not exist.')"
      ],
      "execution_count": 94,
      "outputs": [
        {
          "output_type": "stream",
          "text": [
            "Missing value does not exist.\n"
          ],
          "name": "stdout"
        }
      ]
    },
    {
      "cell_type": "code",
      "metadata": {
        "colab": {
          "base_uri": "https://localhost:8080/"
        },
        "id": "hS_J91VdcPkh",
        "outputId": "00110190-b21c-42fb-fce0-c1cd6e9dd783"
      },
      "source": [
        "df_admission['ADMISSION_TYPE'].unique()"
      ],
      "execution_count": 95,
      "outputs": [
        {
          "output_type": "execute_result",
          "data": {
            "text/plain": [
              "array(['EMERGENCY', 'ELECTIVE', 'NEWBORN', 'URGENT'], dtype=object)"
            ]
          },
          "metadata": {
            "tags": []
          },
          "execution_count": 95
        }
      ]
    },
    {
      "cell_type": "markdown",
      "metadata": {
        "id": "4qh71B6xcgcM"
      },
      "source": [
        "ADMISSION_TYPE describes the type of the admission: ‘ELECTIVE’, ‘URGENT’, ‘NEWBORN’ or ‘EMERGENCY’. Emergency/urgent indicate unplanned medical care, and are often collapsed into a single category in studies. Elective indicates a previously planned hospital admission. Newborn indicates that the HADM_ID pertains to the patient’s birth."
      ]
    },
    {
      "cell_type": "markdown",
      "metadata": {
        "id": "b0LDj-O_fjsL"
      },
      "source": [
        "#### Merge columns"
      ]
    },
    {
      "cell_type": "code",
      "metadata": {
        "id": "aPB-JBNLcN-N"
      },
      "source": [
        "df_admission['ADMISSION_TYPE'].replace('URGENT', 'EMERGENCY', inplace=True)"
      ],
      "execution_count": 96,
      "outputs": []
    },
    {
      "cell_type": "code",
      "metadata": {
        "colab": {
          "base_uri": "https://localhost:8080/",
          "height": 335
        },
        "id": "EL-0F_LPpNvu",
        "outputId": "2da6cd6e-e478-4a8f-9db0-e2fbd26a0017"
      },
      "source": [
        "countplot(df_admission, 'ADMISSION_TYPE', (5, 5))"
      ],
      "execution_count": 97,
      "outputs": [
        {
          "output_type": "display_data",
          "data": {
            "image/png": "[encoded data removed]",
            "text/plain": [
              "<Figure size 360x360 with 1 Axes>"
            ]
          },
          "metadata": {
            "tags": [],
            "needs_background": "light"
          }
        }
      ]
    },
    {
      "cell_type": "markdown",
      "metadata": {
        "id": "vOpGoQ4GpUbD"
      },
      "source": [
        "### **MARITAL_STATUS**"
      ]
    },
    {
      "cell_type": "markdown",
      "metadata": {
        "id": "vyWV73HofjsM"
      },
      "source": [
        "#### Check for missing value"
      ]
    },
    {
      "cell_type": "code",
      "metadata": {
        "id": "3iNetKhVfjsM",
        "colab": {
          "base_uri": "https://localhost:8080/"
        },
        "outputId": "40ce5c7b-7261-4243-c93c-dfc96cb01bf4"
      },
      "source": [
        "if df_admission['MARITAL_STATUS'].isnull().values.any() == True:\n",
        "    print('Missing value exists. The number of missing values is {}'.format(df_admission['MARITAL_STATUS'].isnull().sum()))\n",
        "else:\n",
        "    print('Missing value does not exist.')"
      ],
      "execution_count": 98,
      "outputs": [
        {
          "output_type": "stream",
          "text": [
            "Missing value exists. The number of missing values is 10128\n"
          ],
          "name": "stdout"
        }
      ]
    },
    {
      "cell_type": "markdown",
      "metadata": {
        "id": "1gUMjuNsfjsN"
      },
      "source": [
        "#### Impute missing values"
      ]
    },
    {
      "cell_type": "code",
      "metadata": {
        "id": "n7Gsl7MvqBFR",
        "colab": {
          "base_uri": "https://localhost:8080/"
        },
        "outputId": "1aa7e864-e485-41dc-d0e2-3e5e1982ac47"
      },
      "source": [
        "df_admission['MARITAL_STATUS'].fillna('UNKNOWN (DEFAULT)', inplace=True)\n",
        "\n",
        "# Confirm the imputation\n",
        "df_admission['MARITAL_STATUS'].isnull().values.any()"
      ],
      "execution_count": 99,
      "outputs": [
        {
          "output_type": "execute_result",
          "data": {
            "text/plain": [
              "False"
            ]
          },
          "metadata": {
            "tags": []
          },
          "execution_count": 99
        }
      ]
    },
    {
      "cell_type": "code",
      "metadata": {
        "colab": {
          "base_uri": "https://localhost:8080/",
          "height": 389
        },
        "id": "Nnmet_ZQpbXq",
        "outputId": "849c62b4-2dbd-4961-8748-0e79f7e3b84d"
      },
      "source": [
        "countplot(df_admission, 'MARITAL_STATUS', (12, 6))"
      ],
      "execution_count": 100,
      "outputs": [
        {
          "output_type": "display_data",
          "data": {
            "image/png": "[encoded data removed]",
            "text/plain": [
              "<Figure size 864x432 with 1 Axes>"
            ]
          },
          "metadata": {
            "tags": [],
            "needs_background": "light"
          }
        }
      ]
    },
    {
      "cell_type": "markdown",
      "metadata": {
        "id": "r7puY48ufjsP"
      },
      "source": [
        "#### Merge columns"
      ]
    },
    {
      "cell_type": "code",
      "metadata": {
        "id": "5QL1j0DfHoPw"
      },
      "source": [
        "df_admission.MARITAL_STATUS.replace('WIDOWED', 'SINGLE', inplace=True)\n",
        "df_admission.MARITAL_STATUS.replace('DIVORCED', 'SINGLE', inplace=True)\n",
        "df_admission.MARITAL_STATUS.replace('SEPARATED', 'UNKNOWN (DEFAULT)', inplace=True)\n",
        "df_admission.MARITAL_STATUS.replace('LIFE PARTNER', 'UNKNOWN (DEFAULT)', inplace=True)"
      ],
      "execution_count": 101,
      "outputs": []
    },
    {
      "cell_type": "code",
      "metadata": {
        "colab": {
          "base_uri": "https://localhost:8080/",
          "height": 335
        },
        "id": "IbO4ur-yrWZq",
        "outputId": "909f2533-131c-47e4-c915-8858cd2b53b1"
      },
      "source": [
        "countplot(df_admission, 'MARITAL_STATUS', (5, 5))"
      ],
      "execution_count": 102,
      "outputs": [
        {
          "output_type": "display_data",
          "data": {
            "image/png": "[encoded data removed]",
            "text/plain": [
              "<Figure size 360x360 with 1 Axes>"
            ]
          },
          "metadata": {
            "tags": [],
            "needs_background": "light"
          }
        }
      ]
    },
    {
      "cell_type": "markdown",
      "metadata": {
        "id": "U6xH10_-rooP"
      },
      "source": [
        "### **RELIGION**"
      ]
    },
    {
      "cell_type": "markdown",
      "metadata": {
        "id": "iKrXTzRnfjsR"
      },
      "source": [
        "#### Check for missing value"
      ]
    },
    {
      "cell_type": "code",
      "metadata": {
        "colab": {
          "base_uri": "https://localhost:8080/"
        },
        "id": "esdQzomhrtFa",
        "outputId": "f5317c3f-fa75-43e6-ef4c-016bf14261cd"
      },
      "source": [
        "if df_admission['RELIGION'].isnull().values.any() == True:\n",
        "    print('Missing value exists. The number of missing values is {}'.format(df_admission['RELIGION'].isnull().sum()))\n",
        "else:\n",
        "    print('Missing value does not exist.')"
      ],
      "execution_count": 103,
      "outputs": [
        {
          "output_type": "stream",
          "text": [
            "Missing value exists. The number of missing values is 458\n"
          ],
          "name": "stdout"
        }
      ]
    },
    {
      "cell_type": "markdown",
      "metadata": {
        "id": "VGHNObTjfjsS"
      },
      "source": [
        "#### Impute missing values"
      ]
    },
    {
      "cell_type": "code",
      "metadata": {
        "id": "Pm--94ZUrykL",
        "colab": {
          "base_uri": "https://localhost:8080/"
        },
        "outputId": "0bd38a3f-874b-403b-fecf-3303d8918ead"
      },
      "source": [
        "df_admission['RELIGION'].fillna('UNOBTAINABLE', inplace=True)\n",
        "df_admission['RELIGION'].isnull().values.any()"
      ],
      "execution_count": 104,
      "outputs": [
        {
          "output_type": "execute_result",
          "data": {
            "text/plain": [
              "False"
            ]
          },
          "metadata": {
            "tags": []
          },
          "execution_count": 104
        }
      ]
    },
    {
      "cell_type": "code",
      "metadata": {
        "colab": {
          "base_uri": "https://localhost:8080/"
        },
        "id": "CwrsY61IscK9",
        "outputId": "64bdd356-6b30-4b52-ccbd-66d65717563f"
      },
      "source": [
        "df_admission['RELIGION'].unique()"
      ],
      "execution_count": 105,
      "outputs": [
        {
          "output_type": "execute_result",
          "data": {
            "text/plain": [
              "array(['UNOBTAINABLE', 'CATHOLIC', 'PROTESTANT QUAKER', 'NOT SPECIFIED',\n",
              "       'JEWISH', 'BUDDHIST', 'OTHER', \"JEHOVAH'S WITNESS\",\n",
              "       'GREEK ORTHODOX', 'EPISCOPALIAN', 'HINDU', 'CHRISTIAN SCIENTIST',\n",
              "       'HEBREW', 'METHODIST', 'UNITARIAN-UNIVERSALIST', 'BAPTIST',\n",
              "       '7TH DAY ADVENTIST', 'MUSLIM', 'ROMANIAN EAST. ORTH', 'LUTHERAN'],\n",
              "      dtype=object)"
            ]
          },
          "metadata": {
            "tags": []
          },
          "execution_count": 105
        }
      ]
    },
    {
      "cell_type": "markdown",
      "metadata": {
        "id": "zIVzHIdDfjsT"
      },
      "source": [
        "#### Rebuild category"
      ]
    },
    {
      "cell_type": "code",
      "metadata": {
        "colab": {
          "base_uri": "https://localhost:8080/"
        },
        "id": "yYW2GW_dsftm",
        "outputId": "d8ab2f4a-b908-49e8-e973-65aa32cafb3a"
      },
      "source": [
        "df_admission['RELIGION'].loc[~df_admission['RELIGION'].isin(['NOT SPECIFIED', 'UNOBTAINABLE'])] = 'RELIGIOUS'\n",
        "df_admission['RELIGION'].loc[df_admission['RELIGION'].isin(['NOT SPECIFIED', 'UNOBTAINABLE'])] = 'UNKNOWN'"
      ],
      "execution_count": 106,
      "outputs": [
        {
          "output_type": "stream",
          "text": [
            "/usr/local/lib/python3.7/dist-packages/pandas/core/indexing.py:670: SettingWithCopyWarning: \n",
            "A value is trying to be set on a copy of a slice from a DataFrame\n",
            "\n",
            "See the caveats in the documentation: https://pandas.pydata.org/pandas-docs/stable/user_guide/indexing.html#returning-a-view-versus-a-copy\n",
            "  iloc._setitem_with_indexer(indexer, value)\n"
          ],
          "name": "stderr"
        }
      ]
    },
    {
      "cell_type": "code",
      "metadata": {
        "colab": {
          "base_uri": "https://localhost:8080/",
          "height": 335
        },
        "id": "fuQt4SMotiJ6",
        "outputId": "4204ad39-4bb6-4af5-d232-422a4a76ec0b"
      },
      "source": [
        "countplot(df_admission, 'RELIGION', (5, 5))"
      ],
      "execution_count": 107,
      "outputs": [
        {
          "output_type": "display_data",
          "data": {
            "image/png": "[encoded data removed]",
            "text/plain": [
              "<Figure size 360x360 with 1 Axes>"
            ]
          },
          "metadata": {
            "tags": [],
            "needs_background": "light"
          }
        }
      ]
    },
    {
      "cell_type": "markdown",
      "metadata": {
        "id": "YT7boIVmvjZU"
      },
      "source": [
        "### **INSURANCE**"
      ]
    },
    {
      "cell_type": "markdown",
      "metadata": {
        "id": "sriYtLivfjsV"
      },
      "source": [
        "#### Check for missing value"
      ]
    },
    {
      "cell_type": "code",
      "metadata": {
        "colab": {
          "base_uri": "https://localhost:8080/"
        },
        "id": "d3se5T5ZvKAP",
        "outputId": "2d5bb245-a3f4-4422-984e-6026101b3a18"
      },
      "source": [
        "if df_admission['RELIGION'].isnull().values.any() == True:\n",
        "    print('Missing value exists. The number of missing values is {}'.format(df_admission['RELIGION'].isnull().sum()))\n",
        "else:\n",
        "    print('Missing value does not exist.')"
      ],
      "execution_count": 108,
      "outputs": [
        {
          "output_type": "stream",
          "text": [
            "Missing value does not exist.\n"
          ],
          "name": "stdout"
        }
      ]
    },
    {
      "cell_type": "code",
      "metadata": {
        "colab": {
          "base_uri": "https://localhost:8080/",
          "height": 388
        },
        "id": "roNEAh5Zvr96",
        "outputId": "1f20177d-a291-41fa-e98b-262bee0ff88d"
      },
      "source": [
        "countplot(df_admission, 'INSURANCE', (6, 6))"
      ],
      "execution_count": 109,
      "outputs": [
        {
          "output_type": "display_data",
          "data": {
            "image/png": "[encoded data removed]",
            "text/plain": [
              "<Figure size 432x432 with 1 Axes>"
            ]
          },
          "metadata": {
            "tags": [],
            "needs_background": "light"
          }
        }
      ]
    },
    {
      "cell_type": "code",
      "metadata": {
        "colab": {
          "base_uri": "https://localhost:8080/",
          "height": 360
        },
        "id": "h13scLy7aqps",
        "outputId": "4d978e9d-4e6f-4589-dbcb-f9f5694a4d20"
      },
      "source": [
        "print(df_admission.shape)\n",
        "df_admission.head()"
      ],
      "execution_count": 110,
      "outputs": [
        {
          "output_type": "stream",
          "text": [
            "(58976, 19)\n"
          ],
          "name": "stdout"
        },
        {
          "output_type": "execute_result",
          "data": {
            "text/html": [
              "<div>\n",
              "<style scoped>\n",
              "    .dataframe tbody tr th:only-of-type {\n",
              "        vertical-align: middle;\n",
              "    }\n",
              "\n",
              "    .dataframe tbody tr th {\n",
              "        vertical-align: top;\n",
              "    }\n",
              "\n",
              "    .dataframe thead th {\n",
              "        text-align: right;\n",
              "    }\n",
              "</style>\n",
              "<table border=\"1\" class=\"dataframe\">\n",
              "  <thead>\n",
              "    <tr style=\"text-align: right;\">\n",
              "      <th></th>\n",
              "      <th>ROW_ID</th>\n",
              "      <th>SUBJECT_ID</th>\n",
              "      <th>HADM_ID</th>\n",
              "      <th>ADMITTIME</th>\n",
              "      <th>DISCHTIME</th>\n",
              "      <th>DEATHTIME</th>\n",
              "      <th>ADMISSION_TYPE</th>\n",
              "      <th>ADMISSION_LOCATION</th>\n",
              "      <th>DISCHARGE_LOCATION</th>\n",
              "      <th>INSURANCE</th>\n",
              "      <th>LANGUAGE</th>\n",
              "      <th>RELIGION</th>\n",
              "      <th>MARITAL_STATUS</th>\n",
              "      <th>ETHNICITY</th>\n",
              "      <th>EDREGTIME</th>\n",
              "      <th>EDOUTTIME</th>\n",
              "      <th>DIAGNOSIS</th>\n",
              "      <th>HOSPITAL_EXPIRE_FLAG</th>\n",
              "      <th>HAS_CHARTEVENTS_DATA</th>\n",
              "    </tr>\n",
              "  </thead>\n",
              "  <tbody>\n",
              "    <tr>\n",
              "      <th>0</th>\n",
              "      <td>21</td>\n",
              "      <td>22</td>\n",
              "      <td>165315</td>\n",
              "      <td>2196-04-09 12:26:00</td>\n",
              "      <td>2196-04-10 15:54:00</td>\n",
              "      <td>NaN</td>\n",
              "      <td>EMERGENCY</td>\n",
              "      <td>EMERGENCY ROOM ADMIT</td>\n",
              "      <td>DISC-TRAN CANCER/CHLDRN H</td>\n",
              "      <td>Private</td>\n",
              "      <td>NaN</td>\n",
              "      <td>UNKNOWN</td>\n",
              "      <td>MARRIED</td>\n",
              "      <td>WHITE</td>\n",
              "      <td>2196-04-09 10:06:00</td>\n",
              "      <td>2196-04-09 13:24:00</td>\n",
              "      <td>BENZODIAZEPINE OVERDOSE</td>\n",
              "      <td>0</td>\n",
              "      <td>1</td>\n",
              "    </tr>\n",
              "    <tr>\n",
              "      <th>1</th>\n",
              "      <td>22</td>\n",
              "      <td>23</td>\n",
              "      <td>152223</td>\n",
              "      <td>2153-09-03 07:15:00</td>\n",
              "      <td>2153-09-08 19:10:00</td>\n",
              "      <td>NaN</td>\n",
              "      <td>ELECTIVE</td>\n",
              "      <td>PHYS REFERRAL/NORMAL DELI</td>\n",
              "      <td>HOME HEALTH CARE</td>\n",
              "      <td>Medicare</td>\n",
              "      <td>NaN</td>\n",
              "      <td>RELIGIOUS</td>\n",
              "      <td>MARRIED</td>\n",
              "      <td>WHITE</td>\n",
              "      <td>NaN</td>\n",
              "      <td>NaN</td>\n",
              "      <td>CORONARY ARTERY DISEASE\\CORONARY ARTERY BYPASS...</td>\n",
              "      <td>0</td>\n",
              "      <td>1</td>\n",
              "    </tr>\n",
              "    <tr>\n",
              "      <th>2</th>\n",
              "      <td>23</td>\n",
              "      <td>23</td>\n",
              "      <td>124321</td>\n",
              "      <td>2157-10-18 19:34:00</td>\n",
              "      <td>2157-10-25 14:00:00</td>\n",
              "      <td>NaN</td>\n",
              "      <td>EMERGENCY</td>\n",
              "      <td>TRANSFER FROM HOSP/EXTRAM</td>\n",
              "      <td>HOME HEALTH CARE</td>\n",
              "      <td>Medicare</td>\n",
              "      <td>ENGL</td>\n",
              "      <td>RELIGIOUS</td>\n",
              "      <td>MARRIED</td>\n",
              "      <td>WHITE</td>\n",
              "      <td>NaN</td>\n",
              "      <td>NaN</td>\n",
              "      <td>BRAIN MASS</td>\n",
              "      <td>0</td>\n",
              "      <td>1</td>\n",
              "    </tr>\n",
              "    <tr>\n",
              "      <th>3</th>\n",
              "      <td>24</td>\n",
              "      <td>24</td>\n",
              "      <td>161859</td>\n",
              "      <td>2139-06-06 16:14:00</td>\n",
              "      <td>2139-06-09 12:48:00</td>\n",
              "      <td>NaN</td>\n",
              "      <td>EMERGENCY</td>\n",
              "      <td>TRANSFER FROM HOSP/EXTRAM</td>\n",
              "      <td>HOME</td>\n",
              "      <td>Private</td>\n",
              "      <td>NaN</td>\n",
              "      <td>RELIGIOUS</td>\n",
              "      <td>SINGLE</td>\n",
              "      <td>WHITE</td>\n",
              "      <td>NaN</td>\n",
              "      <td>NaN</td>\n",
              "      <td>INTERIOR MYOCARDIAL INFARCTION</td>\n",
              "      <td>0</td>\n",
              "      <td>1</td>\n",
              "    </tr>\n",
              "    <tr>\n",
              "      <th>4</th>\n",
              "      <td>25</td>\n",
              "      <td>25</td>\n",
              "      <td>129635</td>\n",
              "      <td>2160-11-02 02:06:00</td>\n",
              "      <td>2160-11-05 14:55:00</td>\n",
              "      <td>NaN</td>\n",
              "      <td>EMERGENCY</td>\n",
              "      <td>EMERGENCY ROOM ADMIT</td>\n",
              "      <td>HOME</td>\n",
              "      <td>Private</td>\n",
              "      <td>NaN</td>\n",
              "      <td>UNKNOWN</td>\n",
              "      <td>MARRIED</td>\n",
              "      <td>WHITE</td>\n",
              "      <td>2160-11-02 01:01:00</td>\n",
              "      <td>2160-11-02 04:27:00</td>\n",
              "      <td>ACUTE CORONARY SYNDROME</td>\n",
              "      <td>0</td>\n",
              "      <td>1</td>\n",
              "    </tr>\n",
              "  </tbody>\n",
              "</table>\n",
              "</div>"
            ],
            "text/plain": [
              "   ROW_ID  SUBJECT_ID  ...  HOSPITAL_EXPIRE_FLAG HAS_CHARTEVENTS_DATA\n",
              "0      21          22  ...                     0                    1\n",
              "1      22          23  ...                     0                    1\n",
              "2      23          23  ...                     0                    1\n",
              "3      24          24  ...                     0                    1\n",
              "4      25          25  ...                     0                    1\n",
              "\n",
              "[5 rows x 19 columns]"
            ]
          },
          "metadata": {
            "tags": []
          },
          "execution_count": 110
        }
      ]
    },
    {
      "cell_type": "markdown",
      "metadata": {
        "id": "aP-lt2sKfjsV"
      },
      "source": [
        "## Copy df_admission to df"
      ]
    },
    {
      "cell_type": "code",
      "metadata": {
        "colab": {
          "base_uri": "https://localhost:8080/",
          "height": 343
        },
        "id": "CBRSsddWc4AF",
        "outputId": "b3039c95-9435-4e5d-90f5-2bd95f198991"
      },
      "source": [
        "diagnosis_top_10 = list(df_admission['DIAGNOSIS'].value_counts()[1:11].keys())\n",
        "\n",
        "df = df_admission.loc[df_admission['DIAGNOSIS'].isin(diagnosis_top_10)]\n",
        "#df = df[['SUBJECT_ID', 'HADM_ID', 'ADMITTIME', 'ADMISSION_TYPE', 'INSURANCE', 'RELIGION', 'MARITAL_STATUS', 'ETHNICITY', 'DIAGNOSIS']]\n",
        "print(df.shape)\n",
        "df.head()"
      ],
      "execution_count": 111,
      "outputs": [
        {
          "output_type": "stream",
          "text": [
            "(8570, 19)\n"
          ],
          "name": "stdout"
        },
        {
          "output_type": "execute_result",
          "data": {
            "text/html": [
              "<div>\n",
              "<style scoped>\n",
              "    .dataframe tbody tr th:only-of-type {\n",
              "        vertical-align: middle;\n",
              "    }\n",
              "\n",
              "    .dataframe tbody tr th {\n",
              "        vertical-align: top;\n",
              "    }\n",
              "\n",
              "    .dataframe thead th {\n",
              "        text-align: right;\n",
              "    }\n",
              "</style>\n",
              "<table border=\"1\" class=\"dataframe\">\n",
              "  <thead>\n",
              "    <tr style=\"text-align: right;\">\n",
              "      <th></th>\n",
              "      <th>ROW_ID</th>\n",
              "      <th>SUBJECT_ID</th>\n",
              "      <th>HADM_ID</th>\n",
              "      <th>ADMITTIME</th>\n",
              "      <th>DISCHTIME</th>\n",
              "      <th>DEATHTIME</th>\n",
              "      <th>ADMISSION_TYPE</th>\n",
              "      <th>ADMISSION_LOCATION</th>\n",
              "      <th>DISCHARGE_LOCATION</th>\n",
              "      <th>INSURANCE</th>\n",
              "      <th>LANGUAGE</th>\n",
              "      <th>RELIGION</th>\n",
              "      <th>MARITAL_STATUS</th>\n",
              "      <th>ETHNICITY</th>\n",
              "      <th>EDREGTIME</th>\n",
              "      <th>EDOUTTIME</th>\n",
              "      <th>DIAGNOSIS</th>\n",
              "      <th>HOSPITAL_EXPIRE_FLAG</th>\n",
              "      <th>HAS_CHARTEVENTS_DATA</th>\n",
              "    </tr>\n",
              "  </thead>\n",
              "  <tbody>\n",
              "    <tr>\n",
              "      <th>15</th>\n",
              "      <td>36</td>\n",
              "      <td>36</td>\n",
              "      <td>182104</td>\n",
              "      <td>2131-04-30 07:15:00</td>\n",
              "      <td>2131-05-08 14:00:00</td>\n",
              "      <td>NaN</td>\n",
              "      <td>EMERGENCY</td>\n",
              "      <td>CLINIC REFERRAL/PREMATURE</td>\n",
              "      <td>HOME HEALTH CARE</td>\n",
              "      <td>Medicare</td>\n",
              "      <td>ENGL</td>\n",
              "      <td>UNKNOWN</td>\n",
              "      <td>MARRIED</td>\n",
              "      <td>WHITE</td>\n",
              "      <td>NaN</td>\n",
              "      <td>NaN</td>\n",
              "      <td>CORONARY ARTERY DISEASE\\CORONARY ARTERY BYPASS...</td>\n",
              "      <td>0</td>\n",
              "      <td>1</td>\n",
              "    </tr>\n",
              "    <tr>\n",
              "      <th>18</th>\n",
              "      <td>39</td>\n",
              "      <td>37</td>\n",
              "      <td>188670</td>\n",
              "      <td>2183-08-21 16:48:00</td>\n",
              "      <td>2183-08-26 18:54:00</td>\n",
              "      <td>NaN</td>\n",
              "      <td>EMERGENCY</td>\n",
              "      <td>EMERGENCY ROOM ADMIT</td>\n",
              "      <td>HOME HEALTH CARE</td>\n",
              "      <td>Medicare</td>\n",
              "      <td>NaN</td>\n",
              "      <td>RELIGIOUS</td>\n",
              "      <td>MARRIED</td>\n",
              "      <td>WHITE</td>\n",
              "      <td>2183-08-21 05:58:00</td>\n",
              "      <td>2183-08-21 17:45:00</td>\n",
              "      <td>CONGESTIVE HEART FAILURE</td>\n",
              "      <td>0</td>\n",
              "      <td>1</td>\n",
              "    </tr>\n",
              "    <tr>\n",
              "      <th>22</th>\n",
              "      <td>456</td>\n",
              "      <td>357</td>\n",
              "      <td>174486</td>\n",
              "      <td>2197-12-06 07:13:00</td>\n",
              "      <td>2198-01-03 14:00:00</td>\n",
              "      <td>NaN</td>\n",
              "      <td>EMERGENCY</td>\n",
              "      <td>EMERGENCY ROOM ADMIT</td>\n",
              "      <td>REHAB/DISTINCT PART HOSP</td>\n",
              "      <td>Private</td>\n",
              "      <td>ENGL</td>\n",
              "      <td>UNKNOWN</td>\n",
              "      <td>MARRIED</td>\n",
              "      <td>WHITE</td>\n",
              "      <td>2197-12-06 06:28:00</td>\n",
              "      <td>2197-12-06 07:43:00</td>\n",
              "      <td>GASTROINTESTINAL BLEED</td>\n",
              "      <td>0</td>\n",
              "      <td>1</td>\n",
              "    </tr>\n",
              "    <tr>\n",
              "      <th>24</th>\n",
              "      <td>458</td>\n",
              "      <td>357</td>\n",
              "      <td>122609</td>\n",
              "      <td>2198-11-01 22:36:00</td>\n",
              "      <td>2198-11-14 14:20:00</td>\n",
              "      <td>NaN</td>\n",
              "      <td>EMERGENCY</td>\n",
              "      <td>EMERGENCY ROOM ADMIT</td>\n",
              "      <td>REHAB/DISTINCT PART HOSP</td>\n",
              "      <td>Private</td>\n",
              "      <td>ENGL</td>\n",
              "      <td>UNKNOWN</td>\n",
              "      <td>MARRIED</td>\n",
              "      <td>WHITE</td>\n",
              "      <td>2198-11-01 18:01:00</td>\n",
              "      <td>2198-11-01 23:06:00</td>\n",
              "      <td>SEPSIS</td>\n",
              "      <td>0</td>\n",
              "      <td>1</td>\n",
              "    </tr>\n",
              "    <tr>\n",
              "      <th>25</th>\n",
              "      <td>459</td>\n",
              "      <td>357</td>\n",
              "      <td>101651</td>\n",
              "      <td>2199-10-20 12:05:00</td>\n",
              "      <td>2199-10-23 17:30:00</td>\n",
              "      <td>NaN</td>\n",
              "      <td>EMERGENCY</td>\n",
              "      <td>EMERGENCY ROOM ADMIT</td>\n",
              "      <td>SNF</td>\n",
              "      <td>Private</td>\n",
              "      <td>ENGL</td>\n",
              "      <td>UNKNOWN</td>\n",
              "      <td>MARRIED</td>\n",
              "      <td>WHITE</td>\n",
              "      <td>2199-10-20 09:34:00</td>\n",
              "      <td>2199-10-20 13:25:00</td>\n",
              "      <td>PNEUMONIA</td>\n",
              "      <td>0</td>\n",
              "      <td>1</td>\n",
              "    </tr>\n",
              "  </tbody>\n",
              "</table>\n",
              "</div>"
            ],
            "text/plain": [
              "    ROW_ID  SUBJECT_ID  ...  HOSPITAL_EXPIRE_FLAG HAS_CHARTEVENTS_DATA\n",
              "15      36          36  ...                     0                    1\n",
              "18      39          37  ...                     0                    1\n",
              "22     456         357  ...                     0                    1\n",
              "24     458         357  ...                     0                    1\n",
              "25     459         357  ...                     0                    1\n",
              "\n",
              "[5 rows x 19 columns]"
            ]
          },
          "metadata": {
            "tags": []
          },
          "execution_count": 111
        }
      ]
    },
    {
      "cell_type": "markdown",
      "metadata": {
        "id": "qrGqVmtGfjsW"
      },
      "source": [
        "## PATIENTS.csv"
      ]
    },
    {
      "cell_type": "code",
      "metadata": {
        "id": "rmiO0Ja-fjsW",
        "colab": {
          "base_uri": "https://localhost:8080/"
        },
        "outputId": "efce4843-28d0-4b42-849d-a0c8d154bf86"
      },
      "source": [
        "if df_patient.isnull().values.any() == True:\n",
        "    print('Missing value exists in {}.\\nThe number of missing values is as follows:\\n{}'.format('PATIENTS.csv', df_patient.isnull().sum()))\n",
        "else:\n",
        "    print('Missing value does not exist.')"
      ],
      "execution_count": 112,
      "outputs": [
        {
          "output_type": "stream",
          "text": [
            "Missing value exists in PATIENTS.csv.\n",
            "The number of missing values is as follows:\n",
            "ROW_ID             0\n",
            "SUBJECT_ID         0\n",
            "GENDER             0\n",
            "DOB                0\n",
            "DOD            30761\n",
            "DOD_HOSP       36546\n",
            "DOD_SSN        33142\n",
            "EXPIRE_FLAG        0\n",
            "dtype: int64\n"
          ],
          "name": "stdout"
        }
      ]
    },
    {
      "cell_type": "markdown",
      "metadata": {
        "id": "rqI52YDdfjsW"
      },
      "source": [
        "### DOB"
      ]
    },
    {
      "cell_type": "markdown",
      "metadata": {
        "id": "gPDEgg9SfjsW"
      },
      "source": [
        "#### Convert datatype"
      ]
    },
    {
      "cell_type": "code",
      "metadata": {
        "id": "oebrN2l-fjsW"
      },
      "source": [
        "df_patient['DOB'] = pd.to_datetime(df_patient['DOB'])"
      ],
      "execution_count": 113,
      "outputs": []
    },
    {
      "cell_type": "markdown",
      "metadata": {
        "id": "Xf2EGNA0FBVl"
      },
      "source": [
        "## Merge df_patient and df"
      ]
    },
    {
      "cell_type": "code",
      "metadata": {
        "id": "3umnrQRZfjsW",
        "colab": {
          "base_uri": "https://localhost:8080/",
          "height": 411
        },
        "outputId": "b9c07e41-3c16-45a0-f7a8-bbde2edcf399"
      },
      "source": [
        "#df = df.merge(df_patient[['SUBJECT_ID', 'GENDER', 'DOB']], how='inner', on='SUBJECT_ID')\n",
        "df = df.merge(df_patient, how='inner', on='SUBJECT_ID')\n",
        "print(df.shape)\n",
        "df.head()"
      ],
      "execution_count": 114,
      "outputs": [
        {
          "output_type": "stream",
          "text": [
            "(8570, 26)\n"
          ],
          "name": "stdout"
        },
        {
          "output_type": "execute_result",
          "data": {
            "text/html": [
              "<div>\n",
              "<style scoped>\n",
              "    .dataframe tbody tr th:only-of-type {\n",
              "        vertical-align: middle;\n",
              "    }\n",
              "\n",
              "    .dataframe tbody tr th {\n",
              "        vertical-align: top;\n",
              "    }\n",
              "\n",
              "    .dataframe thead th {\n",
              "        text-align: right;\n",
              "    }\n",
              "</style>\n",
              "<table border=\"1\" class=\"dataframe\">\n",
              "  <thead>\n",
              "    <tr style=\"text-align: right;\">\n",
              "      <th></th>\n",
              "      <th>ROW_ID_x</th>\n",
              "      <th>SUBJECT_ID</th>\n",
              "      <th>HADM_ID</th>\n",
              "      <th>ADMITTIME</th>\n",
              "      <th>DISCHTIME</th>\n",
              "      <th>DEATHTIME</th>\n",
              "      <th>ADMISSION_TYPE</th>\n",
              "      <th>ADMISSION_LOCATION</th>\n",
              "      <th>DISCHARGE_LOCATION</th>\n",
              "      <th>INSURANCE</th>\n",
              "      <th>LANGUAGE</th>\n",
              "      <th>RELIGION</th>\n",
              "      <th>MARITAL_STATUS</th>\n",
              "      <th>ETHNICITY</th>\n",
              "      <th>EDREGTIME</th>\n",
              "      <th>EDOUTTIME</th>\n",
              "      <th>DIAGNOSIS</th>\n",
              "      <th>HOSPITAL_EXPIRE_FLAG</th>\n",
              "      <th>HAS_CHARTEVENTS_DATA</th>\n",
              "      <th>ROW_ID_y</th>\n",
              "      <th>GENDER</th>\n",
              "      <th>DOB</th>\n",
              "      <th>DOD</th>\n",
              "      <th>DOD_HOSP</th>\n",
              "      <th>DOD_SSN</th>\n",
              "      <th>EXPIRE_FLAG</th>\n",
              "    </tr>\n",
              "  </thead>\n",
              "  <tbody>\n",
              "    <tr>\n",
              "      <th>0</th>\n",
              "      <td>36</td>\n",
              "      <td>36</td>\n",
              "      <td>182104</td>\n",
              "      <td>2131-04-30 07:15:00</td>\n",
              "      <td>2131-05-08 14:00:00</td>\n",
              "      <td>NaN</td>\n",
              "      <td>EMERGENCY</td>\n",
              "      <td>CLINIC REFERRAL/PREMATURE</td>\n",
              "      <td>HOME HEALTH CARE</td>\n",
              "      <td>Medicare</td>\n",
              "      <td>ENGL</td>\n",
              "      <td>UNKNOWN</td>\n",
              "      <td>MARRIED</td>\n",
              "      <td>WHITE</td>\n",
              "      <td>NaN</td>\n",
              "      <td>NaN</td>\n",
              "      <td>CORONARY ARTERY DISEASE\\CORONARY ARTERY BYPASS...</td>\n",
              "      <td>0</td>\n",
              "      <td>1</td>\n",
              "      <td>32</td>\n",
              "      <td>M</td>\n",
              "      <td>2061-08-17</td>\n",
              "      <td>NaN</td>\n",
              "      <td>NaN</td>\n",
              "      <td>NaN</td>\n",
              "      <td>0</td>\n",
              "    </tr>\n",
              "    <tr>\n",
              "      <th>1</th>\n",
              "      <td>39</td>\n",
              "      <td>37</td>\n",
              "      <td>188670</td>\n",
              "      <td>2183-08-21 16:48:00</td>\n",
              "      <td>2183-08-26 18:54:00</td>\n",
              "      <td>NaN</td>\n",
              "      <td>EMERGENCY</td>\n",
              "      <td>EMERGENCY ROOM ADMIT</td>\n",
              "      <td>HOME HEALTH CARE</td>\n",
              "      <td>Medicare</td>\n",
              "      <td>NaN</td>\n",
              "      <td>RELIGIOUS</td>\n",
              "      <td>MARRIED</td>\n",
              "      <td>WHITE</td>\n",
              "      <td>2183-08-21 05:58:00</td>\n",
              "      <td>2183-08-21 17:45:00</td>\n",
              "      <td>CONGESTIVE HEART FAILURE</td>\n",
              "      <td>0</td>\n",
              "      <td>1</td>\n",
              "      <td>33</td>\n",
              "      <td>M</td>\n",
              "      <td>2114-09-17</td>\n",
              "      <td>2185-01-06 00:00:00</td>\n",
              "      <td>2185-01-06 00:00:00</td>\n",
              "      <td>2185-01-06 00:00:00</td>\n",
              "      <td>1</td>\n",
              "    </tr>\n",
              "    <tr>\n",
              "      <th>2</th>\n",
              "      <td>456</td>\n",
              "      <td>357</td>\n",
              "      <td>174486</td>\n",
              "      <td>2197-12-06 07:13:00</td>\n",
              "      <td>2198-01-03 14:00:00</td>\n",
              "      <td>NaN</td>\n",
              "      <td>EMERGENCY</td>\n",
              "      <td>EMERGENCY ROOM ADMIT</td>\n",
              "      <td>REHAB/DISTINCT PART HOSP</td>\n",
              "      <td>Private</td>\n",
              "      <td>ENGL</td>\n",
              "      <td>UNKNOWN</td>\n",
              "      <td>MARRIED</td>\n",
              "      <td>WHITE</td>\n",
              "      <td>2197-12-06 06:28:00</td>\n",
              "      <td>2197-12-06 07:43:00</td>\n",
              "      <td>GASTROINTESTINAL BLEED</td>\n",
              "      <td>0</td>\n",
              "      <td>1</td>\n",
              "      <td>336</td>\n",
              "      <td>M</td>\n",
              "      <td>2135-03-22</td>\n",
              "      <td>2201-08-02 00:00:00</td>\n",
              "      <td>2201-08-02 00:00:00</td>\n",
              "      <td>2201-08-02 00:00:00</td>\n",
              "      <td>1</td>\n",
              "    </tr>\n",
              "    <tr>\n",
              "      <th>3</th>\n",
              "      <td>458</td>\n",
              "      <td>357</td>\n",
              "      <td>122609</td>\n",
              "      <td>2198-11-01 22:36:00</td>\n",
              "      <td>2198-11-14 14:20:00</td>\n",
              "      <td>NaN</td>\n",
              "      <td>EMERGENCY</td>\n",
              "      <td>EMERGENCY ROOM ADMIT</td>\n",
              "      <td>REHAB/DISTINCT PART HOSP</td>\n",
              "      <td>Private</td>\n",
              "      <td>ENGL</td>\n",
              "      <td>UNKNOWN</td>\n",
              "      <td>MARRIED</td>\n",
              "      <td>WHITE</td>\n",
              "      <td>2198-11-01 18:01:00</td>\n",
              "      <td>2198-11-01 23:06:00</td>\n",
              "      <td>SEPSIS</td>\n",
              "      <td>0</td>\n",
              "      <td>1</td>\n",
              "      <td>336</td>\n",
              "      <td>M</td>\n",
              "      <td>2135-03-22</td>\n",
              "      <td>2201-08-02 00:00:00</td>\n",
              "      <td>2201-08-02 00:00:00</td>\n",
              "      <td>2201-08-02 00:00:00</td>\n",
              "      <td>1</td>\n",
              "    </tr>\n",
              "    <tr>\n",
              "      <th>4</th>\n",
              "      <td>459</td>\n",
              "      <td>357</td>\n",
              "      <td>101651</td>\n",
              "      <td>2199-10-20 12:05:00</td>\n",
              "      <td>2199-10-23 17:30:00</td>\n",
              "      <td>NaN</td>\n",
              "      <td>EMERGENCY</td>\n",
              "      <td>EMERGENCY ROOM ADMIT</td>\n",
              "      <td>SNF</td>\n",
              "      <td>Private</td>\n",
              "      <td>ENGL</td>\n",
              "      <td>UNKNOWN</td>\n",
              "      <td>MARRIED</td>\n",
              "      <td>WHITE</td>\n",
              "      <td>2199-10-20 09:34:00</td>\n",
              "      <td>2199-10-20 13:25:00</td>\n",
              "      <td>PNEUMONIA</td>\n",
              "      <td>0</td>\n",
              "      <td>1</td>\n",
              "      <td>336</td>\n",
              "      <td>M</td>\n",
              "      <td>2135-03-22</td>\n",
              "      <td>2201-08-02 00:00:00</td>\n",
              "      <td>2201-08-02 00:00:00</td>\n",
              "      <td>2201-08-02 00:00:00</td>\n",
              "      <td>1</td>\n",
              "    </tr>\n",
              "  </tbody>\n",
              "</table>\n",
              "</div>"
            ],
            "text/plain": [
              "   ROW_ID_x  SUBJECT_ID  ...              DOD_SSN EXPIRE_FLAG\n",
              "0        36          36  ...                  NaN           0\n",
              "1        39          37  ...  2185-01-06 00:00:00           1\n",
              "2       456         357  ...  2201-08-02 00:00:00           1\n",
              "3       458         357  ...  2201-08-02 00:00:00           1\n",
              "4       459         357  ...  2201-08-02 00:00:00           1\n",
              "\n",
              "[5 rows x 26 columns]"
            ]
          },
          "metadata": {
            "tags": []
          },
          "execution_count": 114
        }
      ]
    },
    {
      "cell_type": "markdown",
      "metadata": {
        "id": "3o_nmvMBfjsX"
      },
      "source": [
        "## Create 'AGE' column"
      ]
    },
    {
      "cell_type": "markdown",
      "metadata": {
        "id": "QKuo-2xZfjsX"
      },
      "source": [
        "### Calculate age"
      ]
    },
    {
      "cell_type": "code",
      "metadata": {
        "id": "pRyYwgsrfjsX",
        "colab": {
          "base_uri": "https://localhost:8080/"
        },
        "outputId": "6702f63a-82d2-4271-bdaa-ceffb19bf2fe"
      },
      "source": [
        "if df['ADMITTIME'].isnull().values.any() == True:\n",
        "    print('Missing value exists in {}.\\nThe number of missing values is as follows:\\n{}'.format('PATIENTS.csv', df['ADMITTIME'].isnull().sum()))\n",
        "else:\n",
        "    print('Missing value does not exist.')"
      ],
      "execution_count": 115,
      "outputs": [
        {
          "output_type": "stream",
          "text": [
            "Missing value does not exist.\n"
          ],
          "name": "stdout"
        }
      ]
    },
    {
      "cell_type": "code",
      "metadata": {
        "id": "euOUfOw1fjsX",
        "colab": {
          "base_uri": "https://localhost:8080/",
          "height": 221
        },
        "outputId": "398484d2-ba49-4794-824a-86a8f0f56dcd"
      },
      "source": [
        "df_admittime_init = df[['SUBJECT_ID', 'ADMITTIME']].groupby('SUBJECT_ID').min().reset_index()\n",
        "df_admittime_init.columns = ['SUBJECT_ID', 'ADMITTIME_INIT']\n",
        "df_admittime_init['ADMITTIME_INIT'] = pd.to_datetime(df_admittime_init['ADMITTIME_INIT'])\n",
        "print(df_admittime_init.shape)\n",
        "df_admittime_init.head()"
      ],
      "execution_count": 116,
      "outputs": [
        {
          "output_type": "stream",
          "text": [
            "(7642, 2)\n"
          ],
          "name": "stdout"
        },
        {
          "output_type": "execute_result",
          "data": {
            "text/html": [
              "<div>\n",
              "<style scoped>\n",
              "    .dataframe tbody tr th:only-of-type {\n",
              "        vertical-align: middle;\n",
              "    }\n",
              "\n",
              "    .dataframe tbody tr th {\n",
              "        vertical-align: top;\n",
              "    }\n",
              "\n",
              "    .dataframe thead th {\n",
              "        text-align: right;\n",
              "    }\n",
              "</style>\n",
              "<table border=\"1\" class=\"dataframe\">\n",
              "  <thead>\n",
              "    <tr style=\"text-align: right;\">\n",
              "      <th></th>\n",
              "      <th>SUBJECT_ID</th>\n",
              "      <th>ADMITTIME_INIT</th>\n",
              "    </tr>\n",
              "  </thead>\n",
              "  <tbody>\n",
              "    <tr>\n",
              "      <th>0</th>\n",
              "      <td>13</td>\n",
              "      <td>2167-01-08 18:43:00</td>\n",
              "    </tr>\n",
              "    <tr>\n",
              "      <th>1</th>\n",
              "      <td>21</td>\n",
              "      <td>2134-09-11 12:17:00</td>\n",
              "    </tr>\n",
              "    <tr>\n",
              "      <th>2</th>\n",
              "      <td>36</td>\n",
              "      <td>2131-04-30 07:15:00</td>\n",
              "    </tr>\n",
              "    <tr>\n",
              "      <th>3</th>\n",
              "      <td>37</td>\n",
              "      <td>2183-08-21 16:48:00</td>\n",
              "    </tr>\n",
              "    <tr>\n",
              "      <th>4</th>\n",
              "      <td>42</td>\n",
              "      <td>2116-04-26 18:58:00</td>\n",
              "    </tr>\n",
              "  </tbody>\n",
              "</table>\n",
              "</div>"
            ],
            "text/plain": [
              "   SUBJECT_ID      ADMITTIME_INIT\n",
              "0          13 2167-01-08 18:43:00\n",
              "1          21 2134-09-11 12:17:00\n",
              "2          36 2131-04-30 07:15:00\n",
              "3          37 2183-08-21 16:48:00\n",
              "4          42 2116-04-26 18:58:00"
            ]
          },
          "metadata": {
            "tags": []
          },
          "execution_count": 116
        }
      ]
    },
    {
      "cell_type": "code",
      "metadata": {
        "id": "hmgEhlvRfjsX",
        "colab": {
          "base_uri": "https://localhost:8080/",
          "height": 411
        },
        "outputId": "4f1f08f0-e97f-417b-e4ad-3be944eff9c8"
      },
      "source": [
        "df = df.merge(df_admittime_init, how='outer', on='SUBJECT_ID')\n",
        "print(df.shape)\n",
        "df.head()"
      ],
      "execution_count": 117,
      "outputs": [
        {
          "output_type": "stream",
          "text": [
            "(8570, 27)\n"
          ],
          "name": "stdout"
        },
        {
          "output_type": "execute_result",
          "data": {
            "text/html": [
              "<div>\n",
              "<style scoped>\n",
              "    .dataframe tbody tr th:only-of-type {\n",
              "        vertical-align: middle;\n",
              "    }\n",
              "\n",
              "    .dataframe tbody tr th {\n",
              "        vertical-align: top;\n",
              "    }\n",
              "\n",
              "    .dataframe thead th {\n",
              "        text-align: right;\n",
              "    }\n",
              "</style>\n",
              "<table border=\"1\" class=\"dataframe\">\n",
              "  <thead>\n",
              "    <tr style=\"text-align: right;\">\n",
              "      <th></th>\n",
              "      <th>ROW_ID_x</th>\n",
              "      <th>SUBJECT_ID</th>\n",
              "      <th>HADM_ID</th>\n",
              "      <th>ADMITTIME</th>\n",
              "      <th>DISCHTIME</th>\n",
              "      <th>DEATHTIME</th>\n",
              "      <th>ADMISSION_TYPE</th>\n",
              "      <th>ADMISSION_LOCATION</th>\n",
              "      <th>DISCHARGE_LOCATION</th>\n",
              "      <th>INSURANCE</th>\n",
              "      <th>LANGUAGE</th>\n",
              "      <th>RELIGION</th>\n",
              "      <th>MARITAL_STATUS</th>\n",
              "      <th>ETHNICITY</th>\n",
              "      <th>EDREGTIME</th>\n",
              "      <th>EDOUTTIME</th>\n",
              "      <th>DIAGNOSIS</th>\n",
              "      <th>HOSPITAL_EXPIRE_FLAG</th>\n",
              "      <th>HAS_CHARTEVENTS_DATA</th>\n",
              "      <th>ROW_ID_y</th>\n",
              "      <th>GENDER</th>\n",
              "      <th>DOB</th>\n",
              "      <th>DOD</th>\n",
              "      <th>DOD_HOSP</th>\n",
              "      <th>DOD_SSN</th>\n",
              "      <th>EXPIRE_FLAG</th>\n",
              "      <th>ADMITTIME_INIT</th>\n",
              "    </tr>\n",
              "  </thead>\n",
              "  <tbody>\n",
              "    <tr>\n",
              "      <th>0</th>\n",
              "      <td>36</td>\n",
              "      <td>36</td>\n",
              "      <td>182104</td>\n",
              "      <td>2131-04-30 07:15:00</td>\n",
              "      <td>2131-05-08 14:00:00</td>\n",
              "      <td>NaN</td>\n",
              "      <td>EMERGENCY</td>\n",
              "      <td>CLINIC REFERRAL/PREMATURE</td>\n",
              "      <td>HOME HEALTH CARE</td>\n",
              "      <td>Medicare</td>\n",
              "      <td>ENGL</td>\n",
              "      <td>UNKNOWN</td>\n",
              "      <td>MARRIED</td>\n",
              "      <td>WHITE</td>\n",
              "      <td>NaN</td>\n",
              "      <td>NaN</td>\n",
              "      <td>CORONARY ARTERY DISEASE\\CORONARY ARTERY BYPASS...</td>\n",
              "      <td>0</td>\n",
              "      <td>1</td>\n",
              "      <td>32</td>\n",
              "      <td>M</td>\n",
              "      <td>2061-08-17</td>\n",
              "      <td>NaN</td>\n",
              "      <td>NaN</td>\n",
              "      <td>NaN</td>\n",
              "      <td>0</td>\n",
              "      <td>2131-04-30 07:15:00</td>\n",
              "    </tr>\n",
              "    <tr>\n",
              "      <th>1</th>\n",
              "      <td>39</td>\n",
              "      <td>37</td>\n",
              "      <td>188670</td>\n",
              "      <td>2183-08-21 16:48:00</td>\n",
              "      <td>2183-08-26 18:54:00</td>\n",
              "      <td>NaN</td>\n",
              "      <td>EMERGENCY</td>\n",
              "      <td>EMERGENCY ROOM ADMIT</td>\n",
              "      <td>HOME HEALTH CARE</td>\n",
              "      <td>Medicare</td>\n",
              "      <td>NaN</td>\n",
              "      <td>RELIGIOUS</td>\n",
              "      <td>MARRIED</td>\n",
              "      <td>WHITE</td>\n",
              "      <td>2183-08-21 05:58:00</td>\n",
              "      <td>2183-08-21 17:45:00</td>\n",
              "      <td>CONGESTIVE HEART FAILURE</td>\n",
              "      <td>0</td>\n",
              "      <td>1</td>\n",
              "      <td>33</td>\n",
              "      <td>M</td>\n",
              "      <td>2114-09-17</td>\n",
              "      <td>2185-01-06 00:00:00</td>\n",
              "      <td>2185-01-06 00:00:00</td>\n",
              "      <td>2185-01-06 00:00:00</td>\n",
              "      <td>1</td>\n",
              "      <td>2183-08-21 16:48:00</td>\n",
              "    </tr>\n",
              "    <tr>\n",
              "      <th>2</th>\n",
              "      <td>456</td>\n",
              "      <td>357</td>\n",
              "      <td>174486</td>\n",
              "      <td>2197-12-06 07:13:00</td>\n",
              "      <td>2198-01-03 14:00:00</td>\n",
              "      <td>NaN</td>\n",
              "      <td>EMERGENCY</td>\n",
              "      <td>EMERGENCY ROOM ADMIT</td>\n",
              "      <td>REHAB/DISTINCT PART HOSP</td>\n",
              "      <td>Private</td>\n",
              "      <td>ENGL</td>\n",
              "      <td>UNKNOWN</td>\n",
              "      <td>MARRIED</td>\n",
              "      <td>WHITE</td>\n",
              "      <td>2197-12-06 06:28:00</td>\n",
              "      <td>2197-12-06 07:43:00</td>\n",
              "      <td>GASTROINTESTINAL BLEED</td>\n",
              "      <td>0</td>\n",
              "      <td>1</td>\n",
              "      <td>336</td>\n",
              "      <td>M</td>\n",
              "      <td>2135-03-22</td>\n",
              "      <td>2201-08-02 00:00:00</td>\n",
              "      <td>2201-08-02 00:00:00</td>\n",
              "      <td>2201-08-02 00:00:00</td>\n",
              "      <td>1</td>\n",
              "      <td>2197-12-06 07:13:00</td>\n",
              "    </tr>\n",
              "    <tr>\n",
              "      <th>3</th>\n",
              "      <td>458</td>\n",
              "      <td>357</td>\n",
              "      <td>122609</td>\n",
              "      <td>2198-11-01 22:36:00</td>\n",
              "      <td>2198-11-14 14:20:00</td>\n",
              "      <td>NaN</td>\n",
              "      <td>EMERGENCY</td>\n",
              "      <td>EMERGENCY ROOM ADMIT</td>\n",
              "      <td>REHAB/DISTINCT PART HOSP</td>\n",
              "      <td>Private</td>\n",
              "      <td>ENGL</td>\n",
              "      <td>UNKNOWN</td>\n",
              "      <td>MARRIED</td>\n",
              "      <td>WHITE</td>\n",
              "      <td>2198-11-01 18:01:00</td>\n",
              "      <td>2198-11-01 23:06:00</td>\n",
              "      <td>SEPSIS</td>\n",
              "      <td>0</td>\n",
              "      <td>1</td>\n",
              "      <td>336</td>\n",
              "      <td>M</td>\n",
              "      <td>2135-03-22</td>\n",
              "      <td>2201-08-02 00:00:00</td>\n",
              "      <td>2201-08-02 00:00:00</td>\n",
              "      <td>2201-08-02 00:00:00</td>\n",
              "      <td>1</td>\n",
              "      <td>2197-12-06 07:13:00</td>\n",
              "    </tr>\n",
              "    <tr>\n",
              "      <th>4</th>\n",
              "      <td>459</td>\n",
              "      <td>357</td>\n",
              "      <td>101651</td>\n",
              "      <td>2199-10-20 12:05:00</td>\n",
              "      <td>2199-10-23 17:30:00</td>\n",
              "      <td>NaN</td>\n",
              "      <td>EMERGENCY</td>\n",
              "      <td>EMERGENCY ROOM ADMIT</td>\n",
              "      <td>SNF</td>\n",
              "      <td>Private</td>\n",
              "      <td>ENGL</td>\n",
              "      <td>UNKNOWN</td>\n",
              "      <td>MARRIED</td>\n",
              "      <td>WHITE</td>\n",
              "      <td>2199-10-20 09:34:00</td>\n",
              "      <td>2199-10-20 13:25:00</td>\n",
              "      <td>PNEUMONIA</td>\n",
              "      <td>0</td>\n",
              "      <td>1</td>\n",
              "      <td>336</td>\n",
              "      <td>M</td>\n",
              "      <td>2135-03-22</td>\n",
              "      <td>2201-08-02 00:00:00</td>\n",
              "      <td>2201-08-02 00:00:00</td>\n",
              "      <td>2201-08-02 00:00:00</td>\n",
              "      <td>1</td>\n",
              "      <td>2197-12-06 07:13:00</td>\n",
              "    </tr>\n",
              "  </tbody>\n",
              "</table>\n",
              "</div>"
            ],
            "text/plain": [
              "   ROW_ID_x  SUBJECT_ID  ...  EXPIRE_FLAG      ADMITTIME_INIT\n",
              "0        36          36  ...            0 2131-04-30 07:15:00\n",
              "1        39          37  ...            1 2183-08-21 16:48:00\n",
              "2       456         357  ...            1 2197-12-06 07:13:00\n",
              "3       458         357  ...            1 2197-12-06 07:13:00\n",
              "4       459         357  ...            1 2197-12-06 07:13:00\n",
              "\n",
              "[5 rows x 27 columns]"
            ]
          },
          "metadata": {
            "tags": []
          },
          "execution_count": 117
        }
      ]
    },
    {
      "cell_type": "code",
      "metadata": {
        "id": "r_2Ir716fjsX",
        "colab": {
          "base_uri": "https://localhost:8080/",
          "height": 411
        },
        "outputId": "c16bc692-d13f-47fd-a511-3f8af23ea643"
      },
      "source": [
        "df['AGE'] = round((df['ADMITTIME_INIT'].sub(df['DOB'], axis=0))/np.timedelta64(1, 'Y'), 0)\n",
        "print(df.shape)\n",
        "df.head()"
      ],
      "execution_count": 118,
      "outputs": [
        {
          "output_type": "stream",
          "text": [
            "(8570, 28)\n"
          ],
          "name": "stdout"
        },
        {
          "output_type": "execute_result",
          "data": {
            "text/html": [
              "<div>\n",
              "<style scoped>\n",
              "    .dataframe tbody tr th:only-of-type {\n",
              "        vertical-align: middle;\n",
              "    }\n",
              "\n",
              "    .dataframe tbody tr th {\n",
              "        vertical-align: top;\n",
              "    }\n",
              "\n",
              "    .dataframe thead th {\n",
              "        text-align: right;\n",
              "    }\n",
              "</style>\n",
              "<table border=\"1\" class=\"dataframe\">\n",
              "  <thead>\n",
              "    <tr style=\"text-align: right;\">\n",
              "      <th></th>\n",
              "      <th>ROW_ID_x</th>\n",
              "      <th>SUBJECT_ID</th>\n",
              "      <th>HADM_ID</th>\n",
              "      <th>ADMITTIME</th>\n",
              "      <th>DISCHTIME</th>\n",
              "      <th>DEATHTIME</th>\n",
              "      <th>ADMISSION_TYPE</th>\n",
              "      <th>ADMISSION_LOCATION</th>\n",
              "      <th>DISCHARGE_LOCATION</th>\n",
              "      <th>INSURANCE</th>\n",
              "      <th>LANGUAGE</th>\n",
              "      <th>RELIGION</th>\n",
              "      <th>MARITAL_STATUS</th>\n",
              "      <th>ETHNICITY</th>\n",
              "      <th>EDREGTIME</th>\n",
              "      <th>EDOUTTIME</th>\n",
              "      <th>DIAGNOSIS</th>\n",
              "      <th>HOSPITAL_EXPIRE_FLAG</th>\n",
              "      <th>HAS_CHARTEVENTS_DATA</th>\n",
              "      <th>ROW_ID_y</th>\n",
              "      <th>GENDER</th>\n",
              "      <th>DOB</th>\n",
              "      <th>DOD</th>\n",
              "      <th>DOD_HOSP</th>\n",
              "      <th>DOD_SSN</th>\n",
              "      <th>EXPIRE_FLAG</th>\n",
              "      <th>ADMITTIME_INIT</th>\n",
              "      <th>AGE</th>\n",
              "    </tr>\n",
              "  </thead>\n",
              "  <tbody>\n",
              "    <tr>\n",
              "      <th>0</th>\n",
              "      <td>36</td>\n",
              "      <td>36</td>\n",
              "      <td>182104</td>\n",
              "      <td>2131-04-30 07:15:00</td>\n",
              "      <td>2131-05-08 14:00:00</td>\n",
              "      <td>NaN</td>\n",
              "      <td>EMERGENCY</td>\n",
              "      <td>CLINIC REFERRAL/PREMATURE</td>\n",
              "      <td>HOME HEALTH CARE</td>\n",
              "      <td>Medicare</td>\n",
              "      <td>ENGL</td>\n",
              "      <td>UNKNOWN</td>\n",
              "      <td>MARRIED</td>\n",
              "      <td>WHITE</td>\n",
              "      <td>NaN</td>\n",
              "      <td>NaN</td>\n",
              "      <td>CORONARY ARTERY DISEASE\\CORONARY ARTERY BYPASS...</td>\n",
              "      <td>0</td>\n",
              "      <td>1</td>\n",
              "      <td>32</td>\n",
              "      <td>M</td>\n",
              "      <td>2061-08-17</td>\n",
              "      <td>NaN</td>\n",
              "      <td>NaN</td>\n",
              "      <td>NaN</td>\n",
              "      <td>0</td>\n",
              "      <td>2131-04-30 07:15:00</td>\n",
              "      <td>70.0</td>\n",
              "    </tr>\n",
              "    <tr>\n",
              "      <th>1</th>\n",
              "      <td>39</td>\n",
              "      <td>37</td>\n",
              "      <td>188670</td>\n",
              "      <td>2183-08-21 16:48:00</td>\n",
              "      <td>2183-08-26 18:54:00</td>\n",
              "      <td>NaN</td>\n",
              "      <td>EMERGENCY</td>\n",
              "      <td>EMERGENCY ROOM ADMIT</td>\n",
              "      <td>HOME HEALTH CARE</td>\n",
              "      <td>Medicare</td>\n",
              "      <td>NaN</td>\n",
              "      <td>RELIGIOUS</td>\n",
              "      <td>MARRIED</td>\n",
              "      <td>WHITE</td>\n",
              "      <td>2183-08-21 05:58:00</td>\n",
              "      <td>2183-08-21 17:45:00</td>\n",
              "      <td>CONGESTIVE HEART FAILURE</td>\n",
              "      <td>0</td>\n",
              "      <td>1</td>\n",
              "      <td>33</td>\n",
              "      <td>M</td>\n",
              "      <td>2114-09-17</td>\n",
              "      <td>2185-01-06 00:00:00</td>\n",
              "      <td>2185-01-06 00:00:00</td>\n",
              "      <td>2185-01-06 00:00:00</td>\n",
              "      <td>1</td>\n",
              "      <td>2183-08-21 16:48:00</td>\n",
              "      <td>69.0</td>\n",
              "    </tr>\n",
              "    <tr>\n",
              "      <th>2</th>\n",
              "      <td>456</td>\n",
              "      <td>357</td>\n",
              "      <td>174486</td>\n",
              "      <td>2197-12-06 07:13:00</td>\n",
              "      <td>2198-01-03 14:00:00</td>\n",
              "      <td>NaN</td>\n",
              "      <td>EMERGENCY</td>\n",
              "      <td>EMERGENCY ROOM ADMIT</td>\n",
              "      <td>REHAB/DISTINCT PART HOSP</td>\n",
              "      <td>Private</td>\n",
              "      <td>ENGL</td>\n",
              "      <td>UNKNOWN</td>\n",
              "      <td>MARRIED</td>\n",
              "      <td>WHITE</td>\n",
              "      <td>2197-12-06 06:28:00</td>\n",
              "      <td>2197-12-06 07:43:00</td>\n",
              "      <td>GASTROINTESTINAL BLEED</td>\n",
              "      <td>0</td>\n",
              "      <td>1</td>\n",
              "      <td>336</td>\n",
              "      <td>M</td>\n",
              "      <td>2135-03-22</td>\n",
              "      <td>2201-08-02 00:00:00</td>\n",
              "      <td>2201-08-02 00:00:00</td>\n",
              "      <td>2201-08-02 00:00:00</td>\n",
              "      <td>1</td>\n",
              "      <td>2197-12-06 07:13:00</td>\n",
              "      <td>63.0</td>\n",
              "    </tr>\n",
              "    <tr>\n",
              "      <th>3</th>\n",
              "      <td>458</td>\n",
              "      <td>357</td>\n",
              "      <td>122609</td>\n",
              "      <td>2198-11-01 22:36:00</td>\n",
              "      <td>2198-11-14 14:20:00</td>\n",
              "      <td>NaN</td>\n",
              "      <td>EMERGENCY</td>\n",
              "      <td>EMERGENCY ROOM ADMIT</td>\n",
              "      <td>REHAB/DISTINCT PART HOSP</td>\n",
              "      <td>Private</td>\n",
              "      <td>ENGL</td>\n",
              "      <td>UNKNOWN</td>\n",
              "      <td>MARRIED</td>\n",
              "      <td>WHITE</td>\n",
              "      <td>2198-11-01 18:01:00</td>\n",
              "      <td>2198-11-01 23:06:00</td>\n",
              "      <td>SEPSIS</td>\n",
              "      <td>0</td>\n",
              "      <td>1</td>\n",
              "      <td>336</td>\n",
              "      <td>M</td>\n",
              "      <td>2135-03-22</td>\n",
              "      <td>2201-08-02 00:00:00</td>\n",
              "      <td>2201-08-02 00:00:00</td>\n",
              "      <td>2201-08-02 00:00:00</td>\n",
              "      <td>1</td>\n",
              "      <td>2197-12-06 07:13:00</td>\n",
              "      <td>63.0</td>\n",
              "    </tr>\n",
              "    <tr>\n",
              "      <th>4</th>\n",
              "      <td>459</td>\n",
              "      <td>357</td>\n",
              "      <td>101651</td>\n",
              "      <td>2199-10-20 12:05:00</td>\n",
              "      <td>2199-10-23 17:30:00</td>\n",
              "      <td>NaN</td>\n",
              "      <td>EMERGENCY</td>\n",
              "      <td>EMERGENCY ROOM ADMIT</td>\n",
              "      <td>SNF</td>\n",
              "      <td>Private</td>\n",
              "      <td>ENGL</td>\n",
              "      <td>UNKNOWN</td>\n",
              "      <td>MARRIED</td>\n",
              "      <td>WHITE</td>\n",
              "      <td>2199-10-20 09:34:00</td>\n",
              "      <td>2199-10-20 13:25:00</td>\n",
              "      <td>PNEUMONIA</td>\n",
              "      <td>0</td>\n",
              "      <td>1</td>\n",
              "      <td>336</td>\n",
              "      <td>M</td>\n",
              "      <td>2135-03-22</td>\n",
              "      <td>2201-08-02 00:00:00</td>\n",
              "      <td>2201-08-02 00:00:00</td>\n",
              "      <td>2201-08-02 00:00:00</td>\n",
              "      <td>1</td>\n",
              "      <td>2197-12-06 07:13:00</td>\n",
              "      <td>63.0</td>\n",
              "    </tr>\n",
              "  </tbody>\n",
              "</table>\n",
              "</div>"
            ],
            "text/plain": [
              "   ROW_ID_x  SUBJECT_ID  HADM_ID  ... EXPIRE_FLAG      ADMITTIME_INIT   AGE\n",
              "0        36          36   182104  ...           0 2131-04-30 07:15:00  70.0\n",
              "1        39          37   188670  ...           1 2183-08-21 16:48:00  69.0\n",
              "2       456         357   174486  ...           1 2197-12-06 07:13:00  63.0\n",
              "3       458         357   122609  ...           1 2197-12-06 07:13:00  63.0\n",
              "4       459         357   101651  ...           1 2197-12-06 07:13:00  63.0\n",
              "\n",
              "[5 rows x 28 columns]"
            ]
          },
          "metadata": {
            "tags": []
          },
          "execution_count": 118
        }
      ]
    },
    {
      "cell_type": "markdown",
      "metadata": {
        "id": "gkbs6dd3EwpG"
      },
      "source": [
        "### Filter abnormal rows"
      ]
    },
    {
      "cell_type": "code",
      "metadata": {
        "id": "wd2IrvgnfjsY",
        "colab": {
          "base_uri": "https://localhost:8080/",
          "height": 295
        },
        "outputId": "9efcd2be-fe30-4931-f3ac-dac09b318fbc"
      },
      "source": [
        "# Note that no ‘middle’ patients show up - this reflects the fact that MIMIC-III does not contain data from pediatric patients.\n",
        "plt.hist(df['AGE'], bins=20, color='#c44e52')\n",
        "plt.ylabel('Number of Patients')\n",
        "plt.xlabel('Age (years)')\n",
        "plt.title('Distribution of Age in MIMIC-III')\n",
        "plt.tick_params(left=False, bottom=False, top=False, right=False) \n",
        "plt.show();"
      ],
      "execution_count": 119,
      "outputs": [
        {
          "output_type": "display_data",
          "data": {
            "image/png": "[encoded data removed]",
            "text/plain": [
              "<Figure size 432x288 with 1 Axes>"
            ]
          },
          "metadata": {
            "tags": [],
            "needs_background": "light"
          }
        }
      ]
    },
    {
      "cell_type": "code",
      "metadata": {
        "id": "F40etqc-fjsY",
        "colab": {
          "base_uri": "https://localhost:8080/",
          "height": 411
        },
        "outputId": "0d241db0-741d-43df-e37a-ad93ec22149f"
      },
      "source": [
        "df = df.loc[df['AGE'] >= 0]\n",
        "print(df.shape)\n",
        "df.head()"
      ],
      "execution_count": 120,
      "outputs": [
        {
          "output_type": "stream",
          "text": [
            "(7956, 28)\n"
          ],
          "name": "stdout"
        },
        {
          "output_type": "execute_result",
          "data": {
            "text/html": [
              "<div>\n",
              "<style scoped>\n",
              "    .dataframe tbody tr th:only-of-type {\n",
              "        vertical-align: middle;\n",
              "    }\n",
              "\n",
              "    .dataframe tbody tr th {\n",
              "        vertical-align: top;\n",
              "    }\n",
              "\n",
              "    .dataframe thead th {\n",
              "        text-align: right;\n",
              "    }\n",
              "</style>\n",
              "<table border=\"1\" class=\"dataframe\">\n",
              "  <thead>\n",
              "    <tr style=\"text-align: right;\">\n",
              "      <th></th>\n",
              "      <th>ROW_ID_x</th>\n",
              "      <th>SUBJECT_ID</th>\n",
              "      <th>HADM_ID</th>\n",
              "      <th>ADMITTIME</th>\n",
              "      <th>DISCHTIME</th>\n",
              "      <th>DEATHTIME</th>\n",
              "      <th>ADMISSION_TYPE</th>\n",
              "      <th>ADMISSION_LOCATION</th>\n",
              "      <th>DISCHARGE_LOCATION</th>\n",
              "      <th>INSURANCE</th>\n",
              "      <th>LANGUAGE</th>\n",
              "      <th>RELIGION</th>\n",
              "      <th>MARITAL_STATUS</th>\n",
              "      <th>ETHNICITY</th>\n",
              "      <th>EDREGTIME</th>\n",
              "      <th>EDOUTTIME</th>\n",
              "      <th>DIAGNOSIS</th>\n",
              "      <th>HOSPITAL_EXPIRE_FLAG</th>\n",
              "      <th>HAS_CHARTEVENTS_DATA</th>\n",
              "      <th>ROW_ID_y</th>\n",
              "      <th>GENDER</th>\n",
              "      <th>DOB</th>\n",
              "      <th>DOD</th>\n",
              "      <th>DOD_HOSP</th>\n",
              "      <th>DOD_SSN</th>\n",
              "      <th>EXPIRE_FLAG</th>\n",
              "      <th>ADMITTIME_INIT</th>\n",
              "      <th>AGE</th>\n",
              "    </tr>\n",
              "  </thead>\n",
              "  <tbody>\n",
              "    <tr>\n",
              "      <th>0</th>\n",
              "      <td>36</td>\n",
              "      <td>36</td>\n",
              "      <td>182104</td>\n",
              "      <td>2131-04-30 07:15:00</td>\n",
              "      <td>2131-05-08 14:00:00</td>\n",
              "      <td>NaN</td>\n",
              "      <td>EMERGENCY</td>\n",
              "      <td>CLINIC REFERRAL/PREMATURE</td>\n",
              "      <td>HOME HEALTH CARE</td>\n",
              "      <td>Medicare</td>\n",
              "      <td>ENGL</td>\n",
              "      <td>UNKNOWN</td>\n",
              "      <td>MARRIED</td>\n",
              "      <td>WHITE</td>\n",
              "      <td>NaN</td>\n",
              "      <td>NaN</td>\n",
              "      <td>CORONARY ARTERY DISEASE\\CORONARY ARTERY BYPASS...</td>\n",
              "      <td>0</td>\n",
              "      <td>1</td>\n",
              "      <td>32</td>\n",
              "      <td>M</td>\n",
              "      <td>2061-08-17</td>\n",
              "      <td>NaN</td>\n",
              "      <td>NaN</td>\n",
              "      <td>NaN</td>\n",
              "      <td>0</td>\n",
              "      <td>2131-04-30 07:15:00</td>\n",
              "      <td>70.0</td>\n",
              "    </tr>\n",
              "    <tr>\n",
              "      <th>1</th>\n",
              "      <td>39</td>\n",
              "      <td>37</td>\n",
              "      <td>188670</td>\n",
              "      <td>2183-08-21 16:48:00</td>\n",
              "      <td>2183-08-26 18:54:00</td>\n",
              "      <td>NaN</td>\n",
              "      <td>EMERGENCY</td>\n",
              "      <td>EMERGENCY ROOM ADMIT</td>\n",
              "      <td>HOME HEALTH CARE</td>\n",
              "      <td>Medicare</td>\n",
              "      <td>NaN</td>\n",
              "      <td>RELIGIOUS</td>\n",
              "      <td>MARRIED</td>\n",
              "      <td>WHITE</td>\n",
              "      <td>2183-08-21 05:58:00</td>\n",
              "      <td>2183-08-21 17:45:00</td>\n",
              "      <td>CONGESTIVE HEART FAILURE</td>\n",
              "      <td>0</td>\n",
              "      <td>1</td>\n",
              "      <td>33</td>\n",
              "      <td>M</td>\n",
              "      <td>2114-09-17</td>\n",
              "      <td>2185-01-06 00:00:00</td>\n",
              "      <td>2185-01-06 00:00:00</td>\n",
              "      <td>2185-01-06 00:00:00</td>\n",
              "      <td>1</td>\n",
              "      <td>2183-08-21 16:48:00</td>\n",
              "      <td>69.0</td>\n",
              "    </tr>\n",
              "    <tr>\n",
              "      <th>2</th>\n",
              "      <td>456</td>\n",
              "      <td>357</td>\n",
              "      <td>174486</td>\n",
              "      <td>2197-12-06 07:13:00</td>\n",
              "      <td>2198-01-03 14:00:00</td>\n",
              "      <td>NaN</td>\n",
              "      <td>EMERGENCY</td>\n",
              "      <td>EMERGENCY ROOM ADMIT</td>\n",
              "      <td>REHAB/DISTINCT PART HOSP</td>\n",
              "      <td>Private</td>\n",
              "      <td>ENGL</td>\n",
              "      <td>UNKNOWN</td>\n",
              "      <td>MARRIED</td>\n",
              "      <td>WHITE</td>\n",
              "      <td>2197-12-06 06:28:00</td>\n",
              "      <td>2197-12-06 07:43:00</td>\n",
              "      <td>GASTROINTESTINAL BLEED</td>\n",
              "      <td>0</td>\n",
              "      <td>1</td>\n",
              "      <td>336</td>\n",
              "      <td>M</td>\n",
              "      <td>2135-03-22</td>\n",
              "      <td>2201-08-02 00:00:00</td>\n",
              "      <td>2201-08-02 00:00:00</td>\n",
              "      <td>2201-08-02 00:00:00</td>\n",
              "      <td>1</td>\n",
              "      <td>2197-12-06 07:13:00</td>\n",
              "      <td>63.0</td>\n",
              "    </tr>\n",
              "    <tr>\n",
              "      <th>3</th>\n",
              "      <td>458</td>\n",
              "      <td>357</td>\n",
              "      <td>122609</td>\n",
              "      <td>2198-11-01 22:36:00</td>\n",
              "      <td>2198-11-14 14:20:00</td>\n",
              "      <td>NaN</td>\n",
              "      <td>EMERGENCY</td>\n",
              "      <td>EMERGENCY ROOM ADMIT</td>\n",
              "      <td>REHAB/DISTINCT PART HOSP</td>\n",
              "      <td>Private</td>\n",
              "      <td>ENGL</td>\n",
              "      <td>UNKNOWN</td>\n",
              "      <td>MARRIED</td>\n",
              "      <td>WHITE</td>\n",
              "      <td>2198-11-01 18:01:00</td>\n",
              "      <td>2198-11-01 23:06:00</td>\n",
              "      <td>SEPSIS</td>\n",
              "      <td>0</td>\n",
              "      <td>1</td>\n",
              "      <td>336</td>\n",
              "      <td>M</td>\n",
              "      <td>2135-03-22</td>\n",
              "      <td>2201-08-02 00:00:00</td>\n",
              "      <td>2201-08-02 00:00:00</td>\n",
              "      <td>2201-08-02 00:00:00</td>\n",
              "      <td>1</td>\n",
              "      <td>2197-12-06 07:13:00</td>\n",
              "      <td>63.0</td>\n",
              "    </tr>\n",
              "    <tr>\n",
              "      <th>4</th>\n",
              "      <td>459</td>\n",
              "      <td>357</td>\n",
              "      <td>101651</td>\n",
              "      <td>2199-10-20 12:05:00</td>\n",
              "      <td>2199-10-23 17:30:00</td>\n",
              "      <td>NaN</td>\n",
              "      <td>EMERGENCY</td>\n",
              "      <td>EMERGENCY ROOM ADMIT</td>\n",
              "      <td>SNF</td>\n",
              "      <td>Private</td>\n",
              "      <td>ENGL</td>\n",
              "      <td>UNKNOWN</td>\n",
              "      <td>MARRIED</td>\n",
              "      <td>WHITE</td>\n",
              "      <td>2199-10-20 09:34:00</td>\n",
              "      <td>2199-10-20 13:25:00</td>\n",
              "      <td>PNEUMONIA</td>\n",
              "      <td>0</td>\n",
              "      <td>1</td>\n",
              "      <td>336</td>\n",
              "      <td>M</td>\n",
              "      <td>2135-03-22</td>\n",
              "      <td>2201-08-02 00:00:00</td>\n",
              "      <td>2201-08-02 00:00:00</td>\n",
              "      <td>2201-08-02 00:00:00</td>\n",
              "      <td>1</td>\n",
              "      <td>2197-12-06 07:13:00</td>\n",
              "      <td>63.0</td>\n",
              "    </tr>\n",
              "  </tbody>\n",
              "</table>\n",
              "</div>"
            ],
            "text/plain": [
              "   ROW_ID_x  SUBJECT_ID  HADM_ID  ... EXPIRE_FLAG      ADMITTIME_INIT   AGE\n",
              "0        36          36   182104  ...           0 2131-04-30 07:15:00  70.0\n",
              "1        39          37   188670  ...           1 2183-08-21 16:48:00  69.0\n",
              "2       456         357   174486  ...           1 2197-12-06 07:13:00  63.0\n",
              "3       458         357   122609  ...           1 2197-12-06 07:13:00  63.0\n",
              "4       459         357   101651  ...           1 2197-12-06 07:13:00  63.0\n",
              "\n",
              "[5 rows x 28 columns]"
            ]
          },
          "metadata": {
            "tags": []
          },
          "execution_count": 120
        }
      ]
    },
    {
      "cell_type": "code",
      "metadata": {
        "id": "h7frCJ0gfjsY",
        "colab": {
          "base_uri": "https://localhost:8080/",
          "height": 295
        },
        "outputId": "561a10b0-52e1-4e76-fb5a-5e7d8d76a9f5"
      },
      "source": [
        "# Note that no ‘middle’ patients show up - this reflects the fact that MIMIC-III does not contain data from pediatric patients.\n",
        "plt.hist(df['AGE'], bins=10, color='#c44e52')\n",
        "plt.ylabel('Number of Patients')\n",
        "plt.xlabel('Age (years)')\n",
        "plt.title('Distribution of Age in MIMIC-III')\n",
        "plt.tick_params(left=False, bottom=False, top=False, right=False) \n",
        "plt.show();"
      ],
      "execution_count": 121,
      "outputs": [
        {
          "output_type": "display_data",
          "data": {
            "image/png": "[encoded data removed]",
            "text/plain": [
              "<Figure size 432x288 with 1 Axes>"
            ]
          },
          "metadata": {
            "tags": [],
            "needs_background": "light"
          }
        }
      ]
    },
    {
      "cell_type": "code",
      "metadata": {
        "id": "jjQuvfcmfjsZ",
        "colab": {
          "base_uri": "https://localhost:8080/"
        },
        "outputId": "ddee92c1-25e5-425b-efde-f88344f53ed1"
      },
      "source": [
        "age_range = [(0, 20), (20, 40), (40, 60), (60, 100)]\n",
        "\n",
        "age_dict = {0: 'minor',\n",
        "            1: 'young_adult',\n",
        "            2: 'middle_adult',\n",
        "            3: 'senior'}\n",
        "\n",
        "for num, category_range in enumerate(age_range):\n",
        "    df['AGE'] = np.where(df['AGE'].between(category_range[0], category_range[1]), num, df['AGE'])\n",
        "    \n",
        "df['AGE'] = df['AGE'].replace(age_dict)\n",
        "df['AGE'].value_counts()"
      ],
      "execution_count": 122,
      "outputs": [
        {
          "output_type": "execute_result",
          "data": {
            "text/plain": [
              "senior          5264\n",
              "middle_adult    2226\n",
              "young_adult      432\n",
              "minor             34\n",
              "Name: AGE, dtype: int64"
            ]
          },
          "metadata": {
            "tags": []
          },
          "execution_count": 122
        }
      ]
    },
    {
      "cell_type": "code",
      "metadata": {
        "id": "ifGlSEpyZUYA",
        "colab": {
          "base_uri": "https://localhost:8080/",
          "height": 411
        },
        "outputId": "b8656548-01da-4024-bdec-2ed792232c0a"
      },
      "source": [
        "#df = df.drop(['ADMITTIME', 'DOB', 'ADMITTIME_INIT'], axis=1)\n",
        "print(df.shape)\n",
        "df.head()"
      ],
      "execution_count": 123,
      "outputs": [
        {
          "output_type": "stream",
          "text": [
            "(7956, 28)\n"
          ],
          "name": "stdout"
        },
        {
          "output_type": "execute_result",
          "data": {
            "text/html": [
              "<div>\n",
              "<style scoped>\n",
              "    .dataframe tbody tr th:only-of-type {\n",
              "        vertical-align: middle;\n",
              "    }\n",
              "\n",
              "    .dataframe tbody tr th {\n",
              "        vertical-align: top;\n",
              "    }\n",
              "\n",
              "    .dataframe thead th {\n",
              "        text-align: right;\n",
              "    }\n",
              "</style>\n",
              "<table border=\"1\" class=\"dataframe\">\n",
              "  <thead>\n",
              "    <tr style=\"text-align: right;\">\n",
              "      <th></th>\n",
              "      <th>ROW_ID_x</th>\n",
              "      <th>SUBJECT_ID</th>\n",
              "      <th>HADM_ID</th>\n",
              "      <th>ADMITTIME</th>\n",
              "      <th>DISCHTIME</th>\n",
              "      <th>DEATHTIME</th>\n",
              "      <th>ADMISSION_TYPE</th>\n",
              "      <th>ADMISSION_LOCATION</th>\n",
              "      <th>DISCHARGE_LOCATION</th>\n",
              "      <th>INSURANCE</th>\n",
              "      <th>LANGUAGE</th>\n",
              "      <th>RELIGION</th>\n",
              "      <th>MARITAL_STATUS</th>\n",
              "      <th>ETHNICITY</th>\n",
              "      <th>EDREGTIME</th>\n",
              "      <th>EDOUTTIME</th>\n",
              "      <th>DIAGNOSIS</th>\n",
              "      <th>HOSPITAL_EXPIRE_FLAG</th>\n",
              "      <th>HAS_CHARTEVENTS_DATA</th>\n",
              "      <th>ROW_ID_y</th>\n",
              "      <th>GENDER</th>\n",
              "      <th>DOB</th>\n",
              "      <th>DOD</th>\n",
              "      <th>DOD_HOSP</th>\n",
              "      <th>DOD_SSN</th>\n",
              "      <th>EXPIRE_FLAG</th>\n",
              "      <th>ADMITTIME_INIT</th>\n",
              "      <th>AGE</th>\n",
              "    </tr>\n",
              "  </thead>\n",
              "  <tbody>\n",
              "    <tr>\n",
              "      <th>0</th>\n",
              "      <td>36</td>\n",
              "      <td>36</td>\n",
              "      <td>182104</td>\n",
              "      <td>2131-04-30 07:15:00</td>\n",
              "      <td>2131-05-08 14:00:00</td>\n",
              "      <td>NaN</td>\n",
              "      <td>EMERGENCY</td>\n",
              "      <td>CLINIC REFERRAL/PREMATURE</td>\n",
              "      <td>HOME HEALTH CARE</td>\n",
              "      <td>Medicare</td>\n",
              "      <td>ENGL</td>\n",
              "      <td>UNKNOWN</td>\n",
              "      <td>MARRIED</td>\n",
              "      <td>WHITE</td>\n",
              "      <td>NaN</td>\n",
              "      <td>NaN</td>\n",
              "      <td>CORONARY ARTERY DISEASE\\CORONARY ARTERY BYPASS...</td>\n",
              "      <td>0</td>\n",
              "      <td>1</td>\n",
              "      <td>32</td>\n",
              "      <td>M</td>\n",
              "      <td>2061-08-17</td>\n",
              "      <td>NaN</td>\n",
              "      <td>NaN</td>\n",
              "      <td>NaN</td>\n",
              "      <td>0</td>\n",
              "      <td>2131-04-30 07:15:00</td>\n",
              "      <td>senior</td>\n",
              "    </tr>\n",
              "    <tr>\n",
              "      <th>1</th>\n",
              "      <td>39</td>\n",
              "      <td>37</td>\n",
              "      <td>188670</td>\n",
              "      <td>2183-08-21 16:48:00</td>\n",
              "      <td>2183-08-26 18:54:00</td>\n",
              "      <td>NaN</td>\n",
              "      <td>EMERGENCY</td>\n",
              "      <td>EMERGENCY ROOM ADMIT</td>\n",
              "      <td>HOME HEALTH CARE</td>\n",
              "      <td>Medicare</td>\n",
              "      <td>NaN</td>\n",
              "      <td>RELIGIOUS</td>\n",
              "      <td>MARRIED</td>\n",
              "      <td>WHITE</td>\n",
              "      <td>2183-08-21 05:58:00</td>\n",
              "      <td>2183-08-21 17:45:00</td>\n",
              "      <td>CONGESTIVE HEART FAILURE</td>\n",
              "      <td>0</td>\n",
              "      <td>1</td>\n",
              "      <td>33</td>\n",
              "      <td>M</td>\n",
              "      <td>2114-09-17</td>\n",
              "      <td>2185-01-06 00:00:00</td>\n",
              "      <td>2185-01-06 00:00:00</td>\n",
              "      <td>2185-01-06 00:00:00</td>\n",
              "      <td>1</td>\n",
              "      <td>2183-08-21 16:48:00</td>\n",
              "      <td>senior</td>\n",
              "    </tr>\n",
              "    <tr>\n",
              "      <th>2</th>\n",
              "      <td>456</td>\n",
              "      <td>357</td>\n",
              "      <td>174486</td>\n",
              "      <td>2197-12-06 07:13:00</td>\n",
              "      <td>2198-01-03 14:00:00</td>\n",
              "      <td>NaN</td>\n",
              "      <td>EMERGENCY</td>\n",
              "      <td>EMERGENCY ROOM ADMIT</td>\n",
              "      <td>REHAB/DISTINCT PART HOSP</td>\n",
              "      <td>Private</td>\n",
              "      <td>ENGL</td>\n",
              "      <td>UNKNOWN</td>\n",
              "      <td>MARRIED</td>\n",
              "      <td>WHITE</td>\n",
              "      <td>2197-12-06 06:28:00</td>\n",
              "      <td>2197-12-06 07:43:00</td>\n",
              "      <td>GASTROINTESTINAL BLEED</td>\n",
              "      <td>0</td>\n",
              "      <td>1</td>\n",
              "      <td>336</td>\n",
              "      <td>M</td>\n",
              "      <td>2135-03-22</td>\n",
              "      <td>2201-08-02 00:00:00</td>\n",
              "      <td>2201-08-02 00:00:00</td>\n",
              "      <td>2201-08-02 00:00:00</td>\n",
              "      <td>1</td>\n",
              "      <td>2197-12-06 07:13:00</td>\n",
              "      <td>senior</td>\n",
              "    </tr>\n",
              "    <tr>\n",
              "      <th>3</th>\n",
              "      <td>458</td>\n",
              "      <td>357</td>\n",
              "      <td>122609</td>\n",
              "      <td>2198-11-01 22:36:00</td>\n",
              "      <td>2198-11-14 14:20:00</td>\n",
              "      <td>NaN</td>\n",
              "      <td>EMERGENCY</td>\n",
              "      <td>EMERGENCY ROOM ADMIT</td>\n",
              "      <td>REHAB/DISTINCT PART HOSP</td>\n",
              "      <td>Private</td>\n",
              "      <td>ENGL</td>\n",
              "      <td>UNKNOWN</td>\n",
              "      <td>MARRIED</td>\n",
              "      <td>WHITE</td>\n",
              "      <td>2198-11-01 18:01:00</td>\n",
              "      <td>2198-11-01 23:06:00</td>\n",
              "      <td>SEPSIS</td>\n",
              "      <td>0</td>\n",
              "      <td>1</td>\n",
              "      <td>336</td>\n",
              "      <td>M</td>\n",
              "      <td>2135-03-22</td>\n",
              "      <td>2201-08-02 00:00:00</td>\n",
              "      <td>2201-08-02 00:00:00</td>\n",
              "      <td>2201-08-02 00:00:00</td>\n",
              "      <td>1</td>\n",
              "      <td>2197-12-06 07:13:00</td>\n",
              "      <td>senior</td>\n",
              "    </tr>\n",
              "    <tr>\n",
              "      <th>4</th>\n",
              "      <td>459</td>\n",
              "      <td>357</td>\n",
              "      <td>101651</td>\n",
              "      <td>2199-10-20 12:05:00</td>\n",
              "      <td>2199-10-23 17:30:00</td>\n",
              "      <td>NaN</td>\n",
              "      <td>EMERGENCY</td>\n",
              "      <td>EMERGENCY ROOM ADMIT</td>\n",
              "      <td>SNF</td>\n",
              "      <td>Private</td>\n",
              "      <td>ENGL</td>\n",
              "      <td>UNKNOWN</td>\n",
              "      <td>MARRIED</td>\n",
              "      <td>WHITE</td>\n",
              "      <td>2199-10-20 09:34:00</td>\n",
              "      <td>2199-10-20 13:25:00</td>\n",
              "      <td>PNEUMONIA</td>\n",
              "      <td>0</td>\n",
              "      <td>1</td>\n",
              "      <td>336</td>\n",
              "      <td>M</td>\n",
              "      <td>2135-03-22</td>\n",
              "      <td>2201-08-02 00:00:00</td>\n",
              "      <td>2201-08-02 00:00:00</td>\n",
              "      <td>2201-08-02 00:00:00</td>\n",
              "      <td>1</td>\n",
              "      <td>2197-12-06 07:13:00</td>\n",
              "      <td>senior</td>\n",
              "    </tr>\n",
              "  </tbody>\n",
              "</table>\n",
              "</div>"
            ],
            "text/plain": [
              "   ROW_ID_x  SUBJECT_ID  HADM_ID  ... EXPIRE_FLAG      ADMITTIME_INIT     AGE\n",
              "0        36          36   182104  ...           0 2131-04-30 07:15:00  senior\n",
              "1        39          37   188670  ...           1 2183-08-21 16:48:00  senior\n",
              "2       456         357   174486  ...           1 2197-12-06 07:13:00  senior\n",
              "3       458         357   122609  ...           1 2197-12-06 07:13:00  senior\n",
              "4       459         357   101651  ...           1 2197-12-06 07:13:00  senior\n",
              "\n",
              "[5 rows x 28 columns]"
            ]
          },
          "metadata": {
            "tags": []
          },
          "execution_count": 123
        }
      ]
    },
    {
      "cell_type": "markdown",
      "metadata": {
        "id": "abllKneQa-nR"
      },
      "source": [
        "## Drop unnecessary columns"
      ]
    },
    {
      "cell_type": "code",
      "metadata": {
        "colab": {
          "base_uri": "https://localhost:8080/",
          "height": 221
        },
        "id": "dl0uC8OZaHVW",
        "outputId": "97972c49-11ea-47f5-c80e-e4af8c781858"
      },
      "source": [
        "df = df.drop(['ROW_ID_x', 'SUBJECT_ID', 'ADMITTIME', 'DISCHTIME',\n",
        "       'DEATHTIME', 'ADMISSION_LOCATION', 'DISCHARGE_LOCATION', 'LANGUAGE',\n",
        "       'EDREGTIME', 'EDOUTTIME', 'HOSPITAL_EXPIRE_FLAG', 'HAS_CHARTEVENTS_DATA', 'ROW_ID_y',\n",
        "       'DOB', 'DOD', 'DOD_HOSP', 'DOD_SSN', 'EXPIRE_FLAG', 'ADMITTIME_INIT'], axis=1)\n",
        "\n",
        "print(df.shape)\n",
        "df.head()"
      ],
      "execution_count": 124,
      "outputs": [
        {
          "output_type": "stream",
          "text": [
            "(7956, 9)\n"
          ],
          "name": "stdout"
        },
        {
          "output_type": "execute_result",
          "data": {
            "text/html": [
              "<div>\n",
              "<style scoped>\n",
              "    .dataframe tbody tr th:only-of-type {\n",
              "        vertical-align: middle;\n",
              "    }\n",
              "\n",
              "    .dataframe tbody tr th {\n",
              "        vertical-align: top;\n",
              "    }\n",
              "\n",
              "    .dataframe thead th {\n",
              "        text-align: right;\n",
              "    }\n",
              "</style>\n",
              "<table border=\"1\" class=\"dataframe\">\n",
              "  <thead>\n",
              "    <tr style=\"text-align: right;\">\n",
              "      <th></th>\n",
              "      <th>HADM_ID</th>\n",
              "      <th>ADMISSION_TYPE</th>\n",
              "      <th>INSURANCE</th>\n",
              "      <th>RELIGION</th>\n",
              "      <th>MARITAL_STATUS</th>\n",
              "      <th>ETHNICITY</th>\n",
              "      <th>DIAGNOSIS</th>\n",
              "      <th>GENDER</th>\n",
              "      <th>AGE</th>\n",
              "    </tr>\n",
              "  </thead>\n",
              "  <tbody>\n",
              "    <tr>\n",
              "      <th>0</th>\n",
              "      <td>182104</td>\n",
              "      <td>EMERGENCY</td>\n",
              "      <td>Medicare</td>\n",
              "      <td>UNKNOWN</td>\n",
              "      <td>MARRIED</td>\n",
              "      <td>WHITE</td>\n",
              "      <td>CORONARY ARTERY DISEASE\\CORONARY ARTERY BYPASS...</td>\n",
              "      <td>M</td>\n",
              "      <td>senior</td>\n",
              "    </tr>\n",
              "    <tr>\n",
              "      <th>1</th>\n",
              "      <td>188670</td>\n",
              "      <td>EMERGENCY</td>\n",
              "      <td>Medicare</td>\n",
              "      <td>RELIGIOUS</td>\n",
              "      <td>MARRIED</td>\n",
              "      <td>WHITE</td>\n",
              "      <td>CONGESTIVE HEART FAILURE</td>\n",
              "      <td>M</td>\n",
              "      <td>senior</td>\n",
              "    </tr>\n",
              "    <tr>\n",
              "      <th>2</th>\n",
              "      <td>174486</td>\n",
              "      <td>EMERGENCY</td>\n",
              "      <td>Private</td>\n",
              "      <td>UNKNOWN</td>\n",
              "      <td>MARRIED</td>\n",
              "      <td>WHITE</td>\n",
              "      <td>GASTROINTESTINAL BLEED</td>\n",
              "      <td>M</td>\n",
              "      <td>senior</td>\n",
              "    </tr>\n",
              "    <tr>\n",
              "      <th>3</th>\n",
              "      <td>122609</td>\n",
              "      <td>EMERGENCY</td>\n",
              "      <td>Private</td>\n",
              "      <td>UNKNOWN</td>\n",
              "      <td>MARRIED</td>\n",
              "      <td>WHITE</td>\n",
              "      <td>SEPSIS</td>\n",
              "      <td>M</td>\n",
              "      <td>senior</td>\n",
              "    </tr>\n",
              "    <tr>\n",
              "      <th>4</th>\n",
              "      <td>101651</td>\n",
              "      <td>EMERGENCY</td>\n",
              "      <td>Private</td>\n",
              "      <td>UNKNOWN</td>\n",
              "      <td>MARRIED</td>\n",
              "      <td>WHITE</td>\n",
              "      <td>PNEUMONIA</td>\n",
              "      <td>M</td>\n",
              "      <td>senior</td>\n",
              "    </tr>\n",
              "  </tbody>\n",
              "</table>\n",
              "</div>"
            ],
            "text/plain": [
              "   HADM_ID ADMISSION_TYPE  ... GENDER     AGE\n",
              "0   182104      EMERGENCY  ...      M  senior\n",
              "1   188670      EMERGENCY  ...      M  senior\n",
              "2   174486      EMERGENCY  ...      M  senior\n",
              "3   122609      EMERGENCY  ...      M  senior\n",
              "4   101651      EMERGENCY  ...      M  senior\n",
              "\n",
              "[5 rows x 9 columns]"
            ]
          },
          "metadata": {
            "tags": []
          },
          "execution_count": 124
        }
      ]
    },
    {
      "cell_type": "markdown",
      "metadata": {
        "id": "RRO5TVSpbQE8"
      },
      "source": [
        "## Create df for each diagnosis"
      ]
    },
    {
      "cell_type": "code",
      "metadata": {
        "colab": {
          "base_uri": "https://localhost:8080/"
        },
        "id": "Lk72HF6rbW9o",
        "outputId": "d867052b-7cd4-400b-8bd7-6e83c6cb2348"
      },
      "source": [
        "diagnosis_top_10"
      ],
      "execution_count": 125,
      "outputs": [
        {
          "output_type": "execute_result",
          "data": {
            "text/plain": [
              "['PNEUMONIA',\n",
              " 'SEPSIS',\n",
              " 'CONGESTIVE HEART FAILURE',\n",
              " 'CORONARY ARTERY DISEASE',\n",
              " 'CHEST PAIN',\n",
              " 'INTRACRANIAL HEMORRHAGE',\n",
              " 'ALTERED MENTAL STATUS',\n",
              " 'GASTROINTESTINAL BLEED',\n",
              " 'CORONARY ARTERY DISEASE\\\\CORONARY ARTERY BYPASS GRAFT /SDA',\n",
              " 'UPPER GI BLEED']"
            ]
          },
          "metadata": {
            "tags": []
          },
          "execution_count": 125
        }
      ]
    },
    {
      "cell_type": "code",
      "metadata": {
        "id": "YqIFIgmMba2t"
      },
      "source": [
        "ls_df_diagnosis = []\n",
        "\n",
        "for diagnosis in diagnosis_top_10:\n",
        "  #locals()['df_'+ diagnosis.lower().replace(' ', '_')] = df.loc[df['DIAGNOSIS'] == diagnosis]\n",
        "  #ls_df_diagnosis.append('df_'+ diagnosis.lower().replace(' ', '_'))\n",
        "  locals()['df_'+ diagnosis.lower().replace(' ', '_').replace('\\\\', '_').replace('/', '_').replace('__', '_')] = df.loc[df['DIAGNOSIS'] == diagnosis]\n",
        "  ls_df_diagnosis.append('df_'+ diagnosis.lower().replace(' ', '_').replace('\\\\', '_').replace('/', '_').replace('__', '_'))"
      ],
      "execution_count": 126,
      "outputs": []
    },
    {
      "cell_type": "code",
      "metadata": {
        "colab": {
          "base_uri": "https://localhost:8080/"
        },
        "id": "z93CAoq6dTcK",
        "outputId": "ca284a75-3013-4cc5-c5d0-afd526d027d7"
      },
      "source": [
        "ls_df_diagnosis"
      ],
      "execution_count": 127,
      "outputs": [
        {
          "output_type": "execute_result",
          "data": {
            "text/plain": [
              "['df_pneumonia',\n",
              " 'df_sepsis',\n",
              " 'df_congestive_heart_failure',\n",
              " 'df_coronary_artery_disease',\n",
              " 'df_chest_pain',\n",
              " 'df_intracranial_hemorrhage',\n",
              " 'df_altered_mental_status',\n",
              " 'df_gastrointestinal_bleed',\n",
              " 'df_coronary_artery_disease_coronary_artery_bypass_graft_sda',\n",
              " 'df_upper_gi_bleed']"
            ]
          },
          "metadata": {
            "tags": []
          },
          "execution_count": 127
        }
      ]
    },
    {
      "cell_type": "markdown",
      "metadata": {
        "id": "Xkfo-A15wyW6"
      },
      "source": [
        "## **PRESCRIPTION.csv**"
      ]
    },
    {
      "cell_type": "code",
      "metadata": {
        "id": "RrBh8G4Xfjsc",
        "colab": {
          "base_uri": "https://localhost:8080/"
        },
        "outputId": "cca02794-4bc1-4cdb-a692-01949ddbe743"
      },
      "source": [
        "if df_prescription.isnull().values.any() == True:\n",
        "    print('Missing value exists in {}.\\nThe number of missing values is as follows:\\n{}'.format('PRESCRIPTIONS.csv', df_prescription.isnull().sum()))\n",
        "else:\n",
        "    print('Missing value does not exist.')"
      ],
      "execution_count": 128,
      "outputs": [
        {
          "output_type": "stream",
          "text": [
            "Missing value exists in PRESCRIPTIONS.csv.\n",
            "The number of missing values is as follows:\n",
            "ROW_ID                     0\n",
            "SUBJECT_ID                 0\n",
            "HADM_ID                    0\n",
            "ICUSTAY_ID           1447708\n",
            "STARTDATE               3182\n",
            "ENDDATE                 5421\n",
            "DRUG_TYPE                  0\n",
            "DRUG                       0\n",
            "DRUG_NAME_POE        1664234\n",
            "DRUG_NAME_GENERIC    1662989\n",
            "FORMULARY_DRUG_CD       1933\n",
            "GSN                   507164\n",
            "NDC                     4463\n",
            "PROD_STRENGTH           1362\n",
            "DOSE_VAL_RX             1350\n",
            "DOSE_UNIT_RX            1342\n",
            "FORM_VAL_DISP           1355\n",
            "FORM_UNIT_DISP          1409\n",
            "ROUTE                   1156\n",
            "dtype: int64\n"
          ],
          "name": "stdout"
        }
      ]
    },
    {
      "cell_type": "markdown",
      "metadata": {
        "id": "zLSE6IoHfjsc"
      },
      "source": [
        "### DRUG"
      ]
    },
    {
      "cell_type": "code",
      "metadata": {
        "id": "psgCqYSmw-HH",
        "colab": {
          "base_uri": "https://localhost:8080/"
        },
        "outputId": "e26562d1-f12b-404f-bda3-ac3252c21a52"
      },
      "source": [
        "if df_prescription['DRUG'].isnull().values.any() == True:\n",
        "    print('Missing value exists in {}.\\nThe number of missing values is as follows:\\n{}'.format('PRESCRIPTIONS.csv', df_prescription['DRUG'].isnull().sum()))\n",
        "else:\n",
        "    print('Missing value does not exist.')"
      ],
      "execution_count": 129,
      "outputs": [
        {
          "output_type": "stream",
          "text": [
            "Missing value does not exist.\n"
          ],
          "name": "stdout"
        }
      ]
    },
    {
      "cell_type": "code",
      "metadata": {
        "colab": {
          "base_uri": "https://localhost:8080/",
          "height": 411
        },
        "id": "9vyZPjhuhTq4",
        "outputId": "92ca6626-453f-474a-a550-4c9548c8cf69"
      },
      "source": [
        "print(df_prescription.shape)\n",
        "df_prescription.head()"
      ],
      "execution_count": 130,
      "outputs": [
        {
          "output_type": "stream",
          "text": [
            "(4156450, 19)\n"
          ],
          "name": "stdout"
        },
        {
          "output_type": "execute_result",
          "data": {
            "text/html": [
              "<div>\n",
              "<style scoped>\n",
              "    .dataframe tbody tr th:only-of-type {\n",
              "        vertical-align: middle;\n",
              "    }\n",
              "\n",
              "    .dataframe tbody tr th {\n",
              "        vertical-align: top;\n",
              "    }\n",
              "\n",
              "    .dataframe thead th {\n",
              "        text-align: right;\n",
              "    }\n",
              "</style>\n",
              "<table border=\"1\" class=\"dataframe\">\n",
              "  <thead>\n",
              "    <tr style=\"text-align: right;\">\n",
              "      <th></th>\n",
              "      <th>ROW_ID</th>\n",
              "      <th>SUBJECT_ID</th>\n",
              "      <th>HADM_ID</th>\n",
              "      <th>ICUSTAY_ID</th>\n",
              "      <th>STARTDATE</th>\n",
              "      <th>ENDDATE</th>\n",
              "      <th>DRUG_TYPE</th>\n",
              "      <th>DRUG</th>\n",
              "      <th>DRUG_NAME_POE</th>\n",
              "      <th>DRUG_NAME_GENERIC</th>\n",
              "      <th>FORMULARY_DRUG_CD</th>\n",
              "      <th>GSN</th>\n",
              "      <th>NDC</th>\n",
              "      <th>PROD_STRENGTH</th>\n",
              "      <th>DOSE_VAL_RX</th>\n",
              "      <th>DOSE_UNIT_RX</th>\n",
              "      <th>FORM_VAL_DISP</th>\n",
              "      <th>FORM_UNIT_DISP</th>\n",
              "      <th>ROUTE</th>\n",
              "    </tr>\n",
              "  </thead>\n",
              "  <tbody>\n",
              "    <tr>\n",
              "      <th>0</th>\n",
              "      <td>2214776</td>\n",
              "      <td>6</td>\n",
              "      <td>107064</td>\n",
              "      <td>NaN</td>\n",
              "      <td>2175-06-11 00:00:00</td>\n",
              "      <td>2175-06-12 00:00:00</td>\n",
              "      <td>MAIN</td>\n",
              "      <td>Tacrolimus</td>\n",
              "      <td>Tacrolimus</td>\n",
              "      <td>Tacrolimus</td>\n",
              "      <td>TACR1</td>\n",
              "      <td>021796</td>\n",
              "      <td>469061711.0</td>\n",
              "      <td>1mg Capsule</td>\n",
              "      <td>2</td>\n",
              "      <td>mg</td>\n",
              "      <td>2</td>\n",
              "      <td>CAP</td>\n",
              "      <td>PO</td>\n",
              "    </tr>\n",
              "    <tr>\n",
              "      <th>1</th>\n",
              "      <td>2214775</td>\n",
              "      <td>6</td>\n",
              "      <td>107064</td>\n",
              "      <td>NaN</td>\n",
              "      <td>2175-06-11 00:00:00</td>\n",
              "      <td>2175-06-12 00:00:00</td>\n",
              "      <td>MAIN</td>\n",
              "      <td>Warfarin</td>\n",
              "      <td>Warfarin</td>\n",
              "      <td>Warfarin</td>\n",
              "      <td>WARF5</td>\n",
              "      <td>006562</td>\n",
              "      <td>56017275.0</td>\n",
              "      <td>5mg Tablet</td>\n",
              "      <td>5</td>\n",
              "      <td>mg</td>\n",
              "      <td>1</td>\n",
              "      <td>TAB</td>\n",
              "      <td>PO</td>\n",
              "    </tr>\n",
              "    <tr>\n",
              "      <th>2</th>\n",
              "      <td>2215524</td>\n",
              "      <td>6</td>\n",
              "      <td>107064</td>\n",
              "      <td>NaN</td>\n",
              "      <td>2175-06-11 00:00:00</td>\n",
              "      <td>2175-06-12 00:00:00</td>\n",
              "      <td>MAIN</td>\n",
              "      <td>Heparin Sodium</td>\n",
              "      <td>NaN</td>\n",
              "      <td>NaN</td>\n",
              "      <td>HEPAPREMIX</td>\n",
              "      <td>006522</td>\n",
              "      <td>338055002.0</td>\n",
              "      <td>25,000 unit Premix Bag</td>\n",
              "      <td>25,000</td>\n",
              "      <td>UNIT</td>\n",
              "      <td>1</td>\n",
              "      <td>BAG</td>\n",
              "      <td>IV</td>\n",
              "    </tr>\n",
              "    <tr>\n",
              "      <th>3</th>\n",
              "      <td>2216265</td>\n",
              "      <td>6</td>\n",
              "      <td>107064</td>\n",
              "      <td>NaN</td>\n",
              "      <td>2175-06-11 00:00:00</td>\n",
              "      <td>2175-06-12 00:00:00</td>\n",
              "      <td>BASE</td>\n",
              "      <td>D5W</td>\n",
              "      <td>NaN</td>\n",
              "      <td>NaN</td>\n",
              "      <td>HEPBASE</td>\n",
              "      <td>NaN</td>\n",
              "      <td>0.0</td>\n",
              "      <td>HEPARIN BASE</td>\n",
              "      <td>250</td>\n",
              "      <td>ml</td>\n",
              "      <td>250</td>\n",
              "      <td>ml</td>\n",
              "      <td>IV</td>\n",
              "    </tr>\n",
              "    <tr>\n",
              "      <th>4</th>\n",
              "      <td>2214773</td>\n",
              "      <td>6</td>\n",
              "      <td>107064</td>\n",
              "      <td>NaN</td>\n",
              "      <td>2175-06-11 00:00:00</td>\n",
              "      <td>2175-06-12 00:00:00</td>\n",
              "      <td>MAIN</td>\n",
              "      <td>Furosemide</td>\n",
              "      <td>Furosemide</td>\n",
              "      <td>Furosemide</td>\n",
              "      <td>FURO20</td>\n",
              "      <td>008208</td>\n",
              "      <td>54829725.0</td>\n",
              "      <td>20mg Tablet</td>\n",
              "      <td>20</td>\n",
              "      <td>mg</td>\n",
              "      <td>1</td>\n",
              "      <td>TAB</td>\n",
              "      <td>PO</td>\n",
              "    </tr>\n",
              "  </tbody>\n",
              "</table>\n",
              "</div>"
            ],
            "text/plain": [
              "    ROW_ID  SUBJECT_ID  HADM_ID  ...  FORM_VAL_DISP FORM_UNIT_DISP ROUTE\n",
              "0  2214776           6   107064  ...              2            CAP    PO\n",
              "1  2214775           6   107064  ...              1            TAB    PO\n",
              "2  2215524           6   107064  ...              1            BAG    IV\n",
              "3  2216265           6   107064  ...            250             ml    IV\n",
              "4  2214773           6   107064  ...              1            TAB    PO\n",
              "\n",
              "[5 rows x 19 columns]"
            ]
          },
          "metadata": {
            "tags": []
          },
          "execution_count": 130
        }
      ]
    },
    {
      "cell_type": "markdown",
      "metadata": {
        "id": "1x1e9UMqmChd"
      },
      "source": [
        ""
      ]
    },
    {
      "cell_type": "code",
      "metadata": {
        "id": "_TvdgT3hhIgk",
        "colab": {
          "base_uri": "https://localhost:8080/"
        },
        "outputId": "159069c7-5675-4dd8-c09b-d533298568a0"
      },
      "source": [
        "for diagnosis in ls_df_diagnosis:\n",
        "  print(diagnosis)\n",
        "  locals()[diagnosis+'_tmp'] = locals()[diagnosis].merge(df_prescription[['HADM_ID', 'DRUG']], how='inner', on='HADM_ID')"
      ],
      "execution_count": 131,
      "outputs": [
        {
          "output_type": "stream",
          "text": [
            "df_pneumonia\n",
            "df_sepsis\n",
            "df_congestive_heart_failure\n",
            "df_coronary_artery_disease\n",
            "df_chest_pain\n",
            "df_intracranial_hemorrhage\n",
            "df_altered_mental_status\n",
            "df_gastrointestinal_bleed\n",
            "df_coronary_artery_disease_coronary_artery_bypass_graft_sda\n",
            "df_upper_gi_bleed\n"
          ],
          "name": "stdout"
        }
      ]
    },
    {
      "cell_type": "code",
      "metadata": {
        "id": "G96XsRebra3p"
      },
      "source": [
        "for diagnosis in ls_df_diagnosis:\n",
        "  locals()['top_drug_'+diagnosis] = list(locals()[diagnosis+'_tmp']['DRUG'].value_counts().nlargest(10).keys())\n",
        "  tmp = locals()[diagnosis+'_tmp'].loc[locals()[diagnosis+'_tmp']['DRUG'].isin(locals()['top_drug_'+diagnosis])]\n",
        "  tmp_2 = tmp.groupby('HADM_ID')['DRUG'].apply(list).reset_index()\n",
        "  ls_drug = pd.get_dummies(tmp_2['DRUG'].apply(pd.Series).stack()).sum(level=0)\n",
        "  tmp_2 = tmp_2.join(ls_drug, how='outer')\n",
        "  tmp_2.drop(['DRUG'], axis=1, inplace=True)\n",
        "  locals()[diagnosis] = locals()[diagnosis].merge(tmp_2, how='inner', on='HADM_ID')"
      ],
      "execution_count": 132,
      "outputs": []
    },
    {
      "cell_type": "markdown",
      "metadata": {
        "id": "xVgG8FggUafM"
      },
      "source": [
        "# Diagnosis: Pneumonia"
      ]
    },
    {
      "cell_type": "code",
      "metadata": {
        "colab": {
          "base_uri": "https://localhost:8080/",
          "height": 698
        },
        "id": "ez1W3fGYUdwR",
        "outputId": "89d56248-b296-45d8-9dd9-460930616a04"
      },
      "source": [
        "analysis(df_pneumonia, top_drug_df_pneumonia)"
      ],
      "execution_count": 133,
      "outputs": [
        {
          "output_type": "display_data",
          "data": {
            "text/html": [
              "<div>\n",
              "<style scoped>\n",
              "    .dataframe tbody tr th:only-of-type {\n",
              "        vertical-align: middle;\n",
              "    }\n",
              "\n",
              "    .dataframe tbody tr th {\n",
              "        vertical-align: top;\n",
              "    }\n",
              "\n",
              "    .dataframe thead th {\n",
              "        text-align: right;\n",
              "    }\n",
              "</style>\n",
              "<table border=\"1\" class=\"dataframe\">\n",
              "  <thead>\n",
              "    <tr style=\"text-align: right;\">\n",
              "      <th></th>\n",
              "      <th>ETHNICITY</th>\n",
              "      <th>Potassium Chloride</th>\n",
              "      <th>0.9% Sodium Chloride</th>\n",
              "      <th>Iso-Osmotic Dextrose</th>\n",
              "      <th>Furosemide</th>\n",
              "      <th>NS</th>\n",
              "      <th>Insulin</th>\n",
              "      <th>D5W</th>\n",
              "      <th>Vancomycin</th>\n",
              "      <th>5% Dextrose</th>\n",
              "      <th>Magnesium Sulfate</th>\n",
              "    </tr>\n",
              "  </thead>\n",
              "  <tbody>\n",
              "    <tr>\n",
              "      <th>0</th>\n",
              "      <td>WHITE</td>\n",
              "      <td>3.916752</td>\n",
              "      <td>3.467626</td>\n",
              "      <td>3.178828</td>\n",
              "      <td>3.268243</td>\n",
              "      <td>2.893114</td>\n",
              "      <td>2.633094</td>\n",
              "      <td>2.337102</td>\n",
              "      <td>1.944502</td>\n",
              "      <td>1.780062</td>\n",
              "      <td>1.677287</td>\n",
              "    </tr>\n",
              "    <tr>\n",
              "      <th>1</th>\n",
              "      <td>BLACK/AFRICAN AMERICAN</td>\n",
              "      <td>3.557576</td>\n",
              "      <td>5.436364</td>\n",
              "      <td>2.830303</td>\n",
              "      <td>2.563636</td>\n",
              "      <td>2.200000</td>\n",
              "      <td>2.381818</td>\n",
              "      <td>1.684848</td>\n",
              "      <td>2.000000</td>\n",
              "      <td>2.490909</td>\n",
              "      <td>1.860606</td>\n",
              "    </tr>\n",
              "    <tr>\n",
              "      <th>2</th>\n",
              "      <td>HISPANIC/LATINO</td>\n",
              "      <td>3.351852</td>\n",
              "      <td>2.685185</td>\n",
              "      <td>3.611111</td>\n",
              "      <td>2.777778</td>\n",
              "      <td>4.240741</td>\n",
              "      <td>3.074074</td>\n",
              "      <td>3.129630</td>\n",
              "      <td>2.037037</td>\n",
              "      <td>1.648148</td>\n",
              "      <td>1.740741</td>\n",
              "    </tr>\n",
              "    <tr>\n",
              "      <th>3</th>\n",
              "      <td>ASIAN</td>\n",
              "      <td>5.000000</td>\n",
              "      <td>5.155556</td>\n",
              "      <td>2.911111</td>\n",
              "      <td>1.800000</td>\n",
              "      <td>3.911111</td>\n",
              "      <td>2.622222</td>\n",
              "      <td>1.244444</td>\n",
              "      <td>1.733333</td>\n",
              "      <td>2.177778</td>\n",
              "      <td>1.888889</td>\n",
              "    </tr>\n",
              "  </tbody>\n",
              "</table>\n",
              "</div>"
            ],
            "text/plain": [
              "                ETHNICITY  Potassium Chloride  ...  5% Dextrose  Magnesium Sulfate\n",
              "0                   WHITE            3.916752  ...     1.780062           1.677287\n",
              "1  BLACK/AFRICAN AMERICAN            3.557576  ...     2.490909           1.860606\n",
              "2         HISPANIC/LATINO            3.351852  ...     1.648148           1.740741\n",
              "3                   ASIAN            5.000000  ...     2.177778           1.888889\n",
              "\n",
              "[4 rows x 11 columns]"
            ]
          },
          "metadata": {
            "tags": []
          }
        },
        {
          "output_type": "display_data",
          "data": {
            "image/png": "[encoded data removed]",
            "text/plain": [
              "<Figure size 2160x720 with 1 Axes>"
            ]
          },
          "metadata": {
            "tags": [],
            "needs_background": "light"
          }
        }
      ]
    },
    {
      "cell_type": "markdown",
      "metadata": {
        "id": "w2QHQZCY0JsC"
      },
      "source": [
        "# Diagnosis: Sepsis"
      ]
    },
    {
      "cell_type": "code",
      "metadata": {
        "colab": {
          "base_uri": "https://localhost:8080/",
          "height": 698
        },
        "id": "ysGUEF100M-2",
        "outputId": "ef7ed1f1-edd9-4687-9d88-26dd90c6bfbf"
      },
      "source": [
        "analysis(df_sepsis, top_drug_df_sepsis)"
      ],
      "execution_count": 134,
      "outputs": [
        {
          "output_type": "display_data",
          "data": {
            "text/html": [
              "<div>\n",
              "<style scoped>\n",
              "    .dataframe tbody tr th:only-of-type {\n",
              "        vertical-align: middle;\n",
              "    }\n",
              "\n",
              "    .dataframe tbody tr th {\n",
              "        vertical-align: top;\n",
              "    }\n",
              "\n",
              "    .dataframe thead th {\n",
              "        text-align: right;\n",
              "    }\n",
              "</style>\n",
              "<table border=\"1\" class=\"dataframe\">\n",
              "  <thead>\n",
              "    <tr style=\"text-align: right;\">\n",
              "      <th></th>\n",
              "      <th>ETHNICITY</th>\n",
              "      <th>Potassium Chloride</th>\n",
              "      <th>NS</th>\n",
              "      <th>D5W</th>\n",
              "      <th>Iso-Osmotic Dextrose</th>\n",
              "      <th>Insulin</th>\n",
              "      <th>0.9% Sodium Chloride</th>\n",
              "      <th>Furosemide</th>\n",
              "      <th>Magnesium Sulfate</th>\n",
              "      <th>SW</th>\n",
              "      <th>5% Dextrose</th>\n",
              "    </tr>\n",
              "  </thead>\n",
              "  <tbody>\n",
              "    <tr>\n",
              "      <th>0</th>\n",
              "      <td>WHITE</td>\n",
              "      <td>5.570687</td>\n",
              "      <td>5.108949</td>\n",
              "      <td>4.383917</td>\n",
              "      <td>3.581064</td>\n",
              "      <td>3.511025</td>\n",
              "      <td>3.365759</td>\n",
              "      <td>2.783398</td>\n",
              "      <td>2.581064</td>\n",
              "      <td>2.450065</td>\n",
              "      <td>2.233463</td>\n",
              "    </tr>\n",
              "    <tr>\n",
              "      <th>1</th>\n",
              "      <td>BLACK/AFRICAN AMERICAN</td>\n",
              "      <td>3.926471</td>\n",
              "      <td>4.742647</td>\n",
              "      <td>4.058824</td>\n",
              "      <td>3.507353</td>\n",
              "      <td>3.404412</td>\n",
              "      <td>2.529412</td>\n",
              "      <td>1.698529</td>\n",
              "      <td>2.235294</td>\n",
              "      <td>1.933824</td>\n",
              "      <td>1.404412</td>\n",
              "    </tr>\n",
              "    <tr>\n",
              "      <th>2</th>\n",
              "      <td>HISPANIC/LATINO</td>\n",
              "      <td>2.864865</td>\n",
              "      <td>2.702703</td>\n",
              "      <td>2.000000</td>\n",
              "      <td>3.378378</td>\n",
              "      <td>2.567568</td>\n",
              "      <td>6.540541</td>\n",
              "      <td>0.972973</td>\n",
              "      <td>1.972973</td>\n",
              "      <td>0.972973</td>\n",
              "      <td>3.540541</td>\n",
              "    </tr>\n",
              "    <tr>\n",
              "      <th>3</th>\n",
              "      <td>ASIAN</td>\n",
              "      <td>4.678571</td>\n",
              "      <td>2.642857</td>\n",
              "      <td>1.428571</td>\n",
              "      <td>2.500000</td>\n",
              "      <td>2.000000</td>\n",
              "      <td>4.714286</td>\n",
              "      <td>1.035714</td>\n",
              "      <td>2.035714</td>\n",
              "      <td>1.535714</td>\n",
              "      <td>2.142857</td>\n",
              "    </tr>\n",
              "  </tbody>\n",
              "</table>\n",
              "</div>"
            ],
            "text/plain": [
              "                ETHNICITY  Potassium Chloride  ...        SW  5% Dextrose\n",
              "0                   WHITE            5.570687  ...  2.450065     2.233463\n",
              "1  BLACK/AFRICAN AMERICAN            3.926471  ...  1.933824     1.404412\n",
              "2         HISPANIC/LATINO            2.864865  ...  0.972973     3.540541\n",
              "3                   ASIAN            4.678571  ...  1.535714     2.142857\n",
              "\n",
              "[4 rows x 11 columns]"
            ]
          },
          "metadata": {
            "tags": []
          }
        },
        {
          "output_type": "display_data",
          "data": {
            "image/png": "[encoded data removed]",
            "text/plain": [
              "<Figure size 2160x720 with 1 Axes>"
            ]
          },
          "metadata": {
            "tags": [],
            "needs_background": "light"
          }
        }
      ]
    },
    {
      "cell_type": "markdown",
      "metadata": {
        "id": "Kx5FITz11LAQ"
      },
      "source": [
        "# Diagnosis: CONGESTIVE HEART FAILURE"
      ]
    },
    {
      "cell_type": "code",
      "metadata": {
        "colab": {
          "base_uri": "https://localhost:8080/",
          "height": 698
        },
        "id": "bwKIDxjY14e9",
        "outputId": "5c684561-06e5-4238-cd0b-91db01a7f8dd"
      },
      "source": [
        "analysis(df_congestive_heart_failure, top_drug_df_congestive_heart_failure)"
      ],
      "execution_count": 135,
      "outputs": [
        {
          "output_type": "display_data",
          "data": {
            "text/html": [
              "<div>\n",
              "<style scoped>\n",
              "    .dataframe tbody tr th:only-of-type {\n",
              "        vertical-align: middle;\n",
              "    }\n",
              "\n",
              "    .dataframe tbody tr th {\n",
              "        vertical-align: top;\n",
              "    }\n",
              "\n",
              "    .dataframe thead th {\n",
              "        text-align: right;\n",
              "    }\n",
              "</style>\n",
              "<table border=\"1\" class=\"dataframe\">\n",
              "  <thead>\n",
              "    <tr style=\"text-align: right;\">\n",
              "      <th></th>\n",
              "      <th>ETHNICITY</th>\n",
              "      <th>Furosemide</th>\n",
              "      <th>Potassium Chloride</th>\n",
              "      <th>D5W</th>\n",
              "      <th>Insulin</th>\n",
              "      <th>5% Dextrose</th>\n",
              "      <th>Sodium Chloride 0.9%  Flush</th>\n",
              "      <th>NS</th>\n",
              "      <th>Metoprolol</th>\n",
              "      <th>Iso-Osmotic Dextrose</th>\n",
              "      <th>Warfarin</th>\n",
              "    </tr>\n",
              "  </thead>\n",
              "  <tbody>\n",
              "    <tr>\n",
              "      <th>0</th>\n",
              "      <td>WHITE</td>\n",
              "      <td>7.944559</td>\n",
              "      <td>5.940452</td>\n",
              "      <td>5.574949</td>\n",
              "      <td>4.291581</td>\n",
              "      <td>2.096509</td>\n",
              "      <td>2.010267</td>\n",
              "      <td>1.981520</td>\n",
              "      <td>1.887064</td>\n",
              "      <td>1.850103</td>\n",
              "      <td>1.712526</td>\n",
              "    </tr>\n",
              "    <tr>\n",
              "      <th>1</th>\n",
              "      <td>BLACK/AFRICAN AMERICAN</td>\n",
              "      <td>5.595238</td>\n",
              "      <td>4.202381</td>\n",
              "      <td>4.386905</td>\n",
              "      <td>4.767857</td>\n",
              "      <td>1.154762</td>\n",
              "      <td>1.785714</td>\n",
              "      <td>1.839286</td>\n",
              "      <td>1.750000</td>\n",
              "      <td>1.500000</td>\n",
              "      <td>1.244048</td>\n",
              "    </tr>\n",
              "    <tr>\n",
              "      <th>2</th>\n",
              "      <td>HISPANIC/LATINO</td>\n",
              "      <td>7.583333</td>\n",
              "      <td>7.625000</td>\n",
              "      <td>3.291667</td>\n",
              "      <td>4.791667</td>\n",
              "      <td>3.041667</td>\n",
              "      <td>1.708333</td>\n",
              "      <td>1.750000</td>\n",
              "      <td>0.750000</td>\n",
              "      <td>1.666667</td>\n",
              "      <td>0.666667</td>\n",
              "    </tr>\n",
              "    <tr>\n",
              "      <th>3</th>\n",
              "      <td>ASIAN</td>\n",
              "      <td>8.533333</td>\n",
              "      <td>3.533333</td>\n",
              "      <td>2.533333</td>\n",
              "      <td>8.733333</td>\n",
              "      <td>4.666667</td>\n",
              "      <td>2.333333</td>\n",
              "      <td>1.066667</td>\n",
              "      <td>1.466667</td>\n",
              "      <td>2.000000</td>\n",
              "      <td>2.666667</td>\n",
              "    </tr>\n",
              "  </tbody>\n",
              "</table>\n",
              "</div>"
            ],
            "text/plain": [
              "                ETHNICITY  Furosemide  ...  Iso-Osmotic Dextrose  Warfarin\n",
              "0                   WHITE    7.944559  ...              1.850103  1.712526\n",
              "1  BLACK/AFRICAN AMERICAN    5.595238  ...              1.500000  1.244048\n",
              "2         HISPANIC/LATINO    7.583333  ...              1.666667  0.666667\n",
              "3                   ASIAN    8.533333  ...              2.000000  2.666667\n",
              "\n",
              "[4 rows x 11 columns]"
            ]
          },
          "metadata": {
            "tags": []
          }
        },
        {
          "output_type": "display_data",
          "data": {
            "image/png": "[encoded data removed]",
            "text/plain": [
              "<Figure size 2160x720 with 1 Axes>"
            ]
          },
          "metadata": {
            "tags": [],
            "needs_background": "light"
          }
        }
      ]
    },
    {
      "cell_type": "markdown",
      "metadata": {
        "id": "gjfoZ3ji1V7d"
      },
      "source": [
        "# Diagnosis: CORONARY ARTERY DISEASE"
      ]
    },
    {
      "cell_type": "code",
      "metadata": {
        "colab": {
          "base_uri": "https://localhost:8080/",
          "height": 732
        },
        "id": "uct8mU4219QY",
        "outputId": "99902ccc-f0ba-4ab7-da09-dd80f8f5b7c6"
      },
      "source": [
        "analysis(df_coronary_artery_disease, top_drug_df_coronary_artery_disease)"
      ],
      "execution_count": 136,
      "outputs": [
        {
          "output_type": "display_data",
          "data": {
            "text/html": [
              "<div>\n",
              "<style scoped>\n",
              "    .dataframe tbody tr th:only-of-type {\n",
              "        vertical-align: middle;\n",
              "    }\n",
              "\n",
              "    .dataframe tbody tr th {\n",
              "        vertical-align: top;\n",
              "    }\n",
              "\n",
              "    .dataframe thead th {\n",
              "        text-align: right;\n",
              "    }\n",
              "</style>\n",
              "<table border=\"1\" class=\"dataframe\">\n",
              "  <thead>\n",
              "    <tr style=\"text-align: right;\">\n",
              "      <th></th>\n",
              "      <th>ETHNICITY</th>\n",
              "      <th>D5W</th>\n",
              "      <th>Furosemide</th>\n",
              "      <th>Potassium Chloride</th>\n",
              "      <th>Insulin</th>\n",
              "      <th>Acetaminophen</th>\n",
              "      <th>Metoprolol</th>\n",
              "      <th>Metoprolol Tartrate</th>\n",
              "      <th>Sodium Chloride 0.9%  Flush</th>\n",
              "      <th>Docusate Sodium</th>\n",
              "      <th>Ranitidine</th>\n",
              "    </tr>\n",
              "  </thead>\n",
              "  <tbody>\n",
              "    <tr>\n",
              "      <th>0</th>\n",
              "      <td>WHITE</td>\n",
              "      <td>5.134387</td>\n",
              "      <td>4.365613</td>\n",
              "      <td>4.071146</td>\n",
              "      <td>3.800395</td>\n",
              "      <td>3.503953</td>\n",
              "      <td>2.889328</td>\n",
              "      <td>2.820158</td>\n",
              "      <td>2.478261</td>\n",
              "      <td>2.199605</td>\n",
              "      <td>2.160079</td>\n",
              "    </tr>\n",
              "    <tr>\n",
              "      <th>1</th>\n",
              "      <td>BLACK/AFRICAN AMERICAN</td>\n",
              "      <td>12.428571</td>\n",
              "      <td>8.857143</td>\n",
              "      <td>7.214286</td>\n",
              "      <td>8.571429</td>\n",
              "      <td>3.214286</td>\n",
              "      <td>2.000000</td>\n",
              "      <td>2.285714</td>\n",
              "      <td>2.000000</td>\n",
              "      <td>1.785714</td>\n",
              "      <td>2.214286</td>\n",
              "    </tr>\n",
              "    <tr>\n",
              "      <th>2</th>\n",
              "      <td>HISPANIC/LATINO</td>\n",
              "      <td>2.076923</td>\n",
              "      <td>3.961538</td>\n",
              "      <td>3.115385</td>\n",
              "      <td>8.076923</td>\n",
              "      <td>3.730769</td>\n",
              "      <td>1.153846</td>\n",
              "      <td>5.576923</td>\n",
              "      <td>3.115385</td>\n",
              "      <td>2.538462</td>\n",
              "      <td>2.423077</td>\n",
              "    </tr>\n",
              "    <tr>\n",
              "      <th>3</th>\n",
              "      <td>ASIAN</td>\n",
              "      <td>3.777778</td>\n",
              "      <td>5.222222</td>\n",
              "      <td>4.111111</td>\n",
              "      <td>3.666667</td>\n",
              "      <td>4.222222</td>\n",
              "      <td>1.888889</td>\n",
              "      <td>4.777778</td>\n",
              "      <td>3.333333</td>\n",
              "      <td>2.333333</td>\n",
              "      <td>3.000000</td>\n",
              "    </tr>\n",
              "  </tbody>\n",
              "</table>\n",
              "</div>"
            ],
            "text/plain": [
              "                ETHNICITY        D5W  ...  Docusate Sodium  Ranitidine\n",
              "0                   WHITE   5.134387  ...         2.199605    2.160079\n",
              "1  BLACK/AFRICAN AMERICAN  12.428571  ...         1.785714    2.214286\n",
              "2         HISPANIC/LATINO   2.076923  ...         2.538462    2.423077\n",
              "3                   ASIAN   3.777778  ...         2.333333    3.000000\n",
              "\n",
              "[4 rows x 11 columns]"
            ]
          },
          "metadata": {
            "tags": []
          }
        },
        {
          "output_type": "display_data",
          "data": {
            "image/png": "[encoded data removed]",
            "text/plain": [
              "<Figure size 2160x720 with 1 Axes>"
            ]
          },
          "metadata": {
            "tags": [],
            "needs_background": "light"
          }
        }
      ]
    },
    {
      "cell_type": "markdown",
      "metadata": {
        "id": "QSJVuDYX1bK4"
      },
      "source": [
        "# Diagnosis: CHEST PAIN"
      ]
    },
    {
      "cell_type": "code",
      "metadata": {
        "colab": {
          "base_uri": "https://localhost:8080/",
          "height": 698
        },
        "id": "5UAiNsfJ2DQ2",
        "outputId": "c56e1977-babd-495c-9f12-eb5dd66a21ff"
      },
      "source": [
        "analysis(df_chest_pain, top_drug_df_chest_pain)"
      ],
      "execution_count": 137,
      "outputs": [
        {
          "output_type": "display_data",
          "data": {
            "text/html": [
              "<div>\n",
              "<style scoped>\n",
              "    .dataframe tbody tr th:only-of-type {\n",
              "        vertical-align: middle;\n",
              "    }\n",
              "\n",
              "    .dataframe tbody tr th {\n",
              "        vertical-align: top;\n",
              "    }\n",
              "\n",
              "    .dataframe thead th {\n",
              "        text-align: right;\n",
              "    }\n",
              "</style>\n",
              "<table border=\"1\" class=\"dataframe\">\n",
              "  <thead>\n",
              "    <tr style=\"text-align: right;\">\n",
              "      <th></th>\n",
              "      <th>ETHNICITY</th>\n",
              "      <th>D5W</th>\n",
              "      <th>Potassium Chloride</th>\n",
              "      <th>Furosemide</th>\n",
              "      <th>Insulin</th>\n",
              "      <th>Metoprolol Tartrate</th>\n",
              "      <th>Sodium Chloride 0.9%  Flush</th>\n",
              "      <th>Acetaminophen</th>\n",
              "      <th>Metoprolol</th>\n",
              "      <th>5% Dextrose</th>\n",
              "      <th>Heparin</th>\n",
              "    </tr>\n",
              "  </thead>\n",
              "  <tbody>\n",
              "    <tr>\n",
              "      <th>0</th>\n",
              "      <td>WHITE</td>\n",
              "      <td>3.853565</td>\n",
              "      <td>3.909441</td>\n",
              "      <td>3.768786</td>\n",
              "      <td>3.113680</td>\n",
              "      <td>2.707129</td>\n",
              "      <td>2.292871</td>\n",
              "      <td>2.256262</td>\n",
              "      <td>2.077071</td>\n",
              "      <td>1.701349</td>\n",
              "      <td>1.703276</td>\n",
              "    </tr>\n",
              "    <tr>\n",
              "      <th>1</th>\n",
              "      <td>BLACK/AFRICAN AMERICAN</td>\n",
              "      <td>3.100000</td>\n",
              "      <td>3.328571</td>\n",
              "      <td>2.685714</td>\n",
              "      <td>6.028571</td>\n",
              "      <td>1.985714</td>\n",
              "      <td>2.128571</td>\n",
              "      <td>1.628571</td>\n",
              "      <td>1.457143</td>\n",
              "      <td>2.342857</td>\n",
              "      <td>2.042857</td>\n",
              "    </tr>\n",
              "    <tr>\n",
              "      <th>2</th>\n",
              "      <td>HISPANIC/LATINO</td>\n",
              "      <td>1.708333</td>\n",
              "      <td>3.083333</td>\n",
              "      <td>1.833333</td>\n",
              "      <td>4.541667</td>\n",
              "      <td>1.041667</td>\n",
              "      <td>1.708333</td>\n",
              "      <td>1.625000</td>\n",
              "      <td>1.291667</td>\n",
              "      <td>1.333333</td>\n",
              "      <td>1.166667</td>\n",
              "    </tr>\n",
              "    <tr>\n",
              "      <th>3</th>\n",
              "      <td>ASIAN</td>\n",
              "      <td>2.631579</td>\n",
              "      <td>2.947368</td>\n",
              "      <td>1.578947</td>\n",
              "      <td>0.684211</td>\n",
              "      <td>2.421053</td>\n",
              "      <td>2.894737</td>\n",
              "      <td>2.052632</td>\n",
              "      <td>1.684211</td>\n",
              "      <td>3.000000</td>\n",
              "      <td>1.315789</td>\n",
              "    </tr>\n",
              "  </tbody>\n",
              "</table>\n",
              "</div>"
            ],
            "text/plain": [
              "                ETHNICITY       D5W  ...  5% Dextrose   Heparin\n",
              "0                   WHITE  3.853565  ...     1.701349  1.703276\n",
              "1  BLACK/AFRICAN AMERICAN  3.100000  ...     2.342857  2.042857\n",
              "2         HISPANIC/LATINO  1.708333  ...     1.333333  1.166667\n",
              "3                   ASIAN  2.631579  ...     3.000000  1.315789\n",
              "\n",
              "[4 rows x 11 columns]"
            ]
          },
          "metadata": {
            "tags": []
          }
        },
        {
          "output_type": "display_data",
          "data": {
            "image/png": "[encoded data removed]",
            "text/plain": [
              "<Figure size 2160x720 with 1 Axes>"
            ]
          },
          "metadata": {
            "tags": [],
            "needs_background": "light"
          }
        }
      ]
    },
    {
      "cell_type": "markdown",
      "metadata": {
        "id": "GdaEuWgs1hgZ"
      },
      "source": [
        "# Diagnosis: INTRACRANIAL HEMORRHAGE"
      ]
    },
    {
      "cell_type": "code",
      "metadata": {
        "colab": {
          "base_uri": "https://localhost:8080/",
          "height": 732
        },
        "id": "OUvLC4hO2Gzb",
        "outputId": "f05d23b7-572f-40cd-9bc3-29dd1b71467d"
      },
      "source": [
        "analysis(df_intracranial_hemorrhage, top_drug_df_intracranial_hemorrhage)"
      ],
      "execution_count": 138,
      "outputs": [
        {
          "output_type": "display_data",
          "data": {
            "text/html": [
              "<div>\n",
              "<style scoped>\n",
              "    .dataframe tbody tr th:only-of-type {\n",
              "        vertical-align: middle;\n",
              "    }\n",
              "\n",
              "    .dataframe tbody tr th {\n",
              "        vertical-align: top;\n",
              "    }\n",
              "\n",
              "    .dataframe thead th {\n",
              "        text-align: right;\n",
              "    }\n",
              "</style>\n",
              "<table border=\"1\" class=\"dataframe\">\n",
              "  <thead>\n",
              "    <tr style=\"text-align: right;\">\n",
              "      <th></th>\n",
              "      <th>ETHNICITY</th>\n",
              "      <th>0.9% Sodium Chloride</th>\n",
              "      <th>Potassium Chloride</th>\n",
              "      <th>Insulin</th>\n",
              "      <th>NS</th>\n",
              "      <th>Sodium Chloride 0.9%  Flush</th>\n",
              "      <th>Magnesium Sulfate</th>\n",
              "      <th>Metoprolol Tartrate</th>\n",
              "      <th>SW</th>\n",
              "      <th>Acetaminophen</th>\n",
              "      <th>5% Dextrose</th>\n",
              "    </tr>\n",
              "  </thead>\n",
              "  <tbody>\n",
              "    <tr>\n",
              "      <th>0</th>\n",
              "      <td>WHITE</td>\n",
              "      <td>4.578189</td>\n",
              "      <td>4.176955</td>\n",
              "      <td>2.500000</td>\n",
              "      <td>2.310700</td>\n",
              "      <td>1.786008</td>\n",
              "      <td>1.701646</td>\n",
              "      <td>1.744856</td>\n",
              "      <td>1.646091</td>\n",
              "      <td>1.582305</td>\n",
              "      <td>1.290123</td>\n",
              "    </tr>\n",
              "    <tr>\n",
              "      <th>1</th>\n",
              "      <td>BLACK/AFRICAN AMERICAN</td>\n",
              "      <td>4.657143</td>\n",
              "      <td>5.800000</td>\n",
              "      <td>3.914286</td>\n",
              "      <td>2.400000</td>\n",
              "      <td>2.200000</td>\n",
              "      <td>1.657143</td>\n",
              "      <td>1.428571</td>\n",
              "      <td>2.485714</td>\n",
              "      <td>1.542857</td>\n",
              "      <td>1.857143</td>\n",
              "    </tr>\n",
              "    <tr>\n",
              "      <th>2</th>\n",
              "      <td>HISPANIC/LATINO</td>\n",
              "      <td>7.250000</td>\n",
              "      <td>6.375000</td>\n",
              "      <td>2.916667</td>\n",
              "      <td>3.458333</td>\n",
              "      <td>2.208333</td>\n",
              "      <td>2.791667</td>\n",
              "      <td>2.500000</td>\n",
              "      <td>2.625000</td>\n",
              "      <td>1.833333</td>\n",
              "      <td>3.375000</td>\n",
              "    </tr>\n",
              "    <tr>\n",
              "      <th>3</th>\n",
              "      <td>ASIAN</td>\n",
              "      <td>3.681818</td>\n",
              "      <td>2.500000</td>\n",
              "      <td>1.681818</td>\n",
              "      <td>1.409091</td>\n",
              "      <td>2.090909</td>\n",
              "      <td>1.772727</td>\n",
              "      <td>0.227273</td>\n",
              "      <td>1.181818</td>\n",
              "      <td>0.909091</td>\n",
              "      <td>0.909091</td>\n",
              "    </tr>\n",
              "  </tbody>\n",
              "</table>\n",
              "</div>"
            ],
            "text/plain": [
              "                ETHNICITY  0.9% Sodium Chloride  ...  Acetaminophen  5% Dextrose\n",
              "0                   WHITE              4.578189  ...       1.582305     1.290123\n",
              "1  BLACK/AFRICAN AMERICAN              4.657143  ...       1.542857     1.857143\n",
              "2         HISPANIC/LATINO              7.250000  ...       1.833333     3.375000\n",
              "3                   ASIAN              3.681818  ...       0.909091     0.909091\n",
              "\n",
              "[4 rows x 11 columns]"
            ]
          },
          "metadata": {
            "tags": []
          }
        },
        {
          "output_type": "display_data",
          "data": {
            "image/png": "[encoded data removed]",
            "text/plain": [
              "<Figure size 2160x720 with 1 Axes>"
            ]
          },
          "metadata": {
            "tags": [],
            "needs_background": "light"
          }
        }
      ]
    },
    {
      "cell_type": "markdown",
      "metadata": {
        "id": "VMsei0A21kmo"
      },
      "source": [
        "# Diagnosis: ALTERED MENTAL STATUS"
      ]
    },
    {
      "cell_type": "code",
      "metadata": {
        "colab": {
          "base_uri": "https://localhost:8080/",
          "height": 732
        },
        "id": "b9R0dDjq2LEi",
        "outputId": "484965dc-97fb-47c9-fff6-76f7308bfb1e"
      },
      "source": [
        "analysis(df_altered_mental_status, top_drug_df_altered_mental_status)"
      ],
      "execution_count": 139,
      "outputs": [
        {
          "output_type": "display_data",
          "data": {
            "text/html": [
              "<div>\n",
              "<style scoped>\n",
              "    .dataframe tbody tr th:only-of-type {\n",
              "        vertical-align: middle;\n",
              "    }\n",
              "\n",
              "    .dataframe tbody tr th {\n",
              "        vertical-align: top;\n",
              "    }\n",
              "\n",
              "    .dataframe thead th {\n",
              "        text-align: right;\n",
              "    }\n",
              "</style>\n",
              "<table border=\"1\" class=\"dataframe\">\n",
              "  <thead>\n",
              "    <tr style=\"text-align: right;\">\n",
              "      <th></th>\n",
              "      <th>ETHNICITY</th>\n",
              "      <th>0.9% Sodium Chloride</th>\n",
              "      <th>Potassium Chloride</th>\n",
              "      <th>Insulin</th>\n",
              "      <th>Iso-Osmotic Dextrose</th>\n",
              "      <th>NS</th>\n",
              "      <th>5% Dextrose</th>\n",
              "      <th>Sodium Chloride 0.9%  Flush</th>\n",
              "      <th>Furosemide</th>\n",
              "      <th>Magnesium Sulfate</th>\n",
              "      <th>Lorazepam</th>\n",
              "    </tr>\n",
              "  </thead>\n",
              "  <tbody>\n",
              "    <tr>\n",
              "      <th>0</th>\n",
              "      <td>WHITE</td>\n",
              "      <td>4.138889</td>\n",
              "      <td>3.914530</td>\n",
              "      <td>2.502137</td>\n",
              "      <td>2.333333</td>\n",
              "      <td>2.179487</td>\n",
              "      <td>2.006410</td>\n",
              "      <td>1.822650</td>\n",
              "      <td>1.634615</td>\n",
              "      <td>1.576923</td>\n",
              "      <td>1.611111</td>\n",
              "    </tr>\n",
              "    <tr>\n",
              "      <th>1</th>\n",
              "      <td>BLACK/AFRICAN AMERICAN</td>\n",
              "      <td>4.500000</td>\n",
              "      <td>3.735849</td>\n",
              "      <td>4.603774</td>\n",
              "      <td>2.566038</td>\n",
              "      <td>2.698113</td>\n",
              "      <td>2.481132</td>\n",
              "      <td>2.103774</td>\n",
              "      <td>1.726415</td>\n",
              "      <td>1.924528</td>\n",
              "      <td>1.245283</td>\n",
              "    </tr>\n",
              "    <tr>\n",
              "      <th>2</th>\n",
              "      <td>HISPANIC/LATINO</td>\n",
              "      <td>4.172414</td>\n",
              "      <td>3.896552</td>\n",
              "      <td>2.586207</td>\n",
              "      <td>2.103448</td>\n",
              "      <td>3.413793</td>\n",
              "      <td>2.206897</td>\n",
              "      <td>1.965517</td>\n",
              "      <td>2.448276</td>\n",
              "      <td>2.068966</td>\n",
              "      <td>2.206897</td>\n",
              "    </tr>\n",
              "    <tr>\n",
              "      <th>3</th>\n",
              "      <td>ASIAN</td>\n",
              "      <td>3.545455</td>\n",
              "      <td>2.909091</td>\n",
              "      <td>6.272727</td>\n",
              "      <td>2.363636</td>\n",
              "      <td>2.545455</td>\n",
              "      <td>1.090909</td>\n",
              "      <td>1.454545</td>\n",
              "      <td>2.000000</td>\n",
              "      <td>2.000000</td>\n",
              "      <td>1.090909</td>\n",
              "    </tr>\n",
              "  </tbody>\n",
              "</table>\n",
              "</div>"
            ],
            "text/plain": [
              "                ETHNICITY  0.9% Sodium Chloride  ...  Magnesium Sulfate  Lorazepam\n",
              "0                   WHITE              4.138889  ...           1.576923   1.611111\n",
              "1  BLACK/AFRICAN AMERICAN              4.500000  ...           1.924528   1.245283\n",
              "2         HISPANIC/LATINO              4.172414  ...           2.068966   2.206897\n",
              "3                   ASIAN              3.545455  ...           2.000000   1.090909\n",
              "\n",
              "[4 rows x 11 columns]"
            ]
          },
          "metadata": {
            "tags": []
          }
        },
        {
          "output_type": "display_data",
          "data": {
            "image/png": "[encoded data removed]",
            "text/plain": [
              "<Figure size 2160x720 with 1 Axes>"
            ]
          },
          "metadata": {
            "tags": [],
            "needs_background": "light"
          }
        }
      ]
    },
    {
      "cell_type": "markdown",
      "metadata": {
        "id": "fqzo2G2y1npa"
      },
      "source": [
        "# Diagnosis: GASTROINTESTINAL BLEED"
      ]
    },
    {
      "cell_type": "code",
      "metadata": {
        "colab": {
          "base_uri": "https://localhost:8080/",
          "height": 698
        },
        "id": "6KoHCg-32PIj",
        "outputId": "95354ca2-806b-49b5-d8fd-c81c4cf06d7b"
      },
      "source": [
        "analysis(df_gastrointestinal_bleed, top_drug_df_gastrointestinal_bleed)"
      ],
      "execution_count": 140,
      "outputs": [
        {
          "output_type": "display_data",
          "data": {
            "text/html": [
              "<div>\n",
              "<style scoped>\n",
              "    .dataframe tbody tr th:only-of-type {\n",
              "        vertical-align: middle;\n",
              "    }\n",
              "\n",
              "    .dataframe tbody tr th {\n",
              "        vertical-align: top;\n",
              "    }\n",
              "\n",
              "    .dataframe thead th {\n",
              "        text-align: right;\n",
              "    }\n",
              "</style>\n",
              "<table border=\"1\" class=\"dataframe\">\n",
              "  <thead>\n",
              "    <tr style=\"text-align: right;\">\n",
              "      <th></th>\n",
              "      <th>ETHNICITY</th>\n",
              "      <th>Potassium Chloride</th>\n",
              "      <th>NS</th>\n",
              "      <th>D5W</th>\n",
              "      <th>Magnesium Sulfate</th>\n",
              "      <th>Furosemide</th>\n",
              "      <th>0.9% Sodium Chloride</th>\n",
              "      <th>Insulin</th>\n",
              "      <th>SW</th>\n",
              "      <th>Sodium Chloride 0.9%  Flush</th>\n",
              "      <th>Pantoprazole</th>\n",
              "    </tr>\n",
              "  </thead>\n",
              "  <tbody>\n",
              "    <tr>\n",
              "      <th>0</th>\n",
              "      <td>WHITE</td>\n",
              "      <td>3.600939</td>\n",
              "      <td>3.298122</td>\n",
              "      <td>2.103286</td>\n",
              "      <td>2.035211</td>\n",
              "      <td>1.845070</td>\n",
              "      <td>1.744131</td>\n",
              "      <td>1.453052</td>\n",
              "      <td>1.544601</td>\n",
              "      <td>1.495305</td>\n",
              "      <td>1.342723</td>\n",
              "    </tr>\n",
              "    <tr>\n",
              "      <th>1</th>\n",
              "      <td>BLACK/AFRICAN AMERICAN</td>\n",
              "      <td>3.298246</td>\n",
              "      <td>3.543860</td>\n",
              "      <td>1.403509</td>\n",
              "      <td>1.649123</td>\n",
              "      <td>1.982456</td>\n",
              "      <td>1.912281</td>\n",
              "      <td>3.771930</td>\n",
              "      <td>0.947368</td>\n",
              "      <td>1.263158</td>\n",
              "      <td>1.157895</td>\n",
              "    </tr>\n",
              "    <tr>\n",
              "      <th>2</th>\n",
              "      <td>HISPANIC/LATINO</td>\n",
              "      <td>2.785714</td>\n",
              "      <td>2.357143</td>\n",
              "      <td>1.071429</td>\n",
              "      <td>1.642857</td>\n",
              "      <td>1.142857</td>\n",
              "      <td>2.071429</td>\n",
              "      <td>1.642857</td>\n",
              "      <td>1.214286</td>\n",
              "      <td>1.071429</td>\n",
              "      <td>1.428571</td>\n",
              "    </tr>\n",
              "    <tr>\n",
              "      <th>3</th>\n",
              "      <td>ASIAN</td>\n",
              "      <td>2.052632</td>\n",
              "      <td>1.421053</td>\n",
              "      <td>0.368421</td>\n",
              "      <td>0.736842</td>\n",
              "      <td>0.789474</td>\n",
              "      <td>1.368421</td>\n",
              "      <td>0.578947</td>\n",
              "      <td>0.526316</td>\n",
              "      <td>1.052632</td>\n",
              "      <td>1.368421</td>\n",
              "    </tr>\n",
              "  </tbody>\n",
              "</table>\n",
              "</div>"
            ],
            "text/plain": [
              "                ETHNICITY  ...  Pantoprazole\n",
              "0                   WHITE  ...      1.342723\n",
              "1  BLACK/AFRICAN AMERICAN  ...      1.157895\n",
              "2         HISPANIC/LATINO  ...      1.428571\n",
              "3                   ASIAN  ...      1.368421\n",
              "\n",
              "[4 rows x 11 columns]"
            ]
          },
          "metadata": {
            "tags": []
          }
        },
        {
          "output_type": "display_data",
          "data": {
            "image/png": "[encoded data removed]",
            "text/plain": [
              "<Figure size 2160x720 with 1 Axes>"
            ]
          },
          "metadata": {
            "tags": [],
            "needs_background": "light"
          }
        }
      ]
    },
    {
      "cell_type": "markdown",
      "metadata": {
        "id": "cu4YWCoD1p-4"
      },
      "source": [
        "# Diagnosis: CORONARY ARTERY DISEASE\\\\CORONARY ARTERY BYPASS GRAFT /SDA"
      ]
    },
    {
      "cell_type": "code",
      "metadata": {
        "colab": {
          "base_uri": "https://localhost:8080/",
          "height": 732
        },
        "id": "5Ck2Mr5U2Tkn",
        "outputId": "ff176844-94fb-4a67-908b-3dfcc3ad1e2e"
      },
      "source": [
        "analysis(df_coronary_artery_disease_coronary_artery_bypass_graft_sda, top_drug_df_coronary_artery_disease_coronary_artery_bypass_graft_sda)"
      ],
      "execution_count": 141,
      "outputs": [
        {
          "output_type": "display_data",
          "data": {
            "text/html": [
              "<div>\n",
              "<style scoped>\n",
              "    .dataframe tbody tr th:only-of-type {\n",
              "        vertical-align: middle;\n",
              "    }\n",
              "\n",
              "    .dataframe tbody tr th {\n",
              "        vertical-align: top;\n",
              "    }\n",
              "\n",
              "    .dataframe thead th {\n",
              "        text-align: right;\n",
              "    }\n",
              "</style>\n",
              "<table border=\"1\" class=\"dataframe\">\n",
              "  <thead>\n",
              "    <tr style=\"text-align: right;\">\n",
              "      <th></th>\n",
              "      <th>ETHNICITY</th>\n",
              "      <th>Metoprolol Tartrate</th>\n",
              "      <th>Furosemide</th>\n",
              "      <th>Acetaminophen</th>\n",
              "      <th>Potassium Chloride</th>\n",
              "      <th>Insulin</th>\n",
              "      <th>Ranitidine</th>\n",
              "      <th>0.9% Sodium Chloride</th>\n",
              "      <th>Morphine Sulfate</th>\n",
              "      <th>Sodium Chloride 0.9%  Flush</th>\n",
              "      <th>Docusate Sodium</th>\n",
              "    </tr>\n",
              "  </thead>\n",
              "  <tbody>\n",
              "    <tr>\n",
              "      <th>0</th>\n",
              "      <td>WHITE</td>\n",
              "      <td>3.754923</td>\n",
              "      <td>3.682713</td>\n",
              "      <td>3.542670</td>\n",
              "      <td>3.428884</td>\n",
              "      <td>3.343545</td>\n",
              "      <td>2.647702</td>\n",
              "      <td>2.507659</td>\n",
              "      <td>2.190372</td>\n",
              "      <td>2.133479</td>\n",
              "      <td>2.063457</td>\n",
              "    </tr>\n",
              "    <tr>\n",
              "      <th>1</th>\n",
              "      <td>BLACK/AFRICAN AMERICAN</td>\n",
              "      <td>2.882353</td>\n",
              "      <td>3.529412</td>\n",
              "      <td>3.235294</td>\n",
              "      <td>3.352941</td>\n",
              "      <td>5.352941</td>\n",
              "      <td>3.000000</td>\n",
              "      <td>1.117647</td>\n",
              "      <td>1.823529</td>\n",
              "      <td>1.529412</td>\n",
              "      <td>1.941176</td>\n",
              "    </tr>\n",
              "    <tr>\n",
              "      <th>2</th>\n",
              "      <td>HISPANIC/LATINO</td>\n",
              "      <td>4.680000</td>\n",
              "      <td>3.160000</td>\n",
              "      <td>3.320000</td>\n",
              "      <td>3.160000</td>\n",
              "      <td>3.160000</td>\n",
              "      <td>2.800000</td>\n",
              "      <td>3.040000</td>\n",
              "      <td>1.720000</td>\n",
              "      <td>2.440000</td>\n",
              "      <td>2.120000</td>\n",
              "    </tr>\n",
              "    <tr>\n",
              "      <th>3</th>\n",
              "      <td>ASIAN</td>\n",
              "      <td>3.387097</td>\n",
              "      <td>2.967742</td>\n",
              "      <td>3.322581</td>\n",
              "      <td>3.354839</td>\n",
              "      <td>2.129032</td>\n",
              "      <td>2.483871</td>\n",
              "      <td>2.516129</td>\n",
              "      <td>2.000000</td>\n",
              "      <td>2.096774</td>\n",
              "      <td>2.096774</td>\n",
              "    </tr>\n",
              "  </tbody>\n",
              "</table>\n",
              "</div>"
            ],
            "text/plain": [
              "                ETHNICITY  ...  Docusate Sodium\n",
              "0                   WHITE  ...         2.063457\n",
              "1  BLACK/AFRICAN AMERICAN  ...         1.941176\n",
              "2         HISPANIC/LATINO  ...         2.120000\n",
              "3                   ASIAN  ...         2.096774\n",
              "\n",
              "[4 rows x 11 columns]"
            ]
          },
          "metadata": {
            "tags": []
          }
        },
        {
          "output_type": "display_data",
          "data": {
            "image/png": "[encoded data removed]",
            "text/plain": [
              "<Figure size 2160x720 with 1 Axes>"
            ]
          },
          "metadata": {
            "tags": [],
            "needs_background": "light"
          }
        }
      ]
    },
    {
      "cell_type": "markdown",
      "metadata": {
        "id": "OX9JPQg21u5z"
      },
      "source": [
        "# Diagnosis: UPPER GI BLEED"
      ]
    },
    {
      "cell_type": "code",
      "metadata": {
        "colab": {
          "base_uri": "https://localhost:8080/",
          "height": 732
        },
        "id": "dKU-rHif2Z22",
        "outputId": "2cc3c764-e4e2-4bfa-ddc9-d2b9a46944e5"
      },
      "source": [
        "analysis(df_upper_gi_bleed, top_drug_df_upper_gi_bleed)"
      ],
      "execution_count": 142,
      "outputs": [
        {
          "output_type": "display_data",
          "data": {
            "text/html": [
              "<div>\n",
              "<style scoped>\n",
              "    .dataframe tbody tr th:only-of-type {\n",
              "        vertical-align: middle;\n",
              "    }\n",
              "\n",
              "    .dataframe tbody tr th {\n",
              "        vertical-align: top;\n",
              "    }\n",
              "\n",
              "    .dataframe thead th {\n",
              "        text-align: right;\n",
              "    }\n",
              "</style>\n",
              "<table border=\"1\" class=\"dataframe\">\n",
              "  <thead>\n",
              "    <tr style=\"text-align: right;\">\n",
              "      <th></th>\n",
              "      <th>ETHNICITY</th>\n",
              "      <th>0.9% Sodium Chloride</th>\n",
              "      <th>Potassium Chloride</th>\n",
              "      <th>Insulin</th>\n",
              "      <th>Pantoprazole</th>\n",
              "      <th>NS</th>\n",
              "      <th>Sodium Chloride 0.9%  Flush</th>\n",
              "      <th>Magnesium Sulfate</th>\n",
              "      <th>5% Dextrose</th>\n",
              "      <th>Vial</th>\n",
              "      <th>Iso-Osmotic Dextrose</th>\n",
              "    </tr>\n",
              "  </thead>\n",
              "  <tbody>\n",
              "    <tr>\n",
              "      <th>0</th>\n",
              "      <td>WHITE</td>\n",
              "      <td>3.591029</td>\n",
              "      <td>2.617414</td>\n",
              "      <td>1.593668</td>\n",
              "      <td>1.781003</td>\n",
              "      <td>1.939314</td>\n",
              "      <td>1.696570</td>\n",
              "      <td>1.585752</td>\n",
              "      <td>1.163588</td>\n",
              "      <td>1.218997</td>\n",
              "      <td>1.160950</td>\n",
              "    </tr>\n",
              "    <tr>\n",
              "      <th>1</th>\n",
              "      <td>BLACK/AFRICAN AMERICAN</td>\n",
              "      <td>4.076923</td>\n",
              "      <td>2.430769</td>\n",
              "      <td>2.938462</td>\n",
              "      <td>2.046154</td>\n",
              "      <td>1.092308</td>\n",
              "      <td>1.507692</td>\n",
              "      <td>1.353846</td>\n",
              "      <td>1.292308</td>\n",
              "      <td>1.261538</td>\n",
              "      <td>1.107692</td>\n",
              "    </tr>\n",
              "    <tr>\n",
              "      <th>2</th>\n",
              "      <td>HISPANIC/LATINO</td>\n",
              "      <td>3.656250</td>\n",
              "      <td>2.125000</td>\n",
              "      <td>3.343750</td>\n",
              "      <td>1.718750</td>\n",
              "      <td>0.718750</td>\n",
              "      <td>1.625000</td>\n",
              "      <td>1.281250</td>\n",
              "      <td>1.312500</td>\n",
              "      <td>1.156250</td>\n",
              "      <td>0.781250</td>\n",
              "    </tr>\n",
              "    <tr>\n",
              "      <th>3</th>\n",
              "      <td>ASIAN</td>\n",
              "      <td>2.720000</td>\n",
              "      <td>1.560000</td>\n",
              "      <td>1.080000</td>\n",
              "      <td>1.760000</td>\n",
              "      <td>1.920000</td>\n",
              "      <td>1.600000</td>\n",
              "      <td>0.800000</td>\n",
              "      <td>0.600000</td>\n",
              "      <td>1.240000</td>\n",
              "      <td>0.560000</td>\n",
              "    </tr>\n",
              "  </tbody>\n",
              "</table>\n",
              "</div>"
            ],
            "text/plain": [
              "                ETHNICITY  0.9% Sodium Chloride  ...      Vial  Iso-Osmotic Dextrose\n",
              "0                   WHITE              3.591029  ...  1.218997              1.160950\n",
              "1  BLACK/AFRICAN AMERICAN              4.076923  ...  1.261538              1.107692\n",
              "2         HISPANIC/LATINO              3.656250  ...  1.156250              0.781250\n",
              "3                   ASIAN              2.720000  ...  1.240000              0.560000\n",
              "\n",
              "[4 rows x 11 columns]"
            ]
          },
          "metadata": {
            "tags": []
          }
        },
        {
          "output_type": "display_data",
          "data": {
            "image/png": "[encoded data removed]",
            "text/plain": [
              "<Figure size 2160x720 with 1 Axes>"
            ]
          },
          "metadata": {
            "tags": [],
            "needs_background": "light"
          }
        }
      ]
    },
    {
      "cell_type": "code",
      "metadata": {
        "colab": {
          "base_uri": "https://localhost:8080/",
          "height": 507
        },
        "id": "-t-2LUCzuI3E",
        "outputId": "96b6d2ac-0864-40c0-9be4-e6abfd4ec24f"
      },
      "source": [
        "df_pneumonia"
      ],
      "execution_count": 143,
      "outputs": [
        {
          "output_type": "execute_result",
          "data": {
            "text/html": [
              "<div>\n",
              "<style scoped>\n",
              "    .dataframe tbody tr th:only-of-type {\n",
              "        vertical-align: middle;\n",
              "    }\n",
              "\n",
              "    .dataframe tbody tr th {\n",
              "        vertical-align: top;\n",
              "    }\n",
              "\n",
              "    .dataframe thead th {\n",
              "        text-align: right;\n",
              "    }\n",
              "</style>\n",
              "<table border=\"1\" class=\"dataframe\">\n",
              "  <thead>\n",
              "    <tr style=\"text-align: right;\">\n",
              "      <th></th>\n",
              "      <th>HADM_ID</th>\n",
              "      <th>ADMISSION_TYPE</th>\n",
              "      <th>INSURANCE</th>\n",
              "      <th>RELIGION</th>\n",
              "      <th>MARITAL_STATUS</th>\n",
              "      <th>ETHNICITY</th>\n",
              "      <th>DIAGNOSIS</th>\n",
              "      <th>GENDER</th>\n",
              "      <th>AGE</th>\n",
              "      <th>0.9% Sodium Chloride</th>\n",
              "      <th>5% Dextrose</th>\n",
              "      <th>D5W</th>\n",
              "      <th>Furosemide</th>\n",
              "      <th>Insulin</th>\n",
              "      <th>Iso-Osmotic Dextrose</th>\n",
              "      <th>Magnesium Sulfate</th>\n",
              "      <th>NS</th>\n",
              "      <th>Potassium Chloride</th>\n",
              "      <th>Vancomycin</th>\n",
              "    </tr>\n",
              "  </thead>\n",
              "  <tbody>\n",
              "    <tr>\n",
              "      <th>0</th>\n",
              "      <td>101651</td>\n",
              "      <td>EMERGENCY</td>\n",
              "      <td>Private</td>\n",
              "      <td>UNKNOWN</td>\n",
              "      <td>MARRIED</td>\n",
              "      <td>WHITE</td>\n",
              "      <td>PNEUMONIA</td>\n",
              "      <td>M</td>\n",
              "      <td>senior</td>\n",
              "      <td>0</td>\n",
              "      <td>1</td>\n",
              "      <td>0</td>\n",
              "      <td>0</td>\n",
              "      <td>7</td>\n",
              "      <td>1</td>\n",
              "      <td>0</td>\n",
              "      <td>0</td>\n",
              "      <td>5</td>\n",
              "      <td>1</td>\n",
              "    </tr>\n",
              "    <tr>\n",
              "      <th>1</th>\n",
              "      <td>170467</td>\n",
              "      <td>EMERGENCY</td>\n",
              "      <td>Medicare</td>\n",
              "      <td>RELIGIOUS</td>\n",
              "      <td>SINGLE</td>\n",
              "      <td>BLACK/AFRICAN AMERICAN</td>\n",
              "      <td>PNEUMONIA</td>\n",
              "      <td>F</td>\n",
              "      <td>middle_adult</td>\n",
              "      <td>0</td>\n",
              "      <td>0</td>\n",
              "      <td>7</td>\n",
              "      <td>4</td>\n",
              "      <td>0</td>\n",
              "      <td>1</td>\n",
              "      <td>6</td>\n",
              "      <td>16</td>\n",
              "      <td>8</td>\n",
              "      <td>0</td>\n",
              "    </tr>\n",
              "    <tr>\n",
              "      <th>2</th>\n",
              "      <td>112077</td>\n",
              "      <td>EMERGENCY</td>\n",
              "      <td>Medicare</td>\n",
              "      <td>RELIGIOUS</td>\n",
              "      <td>MARRIED</td>\n",
              "      <td>WHITE</td>\n",
              "      <td>PNEUMONIA</td>\n",
              "      <td>M</td>\n",
              "      <td>senior</td>\n",
              "      <td>4</td>\n",
              "      <td>0</td>\n",
              "      <td>0</td>\n",
              "      <td>0</td>\n",
              "      <td>0</td>\n",
              "      <td>3</td>\n",
              "      <td>3</td>\n",
              "      <td>0</td>\n",
              "      <td>0</td>\n",
              "      <td>3</td>\n",
              "    </tr>\n",
              "    <tr>\n",
              "      <th>3</th>\n",
              "      <td>140037</td>\n",
              "      <td>EMERGENCY</td>\n",
              "      <td>Medicare</td>\n",
              "      <td>UNKNOWN</td>\n",
              "      <td>MARRIED</td>\n",
              "      <td>ASIAN</td>\n",
              "      <td>PNEUMONIA</td>\n",
              "      <td>M</td>\n",
              "      <td>senior</td>\n",
              "      <td>0</td>\n",
              "      <td>0</td>\n",
              "      <td>6</td>\n",
              "      <td>1</td>\n",
              "      <td>0</td>\n",
              "      <td>6</td>\n",
              "      <td>1</td>\n",
              "      <td>18</td>\n",
              "      <td>9</td>\n",
              "      <td>0</td>\n",
              "    </tr>\n",
              "    <tr>\n",
              "      <th>4</th>\n",
              "      <td>155897</td>\n",
              "      <td>EMERGENCY</td>\n",
              "      <td>Medicare</td>\n",
              "      <td>RELIGIOUS</td>\n",
              "      <td>MARRIED</td>\n",
              "      <td>WHITE</td>\n",
              "      <td>PNEUMONIA</td>\n",
              "      <td>F</td>\n",
              "      <td>senior</td>\n",
              "      <td>3</td>\n",
              "      <td>6</td>\n",
              "      <td>0</td>\n",
              "      <td>0</td>\n",
              "      <td>1</td>\n",
              "      <td>2</td>\n",
              "      <td>0</td>\n",
              "      <td>0</td>\n",
              "      <td>0</td>\n",
              "      <td>1</td>\n",
              "    </tr>\n",
              "    <tr>\n",
              "      <th>...</th>\n",
              "      <td>...</td>\n",
              "      <td>...</td>\n",
              "      <td>...</td>\n",
              "      <td>...</td>\n",
              "      <td>...</td>\n",
              "      <td>...</td>\n",
              "      <td>...</td>\n",
              "      <td>...</td>\n",
              "      <td>...</td>\n",
              "      <td>...</td>\n",
              "      <td>...</td>\n",
              "      <td>...</td>\n",
              "      <td>...</td>\n",
              "      <td>...</td>\n",
              "      <td>...</td>\n",
              "      <td>...</td>\n",
              "      <td>...</td>\n",
              "      <td>...</td>\n",
              "      <td>...</td>\n",
              "    </tr>\n",
              "    <tr>\n",
              "      <th>1302</th>\n",
              "      <td>186668</td>\n",
              "      <td>EMERGENCY</td>\n",
              "      <td>Private</td>\n",
              "      <td>UNKNOWN</td>\n",
              "      <td>SINGLE</td>\n",
              "      <td>WHITE</td>\n",
              "      <td>PNEUMONIA</td>\n",
              "      <td>F</td>\n",
              "      <td>senior</td>\n",
              "      <td>7</td>\n",
              "      <td>3</td>\n",
              "      <td>0</td>\n",
              "      <td>5</td>\n",
              "      <td>2</td>\n",
              "      <td>3</td>\n",
              "      <td>2</td>\n",
              "      <td>1</td>\n",
              "      <td>5</td>\n",
              "      <td>5</td>\n",
              "    </tr>\n",
              "    <tr>\n",
              "      <th>1303</th>\n",
              "      <td>146313</td>\n",
              "      <td>EMERGENCY</td>\n",
              "      <td>Private</td>\n",
              "      <td>RELIGIOUS</td>\n",
              "      <td>SINGLE</td>\n",
              "      <td>BLACK/AFRICAN AMERICAN</td>\n",
              "      <td>PNEUMONIA</td>\n",
              "      <td>F</td>\n",
              "      <td>middle_adult</td>\n",
              "      <td>30</td>\n",
              "      <td>9</td>\n",
              "      <td>0</td>\n",
              "      <td>1</td>\n",
              "      <td>1</td>\n",
              "      <td>1</td>\n",
              "      <td>10</td>\n",
              "      <td>2</td>\n",
              "      <td>15</td>\n",
              "      <td>2</td>\n",
              "    </tr>\n",
              "    <tr>\n",
              "      <th>1304</th>\n",
              "      <td>107472</td>\n",
              "      <td>EMERGENCY</td>\n",
              "      <td>Medicare</td>\n",
              "      <td>RELIGIOUS</td>\n",
              "      <td>SINGLE</td>\n",
              "      <td>WHITE</td>\n",
              "      <td>PNEUMONIA</td>\n",
              "      <td>F</td>\n",
              "      <td>senior</td>\n",
              "      <td>2</td>\n",
              "      <td>0</td>\n",
              "      <td>1</td>\n",
              "      <td>0</td>\n",
              "      <td>0</td>\n",
              "      <td>2</td>\n",
              "      <td>1</td>\n",
              "      <td>0</td>\n",
              "      <td>0</td>\n",
              "      <td>2</td>\n",
              "    </tr>\n",
              "    <tr>\n",
              "      <th>1305</th>\n",
              "      <td>110990</td>\n",
              "      <td>EMERGENCY</td>\n",
              "      <td>Medicaid</td>\n",
              "      <td>UNKNOWN</td>\n",
              "      <td>SINGLE</td>\n",
              "      <td>ASIAN</td>\n",
              "      <td>PNEUMONIA</td>\n",
              "      <td>F</td>\n",
              "      <td>senior</td>\n",
              "      <td>3</td>\n",
              "      <td>1</td>\n",
              "      <td>0</td>\n",
              "      <td>0</td>\n",
              "      <td>1</td>\n",
              "      <td>5</td>\n",
              "      <td>3</td>\n",
              "      <td>0</td>\n",
              "      <td>3</td>\n",
              "      <td>2</td>\n",
              "    </tr>\n",
              "    <tr>\n",
              "      <th>1306</th>\n",
              "      <td>166893</td>\n",
              "      <td>EMERGENCY</td>\n",
              "      <td>Medicare</td>\n",
              "      <td>RELIGIOUS</td>\n",
              "      <td>MARRIED</td>\n",
              "      <td>WHITE</td>\n",
              "      <td>PNEUMONIA</td>\n",
              "      <td>F</td>\n",
              "      <td>senior</td>\n",
              "      <td>3</td>\n",
              "      <td>0</td>\n",
              "      <td>0</td>\n",
              "      <td>2</td>\n",
              "      <td>11</td>\n",
              "      <td>1</td>\n",
              "      <td>3</td>\n",
              "      <td>0</td>\n",
              "      <td>4</td>\n",
              "      <td>0</td>\n",
              "    </tr>\n",
              "  </tbody>\n",
              "</table>\n",
              "<p>1307 rows × 19 columns</p>\n",
              "</div>"
            ],
            "text/plain": [
              "      HADM_ID ADMISSION_TYPE INSURANCE  ...  NS Potassium Chloride Vancomycin\n",
              "0      101651      EMERGENCY   Private  ...   0                  5          1\n",
              "1      170467      EMERGENCY  Medicare  ...  16                  8          0\n",
              "2      112077      EMERGENCY  Medicare  ...   0                  0          3\n",
              "3      140037      EMERGENCY  Medicare  ...  18                  9          0\n",
              "4      155897      EMERGENCY  Medicare  ...   0                  0          1\n",
              "...       ...            ...       ...  ...  ..                ...        ...\n",
              "1302   186668      EMERGENCY   Private  ...   1                  5          5\n",
              "1303   146313      EMERGENCY   Private  ...   2                 15          2\n",
              "1304   107472      EMERGENCY  Medicare  ...   0                  0          2\n",
              "1305   110990      EMERGENCY  Medicaid  ...   0                  3          2\n",
              "1306   166893      EMERGENCY  Medicare  ...   0                  4          0\n",
              "\n",
              "[1307 rows x 19 columns]"
            ]
          },
          "metadata": {
            "tags": []
          },
          "execution_count": 143
        }
      ]
    },
    {
      "cell_type": "code",
      "metadata": {
        "id": "wRUENWGyfjsj",
        "colab": {
          "base_uri": "https://localhost:8080/"
        },
        "outputId": "cdb3b7d7-eb87-4823-ade8-43220cfa428c"
      },
      "source": [
        "for drug in top_drug_df_pneumonia:\n",
        "\n",
        "  tmp_anova = df_pneumonia[['ETHNICITY', drug]]\n",
        "  tmp_anova.columns = ['ETHNICITY', 'DRUG']\n",
        "\n",
        "  model = ols('DRUG ~ C(ETHNICITY)', tmp_anova).fit()\n",
        "  table = anova_lm(model)\n",
        "  print(table)"
      ],
      "execution_count": 178,
      "outputs": [
        {
          "output_type": "stream",
          "text": [
            "                  df        sum_sq    mean_sq         F    PR(>F)\n",
            "C(ETHNICITY)     4.0    120.018441  30.004610  0.762702  0.549563\n",
            "Residual      1302.0  51220.546211  39.339897       NaN       NaN\n",
            "                  df        sum_sq     mean_sq         F    PR(>F)\n",
            "C(ETHNICITY)     4.0    699.148785  174.787196  3.928945  0.003552\n",
            "Residual      1302.0  57922.142722   44.487053       NaN       NaN\n",
            "                  df       sum_sq   mean_sq         F    PR(>F)\n",
            "C(ETHNICITY)     4.0    31.691851  7.922963  1.034201  0.388251\n",
            "Residual      1302.0  9974.552984  7.660947       NaN       NaN\n",
            "                  df        sum_sq    mean_sq        F    PR(>F)\n",
            "C(ETHNICITY)     4.0    187.868664  46.967166  1.64068  0.161589\n",
            "Residual      1302.0  37271.889561  28.626643      NaN       NaN\n",
            "                  df        sum_sq    mean_sq         F    PR(>F)\n",
            "C(ETHNICITY)     4.0    235.928318  58.982080  1.717608  0.143606\n",
            "Residual      1302.0  44710.241536  34.339663       NaN       NaN\n",
            "                  df        sum_sq    mean_sq         F   PR(>F)\n",
            "C(ETHNICITY)     4.0     23.819425   5.954856  0.153032  0.96167\n",
            "Residual      1302.0  50664.041325  38.912474       NaN      NaN\n",
            "                  df        sum_sq    mean_sq         F    PR(>F)\n",
            "C(ETHNICITY)     4.0    166.708155  41.677039  1.436636  0.219563\n",
            "Residual      1302.0  37771.232166  29.010163       NaN       NaN\n",
            "                  df       sum_sq   mean_sq         F    PR(>F)\n",
            "C(ETHNICITY)     4.0     5.031424  1.257856  0.223487  0.925373\n",
            "Residual      1302.0  7328.071866  5.628319       NaN       NaN\n",
            "                  df        sum_sq    mean_sq         F    PR(>F)\n",
            "C(ETHNICITY)     4.0     98.896717  24.724179  1.499878  0.199872\n",
            "Residual      1302.0  21462.333581  16.484127       NaN       NaN\n",
            "                  df        sum_sq   mean_sq         F    PR(>F)\n",
            "C(ETHNICITY)     4.0      6.732303  1.683076  0.205924  0.935193\n",
            "Residual      1302.0  10641.619648  8.173287       NaN       NaN\n"
          ],
          "name": "stdout"
        }
      ]
    },
    {
      "cell_type": "code",
      "metadata": {
        "colab": {
          "base_uri": "https://localhost:8080/"
        },
        "id": "ndCnGCT5cDaI",
        "outputId": "401b22fd-0c90-440b-f1f1-2651934d08f6"
      },
      "source": [
        "print(scipy.stats.shapiro(tmp_anova.DRUG[tmp_anova.ETHNICITY == 'WHITE']))\n",
        "print(scipy.stats.shapiro(tmp_anova.DRUG[tmp_anova.ETHNICITY == 'BLACK/AFRICAN AMERICAN']))\n",
        "print(scipy.stats.shapiro(tmp_anova.DRUG[tmp_anova.ETHNICITY == 'HISPANIC/LATINO']))\n",
        "print(scipy.stats.shapiro(tmp_anova.DRUG[tmp_anova.ETHNICITY == 'ASIAN']))"
      ],
      "execution_count": 180,
      "outputs": [
        {
          "output_type": "stream",
          "text": [
            "(0.5286363959312439, 5.605193857299268e-45)\n",
            "(0.7594165205955505, 3.687020916983037e-15)\n",
            "(0.8088471293449402, 6.658110578428023e-07)\n",
            "(0.8559266924858093, 5.2203587983967736e-05)\n"
          ],
          "name": "stdout"
        }
      ]
    },
    {
      "cell_type": "code",
      "metadata": {
        "colab": {
          "base_uri": "https://localhost:8080/",
          "height": 284
        },
        "id": "GZWadSxS3n-e",
        "outputId": "aa9d2d32-0b0b-4f04-927f-bf09dc0d3b03"
      },
      "source": [
        "comp = MultiComparison(tmp_anova.DRUG, tmp_anova.ETHNICITY)\n",
        "result = comp.allpairtest(scipy.stats.ttest_ind, method='bonf')\n",
        "result[0]"
      ],
      "execution_count": 181,
      "outputs": [
        {
          "output_type": "execute_result",
          "data": {
            "text/html": [
              "<table class=\"simpletable\">\n",
              "<caption>Test Multiple Comparison ttest_ind \n",
              "FWER=0.05 method=bonf\n",
              "alphacSidak=0.01, alphacBonf=0.005</caption>\n",
              "<tr>\n",
              "          <th>group1</th>                 <th>group2</th>          <th>stat</th>    <th>pval</th>  <th>pval_corr</th> <th>reject</th>\n",
              "</tr>\n",
              "<tr>\n",
              "           <td>ASIAN</td>         <td>BLACK/AFRICAN AMERICAN</td> <td>0.0708</td>  <td>0.9436</td>    <td>1.0</td>     <td>False</td>\n",
              "</tr>\n",
              "<tr>\n",
              "           <td>ASIAN</td>             <td>HISPANIC/LATINO</td>    <td>0.3602</td>  <td>0.7195</td>    <td>1.0</td>     <td>False</td>\n",
              "</tr>\n",
              "<tr>\n",
              "           <td>ASIAN</td>          <td>UNKNOWN/NOT SPECIFIED</td> <td>0.6498</td>  <td>0.5172</td>    <td>1.0</td>     <td>False</td>\n",
              "</tr>\n",
              "<tr>\n",
              "           <td>ASIAN</td>                  <td>WHITE</td>         <td>0.4642</td>  <td>0.6426</td>    <td>1.0</td>     <td>False</td>\n",
              "</tr>\n",
              "<tr>\n",
              "  <td>BLACK/AFRICAN AMERICAN</td>     <td>HISPANIC/LATINO</td>    <td>0.3203</td>   <td>0.749</td>    <td>1.0</td>     <td>False</td>\n",
              "</tr>\n",
              "<tr>\n",
              "  <td>BLACK/AFRICAN AMERICAN</td>  <td>UNKNOWN/NOT SPECIFIED</td> <td>0.6808</td>  <td>0.4967</td>    <td>1.0</td>     <td>False</td>\n",
              "</tr>\n",
              "<tr>\n",
              "  <td>BLACK/AFRICAN AMERICAN</td>          <td>WHITE</td>         <td>0.7371</td>  <td>0.4612</td>    <td>1.0</td>     <td>False</td>\n",
              "</tr>\n",
              "<tr>\n",
              "      <td>HISPANIC/LATINO</td>     <td>UNKNOWN/NOT SPECIFIED</td> <td>0.2894</td>  <td>0.7728</td>    <td>1.0</td>     <td>False</td>\n",
              "</tr>\n",
              "<tr>\n",
              "      <td>HISPANIC/LATINO</td>             <td>WHITE</td>          <td>0.152</td>  <td>0.8792</td>    <td>1.0</td>     <td>False</td>\n",
              "</tr>\n",
              "<tr>\n",
              "   <td>UNKNOWN/NOT SPECIFIED</td>          <td>WHITE</td>         <td>-0.1322</td> <td>0.8949</td>    <td>1.0</td>     <td>False</td>\n",
              "</tr>\n",
              "</table>"
            ],
            "text/plain": [
              "<class 'statsmodels.iolib.table.SimpleTable'>"
            ]
          },
          "metadata": {
            "tags": []
          },
          "execution_count": 181
        }
      ]
    },
    {
      "cell_type": "code",
      "metadata": {
        "colab": {
          "base_uri": "https://localhost:8080/",
          "height": 267
        },
        "id": "xFZigDVa82zK",
        "outputId": "0d8fe1a6-7506-4f96-c986-87b63906855d"
      },
      "source": [
        "hsd = pairwise_tukeyhsd(tmp_anova['DRUG'], tmp_anova['ETHNICITY'], alpha=0.05)\n",
        "hsd.summary()"
      ],
      "execution_count": 182,
      "outputs": [
        {
          "output_type": "execute_result",
          "data": {
            "text/html": [
              "<table class=\"simpletable\">\n",
              "<caption>Multiple Comparison of Means - Tukey HSD, FWER=0.05</caption>\n",
              "<tr>\n",
              "          <th>group1</th>                 <th>group2</th>         <th>meandiff</th> <th>p-adj</th>  <th>lower</th>   <th>upper</th> <th>reject</th>\n",
              "</tr>\n",
              "<tr>\n",
              "           <td>ASIAN</td>         <td>BLACK/AFRICAN AMERICAN</td>  <td>-0.0283</td>  <td>0.9</td>  <td>-1.3416</td> <td>1.2851</td>  <td>False</td>\n",
              "</tr>\n",
              "<tr>\n",
              "           <td>ASIAN</td>             <td>HISPANIC/LATINO</td>     <td>-0.1481</td>  <td>0.9</td>  <td>-1.7244</td> <td>1.4281</td>  <td>False</td>\n",
              "</tr>\n",
              "<tr>\n",
              "           <td>ASIAN</td>          <td>UNKNOWN/NOT SPECIFIED</td>  <td>-0.2603</td>  <td>0.9</td>  <td>-1.7525</td> <td>1.2318</td>  <td>False</td>\n",
              "</tr>\n",
              "<tr>\n",
              "           <td>ASIAN</td>                  <td>WHITE</td>          <td>-0.2116</td>  <td>0.9</td>  <td>-1.4024</td> <td>0.9792</td>  <td>False</td>\n",
              "</tr>\n",
              "<tr>\n",
              "  <td>BLACK/AFRICAN AMERICAN</td>     <td>HISPANIC/LATINO</td>     <td>-0.1199</td>  <td>0.9</td>  <td>-1.3442</td> <td>1.1045</td>  <td>False</td>\n",
              "</tr>\n",
              "<tr>\n",
              "  <td>BLACK/AFRICAN AMERICAN</td>  <td>UNKNOWN/NOT SPECIFIED</td>  <td>-0.232</td>   <td>0.9</td>  <td>-1.346</td>  <td>0.8819</td>  <td>False</td>\n",
              "</tr>\n",
              "<tr>\n",
              "  <td>BLACK/AFRICAN AMERICAN</td>          <td>WHITE</td>          <td>-0.1833</td>  <td>0.9</td>  <td>-0.8408</td> <td>0.4742</td>  <td>False</td>\n",
              "</tr>\n",
              "<tr>\n",
              "      <td>HISPANIC/LATINO</td>     <td>UNKNOWN/NOT SPECIFIED</td>  <td>-0.1122</td>  <td>0.9</td>  <td>-1.5266</td> <td>1.3023</td>  <td>False</td>\n",
              "</tr>\n",
              "<tr>\n",
              "      <td>HISPANIC/LATINO</td>             <td>WHITE</td>          <td>-0.0635</td>  <td>0.9</td>  <td>-1.1553</td> <td>1.0284</td>  <td>False</td>\n",
              "</tr>\n",
              "<tr>\n",
              "   <td>UNKNOWN/NOT SPECIFIED</td>          <td>WHITE</td>          <td>0.0487</td>   <td>0.9</td>  <td>-0.9177</td> <td>1.0151</td>  <td>False</td>\n",
              "</tr>\n",
              "</table>"
            ],
            "text/plain": [
              "<class 'statsmodels.iolib.table.SimpleTable'>"
            ]
          },
          "metadata": {
            "tags": []
          },
          "execution_count": 182
        }
      ]
    }
  ]
}